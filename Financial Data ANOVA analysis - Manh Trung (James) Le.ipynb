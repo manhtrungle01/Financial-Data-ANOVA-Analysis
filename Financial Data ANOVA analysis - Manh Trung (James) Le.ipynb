{
 "cells": [
  {
   "cell_type": "code",
   "execution_count": 1,
   "metadata": {},
   "outputs": [],
   "source": [
    "%matplotlib inline\n",
    "import pandas as pd\n",
    "import numpy as np\n",
    "import matplotlib.pyplot as plt\n",
    "import seaborn as sns\n",
    "from scipy import stats\n",
    "import statsmodels.api as sm\n",
    "lowess = sm.nonparametric.lowess\n",
    "import statsmodels.formula.api as smf\n",
    "from statsmodels.stats.anova import anova_lm\n",
    "from statsmodels.stats.multicomp import pairwise_tukeyhsd\n",
    "from statsmodels.stats.multicomp import MultiComparison"
   ]
  },
  {
   "cell_type": "code",
   "execution_count": 2,
   "metadata": {},
   "outputs": [],
   "source": [
    "data = pd.read_csv(\"C:/Users/Admin/OneDrive - The University of Sydney (Students)/Desktop/QBUS2810/Assignment 2/Mydata.csv\")\n",
    "data['log_RV_sc_sqr'] = np.log(data['RV_sc_sqr'])"
   ]
  },
  {
   "cell_type": "code",
   "execution_count": 3,
   "metadata": {},
   "outputs": [
    {
     "data": {
      "text/html": [
       "<div>\n",
       "<style scoped>\n",
       "    .dataframe tbody tr th:only-of-type {\n",
       "        vertical-align: middle;\n",
       "    }\n",
       "\n",
       "    .dataframe tbody tr th {\n",
       "        vertical-align: top;\n",
       "    }\n",
       "\n",
       "    .dataframe thead th {\n",
       "        text-align: right;\n",
       "    }\n",
       "</style>\n",
       "<table border=\"1\" class=\"dataframe\">\n",
       "  <thead>\n",
       "    <tr style=\"text-align: right;\">\n",
       "      <th></th>\n",
       "      <th>r_data</th>\n",
       "      <th>rv_data_not_scaled</th>\n",
       "      <th>day_of_week</th>\n",
       "      <th>Mon</th>\n",
       "      <th>Tues</th>\n",
       "      <th>Wed</th>\n",
       "      <th>Thurs</th>\n",
       "      <th>Fri</th>\n",
       "      <th>month_yr</th>\n",
       "      <th>Summer</th>\n",
       "      <th>Autumn</th>\n",
       "      <th>Winter</th>\n",
       "      <th>Spring</th>\n",
       "      <th>Season</th>\n",
       "      <th>RV_sc_sqr</th>\n",
       "      <th>log_RV_sc_sqr</th>\n",
       "    </tr>\n",
       "    <tr>\n",
       "      <th>Date</th>\n",
       "      <th></th>\n",
       "      <th></th>\n",
       "      <th></th>\n",
       "      <th></th>\n",
       "      <th></th>\n",
       "      <th></th>\n",
       "      <th></th>\n",
       "      <th></th>\n",
       "      <th></th>\n",
       "      <th></th>\n",
       "      <th></th>\n",
       "      <th></th>\n",
       "      <th></th>\n",
       "      <th></th>\n",
       "      <th></th>\n",
       "      <th></th>\n",
       "    </tr>\n",
       "  </thead>\n",
       "  <tbody>\n",
       "    <tr>\n",
       "      <th>2000-07-14</th>\n",
       "      <td>-0.000908</td>\n",
       "      <td>0.000016</td>\n",
       "      <td>4</td>\n",
       "      <td>0</td>\n",
       "      <td>0</td>\n",
       "      <td>0</td>\n",
       "      <td>0</td>\n",
       "      <td>1</td>\n",
       "      <td>7</td>\n",
       "      <td>0</td>\n",
       "      <td>0</td>\n",
       "      <td>1</td>\n",
       "      <td>0</td>\n",
       "      <td>3</td>\n",
       "      <td>0.398397</td>\n",
       "      <td>-0.920305</td>\n",
       "    </tr>\n",
       "    <tr>\n",
       "      <th>2000-07-17</th>\n",
       "      <td>0.002992</td>\n",
       "      <td>0.000026</td>\n",
       "      <td>0</td>\n",
       "      <td>1</td>\n",
       "      <td>0</td>\n",
       "      <td>0</td>\n",
       "      <td>0</td>\n",
       "      <td>0</td>\n",
       "      <td>7</td>\n",
       "      <td>0</td>\n",
       "      <td>0</td>\n",
       "      <td>1</td>\n",
       "      <td>0</td>\n",
       "      <td>3</td>\n",
       "      <td>0.509046</td>\n",
       "      <td>-0.675217</td>\n",
       "    </tr>\n",
       "    <tr>\n",
       "      <th>2000-07-18</th>\n",
       "      <td>-0.003871</td>\n",
       "      <td>0.000032</td>\n",
       "      <td>1</td>\n",
       "      <td>0</td>\n",
       "      <td>1</td>\n",
       "      <td>0</td>\n",
       "      <td>0</td>\n",
       "      <td>0</td>\n",
       "      <td>7</td>\n",
       "      <td>0</td>\n",
       "      <td>0</td>\n",
       "      <td>1</td>\n",
       "      <td>0</td>\n",
       "      <td>3</td>\n",
       "      <td>0.564357</td>\n",
       "      <td>-0.572068</td>\n",
       "    </tr>\n",
       "    <tr>\n",
       "      <th>2000-07-19</th>\n",
       "      <td>-0.000303</td>\n",
       "      <td>0.000042</td>\n",
       "      <td>2</td>\n",
       "      <td>0</td>\n",
       "      <td>0</td>\n",
       "      <td>1</td>\n",
       "      <td>0</td>\n",
       "      <td>0</td>\n",
       "      <td>7</td>\n",
       "      <td>0</td>\n",
       "      <td>0</td>\n",
       "      <td>1</td>\n",
       "      <td>0</td>\n",
       "      <td>3</td>\n",
       "      <td>0.649018</td>\n",
       "      <td>-0.432295</td>\n",
       "    </tr>\n",
       "    <tr>\n",
       "      <th>2000-07-21</th>\n",
       "      <td>0.009468</td>\n",
       "      <td>0.000037</td>\n",
       "      <td>4</td>\n",
       "      <td>0</td>\n",
       "      <td>0</td>\n",
       "      <td>0</td>\n",
       "      <td>0</td>\n",
       "      <td>1</td>\n",
       "      <td>7</td>\n",
       "      <td>0</td>\n",
       "      <td>0</td>\n",
       "      <td>1</td>\n",
       "      <td>0</td>\n",
       "      <td>3</td>\n",
       "      <td>0.607634</td>\n",
       "      <td>-0.498183</td>\n",
       "    </tr>\n",
       "  </tbody>\n",
       "</table>\n",
       "</div>"
      ],
      "text/plain": [
       "              r_data  rv_data_not_scaled  day_of_week  Mon  Tues  Wed  Thurs  \\\n",
       "Date                                                                           \n",
       "2000-07-14 -0.000908            0.000016            4    0     0    0      0   \n",
       "2000-07-17  0.002992            0.000026            0    1     0    0      0   \n",
       "2000-07-18 -0.003871            0.000032            1    0     1    0      0   \n",
       "2000-07-19 -0.000303            0.000042            2    0     0    1      0   \n",
       "2000-07-21  0.009468            0.000037            4    0     0    0      0   \n",
       "\n",
       "            Fri  month_yr  Summer  Autumn  Winter  Spring  Season  RV_sc_sqr  \\\n",
       "Date                                                                           \n",
       "2000-07-14    1         7       0       0       1       0       3   0.398397   \n",
       "2000-07-17    0         7       0       0       1       0       3   0.509046   \n",
       "2000-07-18    0         7       0       0       1       0       3   0.564357   \n",
       "2000-07-19    0         7       0       0       1       0       3   0.649018   \n",
       "2000-07-21    1         7       0       0       1       0       3   0.607634   \n",
       "\n",
       "            log_RV_sc_sqr  \n",
       "Date                       \n",
       "2000-07-14      -0.920305  \n",
       "2000-07-17      -0.675217  \n",
       "2000-07-18      -0.572068  \n",
       "2000-07-19      -0.432295  \n",
       "2000-07-21      -0.498183  "
      ]
     },
     "execution_count": 3,
     "metadata": {},
     "output_type": "execute_result"
    }
   ],
   "source": [
    "data.sort_values(by='Date', inplace=True)\n",
    "data.set_index('Date',inplace=True)\n",
    "data.head()"
   ]
  },
  {
   "cell_type": "markdown",
   "metadata": {},
   "source": [
    "As the default setting of the code stats.describe(), some Kurtosis may have the negative values, which is due to the use of Fisher's kurtosis measurement, which is $E[(\\frac{X-\\mu}{\\sigma})^{4}]-3$. Thus, the following comments on kutosis in each group will consider 0 as a benchmark for whether the kurtosis are either high or low and such kurtosis mentioned will be the Fisher's kurtosis."
   ]
  },
  {
   "cell_type": "markdown",
   "metadata": {},
   "source": [
    "## Part 1: Exploratory data analysis"
   ]
  },
  {
   "cell_type": "markdown",
   "metadata": {},
   "source": [
    "<span style=\"color:red\">Exploratory analysis for the square root of 5 min RV</span>"
   ]
  },
  {
   "cell_type": "code",
   "execution_count": 4,
   "metadata": {},
   "outputs": [
    {
     "data": {
      "text/plain": [
       "<AxesSubplot:xlabel='Date'>"
      ]
     },
     "execution_count": 4,
     "metadata": {},
     "output_type": "execute_result"
    },
    {
     "data": {
      "image/png": "[encoded data removed]",
      "text/plain": [
       "<Figure size 432x288 with 1 Axes>"
      ]
     },
     "metadata": {
      "needs_background": "light"
     },
     "output_type": "display_data"
    }
   ],
   "source": [
    "data['RV_sc_sqr'].plot()"
   ]
  },
  {
   "cell_type": "code",
   "execution_count": 5,
   "metadata": {},
   "outputs": [
    {
     "data": {
      "image/png": "[encoded data removed]",
      "text/plain": [
       "<Figure size 432x288 with 1 Axes>"
      ]
     },
     "metadata": {
      "needs_background": "light"
     },
     "output_type": "display_data"
    }
   ],
   "source": [
    "plt.hist(data['RV_sc_sqr'])\n",
    "plt.show()"
   ]
  },
  {
   "cell_type": "code",
   "execution_count": 6,
   "metadata": {},
   "outputs": [
    {
     "data": {
      "text/plain": [
       "<AxesSubplot:xlabel='RV_sc_sqr', ylabel='Count'>"
      ]
     },
     "execution_count": 6,
     "metadata": {},
     "output_type": "execute_result"
    },
    {
     "data": {
      "image/png": "[encoded data removed]",
      "text/plain": [
       "<Figure size 432x288 with 1 Axes>"
      ]
     },
     "metadata": {
      "needs_background": "light"
     },
     "output_type": "display_data"
    }
   ],
   "source": [
    "sns.histplot(data['RV_sc_sqr'], kde=False)"
   ]
  },
  {
   "cell_type": "code",
   "execution_count": 7,
   "metadata": {},
   "outputs": [
    {
     "data": {
      "image/png": "[encoded data removed]",
      "text/plain": [
       "<Figure size 432x288 with 1 Axes>"
      ]
     },
     "metadata": {
      "needs_background": "light"
     },
     "output_type": "display_data"
    }
   ],
   "source": [
    "ax = sns.boxplot(y='RV_sc_sqr', data=data, palette='Blues', showmeans=True)"
   ]
  },
  {
   "cell_type": "code",
   "execution_count": 8,
   "metadata": {},
   "outputs": [
    {
     "data": {
      "text/plain": [
       "DescribeResult(nobs=2500, minmax=(0.09899360425299146, 3.972354140179674), mean=0.6632923904818957, variance=0.16076983570675618, skewness=2.528557168860069, kurtosis=10.710493278212448)"
      ]
     },
     "execution_count": 8,
     "metadata": {},
     "output_type": "execute_result"
    }
   ],
   "source": [
    "stats.describe(data['RV_sc_sqr'])"
   ]
  },
  {
   "cell_type": "code",
   "execution_count": 9,
   "metadata": {},
   "outputs": [
    {
     "data": {
      "text/plain": [
       "count    2500.000000\n",
       "mean        0.663292\n",
       "std         0.400961\n",
       "min         0.098994\n",
       "25%         0.406563\n",
       "50%         0.557808\n",
       "75%         0.797444\n",
       "max         3.972354\n",
       "Name: RV_sc_sqr, dtype: float64"
      ]
     },
     "execution_count": 9,
     "metadata": {},
     "output_type": "execute_result"
    }
   ],
   "source": [
    "data['RV_sc_sqr'].describe()"
   ]
  },
  {
   "cell_type": "markdown",
   "metadata": {},
   "source": [
    "First of all, from the financial nature of RV, this should be regarded as a numerical variable and also a continuous random variable.\n",
    "\n",
    "From the above numerical summary, it can be seen that among 2500 RV values for 2500 provided observations, there is a significant difference between the maximum RV and the minimum one at 3.87% (3.97%-0.10%) and almost 40 times (3.87%/0.10%) higher. Additionally, the mean RV value for the sample is observed at 0.66% and the standard deviation also reaches a level of 0.40% , which lead to coefficient of variation (i.e $CV=\\frac{S}{\\bar{X}} \\times 100$) recorded as 60.61%. Moreover, the 25, 50, and 75 percentile are reported to be approximately 0.41%, 0.56%,and 0.80% respectively. Thus, the resulting interquartile range is around 0.39%.\n",
    "\n",
    "According to the histogram and the boxplot, it has been recognized the expected right skewness of the RV distribution. Besides, by examining the skewness of 2.5285571688600696 and kurtosis of 10.710493278212446, the distribution of RV should be right-skewed and loptokurtic. Thus, RV distribution is extremely right, i.e positively skewed variable. Other than that, there are some possible outliers in the long right tail of the distribution, above about 1.5%, according from the boxplot. Turning to the histogram, most of the values concentrates within the range from 0.41% to just below 1.5% and the minority group of RV values (i.e outlying data) is spreaded from just over 1.5% to 3.97%. \n",
    "\n",
    "In spite of being regarded as minority group, according to the boxplot, the outliers in this sample tend to appear more than just accidentally due to its high frequency and thus, contribute to the extreme right skewness of the RV distribution. Thus, the finite value of the mean and the variance needs to be cautiously assessed. \n",
    "\n",
    "From the time series plot, RV displays a strong pattern over time: there are periods of persistent high volatility and at other times periods of  persistent low volatility. High values of RV tend to follow high values of RV; and vice versa. "
   ]
  },
  {
   "cell_type": "markdown",
   "metadata": {},
   "source": [
    "<span style=\"color:red\">Exploratory analysis for day of the week</span>"
   ]
  },
  {
   "cell_type": "code",
   "execution_count": 10,
   "metadata": {},
   "outputs": [
    {
     "data": {
      "text/plain": [
       "DescribeResult(nobs=2500, minmax=(0, 4), mean=1.9748, variance=1.9573478991596636, skewness=0.026429621984297665, kurtosis=-1.2762844079583047)"
      ]
     },
     "execution_count": 10,
     "metadata": {},
     "output_type": "execute_result"
    }
   ],
   "source": [
    "stats.describe(data['day_of_week'])"
   ]
  },
  {
   "cell_type": "code",
   "execution_count": 11,
   "metadata": {},
   "outputs": [
    {
     "data": {
      "image/png": "[encoded data removed]",
      "text/plain": [
       "<Figure size 432x288 with 1 Axes>"
      ]
     },
     "metadata": {
      "needs_background": "light"
     },
     "output_type": "display_data"
    }
   ],
   "source": [
    "ax = sns.countplot(x='day_of_week', data=data)"
   ]
  },
  {
   "cell_type": "code",
   "execution_count": 12,
   "metadata": {},
   "outputs": [
    {
     "data": {
      "text/plain": [
       "(494, 523, 508, 502, 473)"
      ]
     },
     "execution_count": 12,
     "metadata": {},
     "output_type": "execute_result"
    }
   ],
   "source": [
    "data.loc[data['day_of_week']==0,'RV_sc_sqr'].count(), data.loc[data['day_of_week']==1,'RV_sc_sqr'].count(), data.loc[data['day_of_week']==2,'RV_sc_sqr'].count(), data.loc[data['day_of_week']==3,'RV_sc_sqr'].count(), data.loc[data['day_of_week']==4,'RV_sc_sqr'].count()"
   ]
  },
  {
   "cell_type": "markdown",
   "metadata": {},
   "source": [
    "First of all, it should be noticed that value of 0 is assigned for any day that is monday. In a similar manner, the numbers 1,2,3,4 are assigned to Tuesday, Wednesday, Thursday, and Friday respectively.\n",
    "\n",
    "Day of the week variable, in spite of being represented by numbers 0,1,2,3,4, must be regarded as a categorical and also a nominal random variable.\n",
    "\n",
    "From the numerical summary, in the provided sample, we have 494 observations from Monday, 523 observations from Tuesday, 508 observations from Wednesday, 502 observations from Thursday, and 473 oberservations from Friday. Hence, the data comes evenly from 5 days of the week, which can prevent any over representation in our later interpretation and inference."
   ]
  },
  {
   "cell_type": "markdown",
   "metadata": {},
   "source": [
    "<span style=\"color:red\">Exploratory analysis for season of the year</span>"
   ]
  },
  {
   "cell_type": "code",
   "execution_count": 13,
   "metadata": {},
   "outputs": [
    {
     "data": {
      "text/plain": [
       "DescribeResult(nobs=2500, minmax=(1, 4), mean=2.516, variance=1.2342376950780312, skewness=-0.015779549356396597, kurtosis=-1.3431123872405983)"
      ]
     },
     "execution_count": 13,
     "metadata": {},
     "output_type": "execute_result"
    }
   ],
   "source": [
    "stats.describe(data['Season'])"
   ]
  },
  {
   "cell_type": "code",
   "execution_count": 14,
   "metadata": {},
   "outputs": [
    {
     "data": {
      "image/png": "[encoded data removed]",
      "text/plain": [
       "<Figure size 432x288 with 1 Axes>"
      ]
     },
     "metadata": {
      "needs_background": "light"
     },
     "output_type": "display_data"
    }
   ],
   "source": [
    "ax = sns.countplot(x='Season', data=data)"
   ]
  },
  {
   "cell_type": "code",
   "execution_count": 15,
   "metadata": {},
   "outputs": [
    {
     "data": {
      "text/plain": [
       "(601, 637, 633, 629)"
      ]
     },
     "execution_count": 15,
     "metadata": {},
     "output_type": "execute_result"
    }
   ],
   "source": [
    "data.loc[data['Season']==1,'RV_sc_sqr'].count(), data.loc[data['Season']==2,'RV_sc_sqr'].count(), data.loc[data['Season']==3,'RV_sc_sqr'].count(), data.loc[data['Season']==4,'RV_sc_sqr'].count()"
   ]
  },
  {
   "cell_type": "markdown",
   "metadata": {},
   "source": [
    "First of all, it should be noticed that value of 1 is assigned for any day that is in Summer . In a similar manner, the numbers 2,3,4 are assigned to Autumn, Winter, and Spring respectively.\n",
    "\n",
    "Season of  the year variable, in spite of being represented by numbers 1,2,3,4, must be regarded as a categorical and also a nominal random variable.\n",
    "\n",
    "From the numerical summary, in the provided 2500 days' data, we have 601 observations from Summer, 637 observations from Autumn, 633 observations from Winter, and 629 observations from Spring. Hence, the data comes evenly from 4 seasons of the year, which can prevent any over representation in our later interpretation and inference."
   ]
  },
  {
   "cell_type": "markdown",
   "metadata": {},
   "source": [
    "<span style=\"color:red\">Exploratory analysis for relationship between day of the week and the square root of 5 min RV\n",
    "</span>"
   ]
  },
  {
   "cell_type": "code",
   "execution_count": 16,
   "metadata": {},
   "outputs": [
    {
     "data": {
      "image/png": "[encoded data removed]",
      "text/plain": [
       "<Figure size 432x288 with 1 Axes>"
      ]
     },
     "metadata": {
      "needs_background": "light"
     },
     "output_type": "display_data"
    }
   ],
   "source": [
    "ax = sns.boxplot(x='day_of_week', y='RV_sc_sqr', data=data, palette='Blues', showmeans=True)"
   ]
  },
  {
   "cell_type": "code",
   "execution_count": 17,
   "metadata": {},
   "outputs": [
    {
     "data": {
      "text/plain": [
       "DescribeResult(nobs=494, minmax=(0.17781973316971122, 2.588705320670433), mean=0.6769192095630774, variance=0.14681615406221565, skewness=1.802749461633119, kurtosis=4.096893795806295)"
      ]
     },
     "execution_count": 17,
     "metadata": {},
     "output_type": "execute_result"
    }
   ],
   "source": [
    "stats.describe(data.loc[data['Mon'] == 1, 'RV_sc_sqr'])"
   ]
  },
  {
   "cell_type": "code",
   "execution_count": 18,
   "metadata": {},
   "outputs": [
    {
     "data": {
      "text/plain": [
       "count    494.000000\n",
       "mean       0.676919\n",
       "std        0.383166\n",
       "min        0.177820\n",
       "25%        0.426537\n",
       "50%        0.563251\n",
       "75%        0.818781\n",
       "max        2.588705\n",
       "Name: RV_sc_sqr, dtype: float64"
      ]
     },
     "execution_count": 18,
     "metadata": {},
     "output_type": "execute_result"
    }
   ],
   "source": [
    "data.loc[data['Mon'] == 1, 'RV_sc_sqr'].describe()"
   ]
  },
  {
   "cell_type": "code",
   "execution_count": 19,
   "metadata": {},
   "outputs": [
    {
     "data": {
      "text/plain": [
       "DescribeResult(nobs=523, minmax=(0.16414632582293032, 3.972354140179674), mean=0.6826682117516948, variance=0.19440123414356433, skewness=3.183767048426224, kurtosis=15.760475066381744)"
      ]
     },
     "execution_count": 19,
     "metadata": {},
     "output_type": "execute_result"
    }
   ],
   "source": [
    "stats.describe(data.loc[data['Tues'] == 1, 'RV_sc_sqr'])"
   ]
  },
  {
   "cell_type": "code",
   "execution_count": 20,
   "metadata": {},
   "outputs": [
    {
     "data": {
      "text/plain": [
       "count    523.000000\n",
       "mean       0.682668\n",
       "std        0.440910\n",
       "min        0.164146\n",
       "25%        0.423333\n",
       "50%        0.556359\n",
       "75%        0.808012\n",
       "max        3.972354\n",
       "Name: RV_sc_sqr, dtype: float64"
      ]
     },
     "execution_count": 20,
     "metadata": {},
     "output_type": "execute_result"
    }
   ],
   "source": [
    "data.loc[data['Tues'] == 1, 'RV_sc_sqr'].describe()"
   ]
  },
  {
   "cell_type": "code",
   "execution_count": 21,
   "metadata": {},
   "outputs": [
    {
     "data": {
      "text/plain": [
       "DescribeResult(nobs=508, minmax=(0.14593661524433268, 3.476574804127217), mean=0.6996954932949411, variance=0.18185394929647822, skewness=2.8216414525715683, kurtosis=11.792398112367541)"
      ]
     },
     "execution_count": 21,
     "metadata": {},
     "output_type": "execute_result"
    }
   ],
   "source": [
    "stats.describe(data.loc[data['Wed'] == 1, 'RV_sc_sqr'])"
   ]
  },
  {
   "cell_type": "code",
   "execution_count": 22,
   "metadata": {},
   "outputs": [
    {
     "data": {
      "text/plain": [
       "count    508.000000\n",
       "mean       0.699695\n",
       "std        0.426443\n",
       "min        0.145937\n",
       "25%        0.438688\n",
       "50%        0.602435\n",
       "75%        0.815977\n",
       "max        3.476575\n",
       "Name: RV_sc_sqr, dtype: float64"
      ]
     },
     "execution_count": 22,
     "metadata": {},
     "output_type": "execute_result"
    }
   ],
   "source": [
    "data.loc[data['Wed'] == 1, 'RV_sc_sqr'].describe()"
   ]
  },
  {
   "cell_type": "code",
   "execution_count": 23,
   "metadata": {},
   "outputs": [
    {
     "data": {
      "text/plain": [
       "DescribeResult(nobs=502, minmax=(0.09899360425299146, 3.442913078670329), mean=0.6957963344053396, variance=0.1493106938272709, skewness=1.8590918021931961, kurtosis=5.879884796630723)"
      ]
     },
     "execution_count": 23,
     "metadata": {},
     "output_type": "execute_result"
    }
   ],
   "source": [
    "stats.describe(data.loc[data['Thurs'] == 1, 'RV_sc_sqr'])"
   ]
  },
  {
   "cell_type": "code",
   "execution_count": 24,
   "metadata": {},
   "outputs": [
    {
     "data": {
      "text/plain": [
       "count    502.000000\n",
       "mean       0.695796\n",
       "std        0.386407\n",
       "min        0.098994\n",
       "25%        0.425119\n",
       "50%        0.598843\n",
       "75%        0.842026\n",
       "max        3.442913\n",
       "Name: RV_sc_sqr, dtype: float64"
      ]
     },
     "execution_count": 24,
     "metadata": {},
     "output_type": "execute_result"
    }
   ],
   "source": [
    "data.loc[data['Thurs'] == 1, 'RV_sc_sqr'].describe()"
   ]
  },
  {
   "cell_type": "code",
   "execution_count": 25,
   "metadata": {},
   "outputs": [
    {
     "data": {
      "text/plain": [
       "DescribeResult(nobs=473, minmax=(0.15157873264355987, 2.5656397590835023), mean=0.5540430052201519, variance=0.11390742858897021, skewness=2.34150709545833, kurtosis=8.50359116632589)"
      ]
     },
     "execution_count": 25,
     "metadata": {},
     "output_type": "execute_result"
    }
   ],
   "source": [
    "stats.describe(data.loc[data['Fri'] == 1, 'RV_sc_sqr'])"
   ]
  },
  {
   "cell_type": "code",
   "execution_count": 26,
   "metadata": {},
   "outputs": [
    {
     "data": {
      "text/plain": [
       "count    473.000000\n",
       "mean       0.554043\n",
       "std        0.337502\n",
       "min        0.151579\n",
       "25%        0.332184\n",
       "50%        0.458785\n",
       "75%        0.686652\n",
       "max        2.565640\n",
       "Name: RV_sc_sqr, dtype: float64"
      ]
     },
     "execution_count": 26,
     "metadata": {},
     "output_type": "execute_result"
    }
   ],
   "source": [
    "data.loc[data['Fri'] == 1, 'RV_sc_sqr'].describe()"
   ]
  },
  {
   "cell_type": "markdown",
   "metadata": {},
   "source": [
    "From the side-by-side boxplots, it can be seen that the five numerical summary of RV distribution in Monday, Tuesday, Wednesday, and Thursday are quite similar while that of Friday seems to be significantly lower than the others. Other than that, from the histogram, all these five distributions all have very right skewness and subject to considerable numbers of outliers.\n",
    "\n",
    "To examine the difference quantitatively, the mean RV values for Monday, Tuesday, Wednesday, Thursday, and Friday are 0.68%, 0.68%, 0.70%, 0.70%, and 0.55% respectively, which reflects the similarities of mean RV values across the first 4 days of the week and highlights the inferiority of mean RV values of Friday as compared to that of the previous 4 days. Furthermore, the same discoveried pattern can be also oberseved as considering the median RV values of the 5 days (0.56%, 0.56%, 0.60%, 0.60%, and 0.46%).\n",
    "\n",
    "Although there is a difference of RV values in Friday as compared to the other days of the week, the impact of day of the week on the square root of 5 min RV seems to be insignificant as evaluating informally. The boxplots illustrate humbly significant marginal effects of each category predictor on the square root of 5 min RV."
   ]
  },
  {
   "cell_type": "markdown",
   "metadata": {},
   "source": [
    "<span style=\"color:red\">Exploratory analysis for relationship between season of the year and the square root of 5 min RV\n",
    "</span>"
   ]
  },
  {
   "cell_type": "code",
   "execution_count": 27,
   "metadata": {},
   "outputs": [
    {
     "data": {
      "image/png": "[encoded data removed]",
      "text/plain": [
       "<Figure size 432x288 with 1 Axes>"
      ]
     },
     "metadata": {
      "needs_background": "light"
     },
     "output_type": "display_data"
    }
   ],
   "source": [
    "ax = sns.boxplot(x='Season', y='RV_sc_sqr', data=data, palette='Blues', showmeans=True)"
   ]
  },
  {
   "cell_type": "code",
   "execution_count": 28,
   "metadata": {},
   "outputs": [
    {
     "data": {
      "text/plain": [
       "DescribeResult(nobs=601, minmax=(0.14593661524433268, 2.377113745955564), mean=0.6061528370001942, variance=0.13284075184157654, skewness=1.8668554095719934, kurtosis=4.2002642640547885)"
      ]
     },
     "execution_count": 28,
     "metadata": {},
     "output_type": "execute_result"
    }
   ],
   "source": [
    "stats.describe(data.loc[data['Summer'] == 1, 'RV_sc_sqr'])"
   ]
  },
  {
   "cell_type": "code",
   "execution_count": 29,
   "metadata": {},
   "outputs": [
    {
     "data": {
      "text/plain": [
       "count    601.000000\n",
       "mean       0.606153\n",
       "std        0.364473\n",
       "min        0.145937\n",
       "25%        0.367008\n",
       "50%        0.501545\n",
       "75%        0.710157\n",
       "max        2.377114\n",
       "Name: RV_sc_sqr, dtype: float64"
      ]
     },
     "execution_count": 29,
     "metadata": {},
     "output_type": "execute_result"
    }
   ],
   "source": [
    "data.loc[data['Summer'] == 1, 'RV_sc_sqr'].describe()"
   ]
  },
  {
   "cell_type": "code",
   "execution_count": 30,
   "metadata": {
    "scrolled": true
   },
   "outputs": [
    {
     "data": {
      "text/plain": [
       "DescribeResult(nobs=637, minmax=(0.09899360425299146, 2.6701594554810617), mean=0.6500693410845713, variance=0.11705986299010045, skewness=2.0811283733320587, kurtosis=6.854220201843347)"
      ]
     },
     "execution_count": 30,
     "metadata": {},
     "output_type": "execute_result"
    }
   ],
   "source": [
    "stats.describe(data.loc[data['Autumn'] == 1, 'RV_sc_sqr'])"
   ]
  },
  {
   "cell_type": "code",
   "execution_count": 31,
   "metadata": {},
   "outputs": [
    {
     "data": {
      "text/plain": [
       "count    637.000000\n",
       "mean       0.650069\n",
       "std        0.342140\n",
       "min        0.098994\n",
       "25%        0.415261\n",
       "50%        0.566565\n",
       "75%        0.789247\n",
       "max        2.670159\n",
       "Name: RV_sc_sqr, dtype: float64"
      ]
     },
     "execution_count": 31,
     "metadata": {},
     "output_type": "execute_result"
    }
   ],
   "source": [
    "data.loc[data['Autumn'] == 1, 'RV_sc_sqr'].describe()"
   ]
  },
  {
   "cell_type": "code",
   "execution_count": 32,
   "metadata": {},
   "outputs": [
    {
     "data": {
      "text/plain": [
       "DescribeResult(nobs=633, minmax=(0.16742626189733528, 3.972354140179674), mean=0.6964481911385064, variance=0.15819219312872743, skewness=2.5290789002959877, kurtosis=11.996324798696621)"
      ]
     },
     "execution_count": 32,
     "metadata": {},
     "output_type": "execute_result"
    }
   ],
   "source": [
    "stats.describe(data.loc[data['Winter'] == 1, 'RV_sc_sqr'])"
   ]
  },
  {
   "cell_type": "code",
   "execution_count": 33,
   "metadata": {},
   "outputs": [
    {
     "data": {
      "text/plain": [
       "count    633.000000\n",
       "mean       0.696448\n",
       "std        0.397734\n",
       "min        0.167426\n",
       "25%        0.435890\n",
       "50%        0.612434\n",
       "75%        0.842058\n",
       "max        3.972354\n",
       "Name: RV_sc_sqr, dtype: float64"
      ]
     },
     "execution_count": 33,
     "metadata": {},
     "output_type": "execute_result"
    }
   ],
   "source": [
    "data.loc[data['Winter'] == 1, 'RV_sc_sqr'].describe()"
   ]
  },
  {
   "cell_type": "code",
   "execution_count": 34,
   "metadata": {},
   "outputs": [
    {
     "data": {
      "text/plain": [
       "DescribeResult(nobs=629, minmax=(0.1644602264513405, 3.733462153433888), mean=0.6979129505660984, variance=0.22947206731542763, skewness=2.7744033952547618, kurtosis=10.889638070016332)"
      ]
     },
     "execution_count": 34,
     "metadata": {},
     "output_type": "execute_result"
    }
   ],
   "source": [
    "stats.describe(data.loc[data['Spring'] == 1, 'RV_sc_sqr'])"
   ]
  },
  {
   "cell_type": "code",
   "execution_count": 35,
   "metadata": {},
   "outputs": [
    {
     "data": {
      "text/plain": [
       "count    629.000000\n",
       "mean       0.697913\n",
       "std        0.479032\n",
       "min        0.164460\n",
       "25%        0.406652\n",
       "50%        0.559652\n",
       "75%        0.818822\n",
       "max        3.733462\n",
       "Name: RV_sc_sqr, dtype: float64"
      ]
     },
     "execution_count": 35,
     "metadata": {},
     "output_type": "execute_result"
    }
   ],
   "source": [
    "data.loc[data['Spring'] == 1, 'RV_sc_sqr'].describe()"
   ]
  },
  {
   "cell_type": "markdown",
   "metadata": {},
   "source": [
    "From the side-by-side boxplots, it can be seen that the five numerical summary of RV distribution in Summer, Autumn, Winter, and Spring are quite similar although that of Summer and Autumn seem to be slightly lower than the others. Other than that, from the histogram, all these four distributions all have very right skewness and subject to considerable numbers of outliers.\n",
    "\n",
    "To examine the difference quantitatively, the mean RV values for Summer, Autumn, Winter, and Spring are 0.61%, 0.65%, 0.70%, and 0.70% respectively, which reflects the similarities of mean RV values across the later 2 seasons of the year and highlights the inferiority of mean RV values of Summer and Autumn as compared to that of Winter and Spring. Furthermore, the same discoveried pattern can be also oberseved as considering the median RV values of 4 mentioned seasons (0.50%, 0.57%, 0.61%, and 0.60%).\n",
    "\n",
    "Although there is a difference of RV values in the first half of the year and the later half one, the impact of day of the week on the square root of 5 min RV seems to be insignificant with the above informal exploratory analysis. The boxplots illustrate humbly significant marginal effects of each category predictor on the square root of 5 min RV."
   ]
  },
  {
   "cell_type": "markdown",
   "metadata": {},
   "source": [
    "<span style=\"color:red\">Exploratory analysis for the log of the square root of 5 min RV</span>"
   ]
  },
  {
   "cell_type": "code",
   "execution_count": 36,
   "metadata": {},
   "outputs": [
    {
     "data": {
      "text/plain": [
       "<AxesSubplot:xlabel='Date'>"
      ]
     },
     "execution_count": 36,
     "metadata": {},
     "output_type": "execute_result"
    },
    {
     "data": {
      "image/png": "[encoded data removed]",
      "text/plain": [
       "<Figure size 432x288 with 1 Axes>"
      ]
     },
     "metadata": {
      "needs_background": "light"
     },
     "output_type": "display_data"
    }
   ],
   "source": [
    "data['log_RV_sc_sqr'].plot()"
   ]
  },
  {
   "cell_type": "code",
   "execution_count": 37,
   "metadata": {},
   "outputs": [
    {
     "data": {
      "image/png": "[encoded data removed]",
      "text/plain": [
       "<Figure size 432x288 with 1 Axes>"
      ]
     },
     "metadata": {
      "needs_background": "light"
     },
     "output_type": "display_data"
    }
   ],
   "source": [
    "plt.hist(data['log_RV_sc_sqr'])\n",
    "plt.show()"
   ]
  },
  {
   "cell_type": "code",
   "execution_count": 38,
   "metadata": {},
   "outputs": [
    {
     "data": {
      "text/plain": [
       "<AxesSubplot:xlabel='log_RV_sc_sqr', ylabel='Count'>"
      ]
     },
     "execution_count": 38,
     "metadata": {},
     "output_type": "execute_result"
    },
    {
     "data": {
      "image/png": "[encoded data removed]",
      "text/plain": [
       "<Figure size 432x288 with 1 Axes>"
      ]
     },
     "metadata": {
      "needs_background": "light"
     },
     "output_type": "display_data"
    }
   ],
   "source": [
    "sns.histplot(data['log_RV_sc_sqr'], kde=False)"
   ]
  },
  {
   "cell_type": "code",
   "execution_count": 39,
   "metadata": {},
   "outputs": [
    {
     "data": {
      "image/png": "[encoded data removed]",
      "text/plain": [
       "<Figure size 432x288 with 1 Axes>"
      ]
     },
     "metadata": {
      "needs_background": "light"
     },
     "output_type": "display_data"
    }
   ],
   "source": [
    "ax = sns.boxplot(y='log_RV_sc_sqr', data=data, palette='Blues', showmeans=True)"
   ]
  },
  {
   "cell_type": "code",
   "execution_count": 40,
   "metadata": {},
   "outputs": [
    {
     "data": {
      "text/plain": [
       "DescribeResult(nobs=2500, minmax=(-2.31270003443958, 1.3793589013675163), mean=-0.5474162628231262, variance=0.2559382696786862, skewness=0.38635021411563086, kurtosis=0.27106144709941704)"
      ]
     },
     "execution_count": 40,
     "metadata": {},
     "output_type": "execute_result"
    }
   ],
   "source": [
    "stats.describe(data['log_RV_sc_sqr'])"
   ]
  },
  {
   "cell_type": "code",
   "execution_count": 41,
   "metadata": {},
   "outputs": [
    {
     "data": {
      "text/plain": [
       "count    2500.000000\n",
       "mean       -0.547416\n",
       "std         0.505903\n",
       "min        -2.312700\n",
       "25%        -0.900017\n",
       "50%        -0.583741\n",
       "75%        -0.226343\n",
       "max         1.379359\n",
       "Name: log_RV_sc_sqr, dtype: float64"
      ]
     },
     "execution_count": 41,
     "metadata": {},
     "output_type": "execute_result"
    }
   ],
   "source": [
    "data['log_RV_sc_sqr'].describe()"
   ]
  },
  {
   "cell_type": "markdown",
   "metadata": {},
   "source": [
    "After such transformation, the distribution has become more symmetric due to the skewness of approximately 0.39. On the other hand, the influence of outliers in the original data has been reduced significantly via the kurtosis of around 0.27. Specifically, most of observations have value within the range of -1.5 to 0.5 while the remaining outliers have values either below -1.5 or above 0.5. Hence, after transformation, the finite value of forth momemnt of log of square root of 5 min RV may be reasonably ensured, which leads to finite mean and variance.\n",
    "\n",
    "From the above numerical summary, it can be seen that among 2500 log of RV values for 2500 provided observations, there is a significant difference between the maximum RV and the minimum one at 3.69 (i.e 1.38-(-2.31)). Additionally, the meanlog of RV value for the sample is observed at -0.55 and the standard deviation also reaches a level of 0.51 , which lead to coefficient of variation (i.e $CV=\\frac{S}{\\bar{X}} \\times 100$) recorded as -92.73%. Moreover, the 25, 50, and 75 percentile are reported to be approximately -0.90, -0.58,and -0.23 respectively. Thus, the resulting interquartile range is around 0.67.\n",
    "\n",
    "From the time series plot, the log of RV displays a strong pattern over time: there are periods of persistent high volatility and at other times periods of  persistent low volatility. High values of the log of RV tend to follow high values of the log of RV; and vice versa. "
   ]
  },
  {
   "cell_type": "markdown",
   "metadata": {},
   "source": [
    "<span style=\"color:red\">Exploratory analysis for relationship between day of the week and the log of the square root of 5 min RV</span>"
   ]
  },
  {
   "cell_type": "code",
   "execution_count": 42,
   "metadata": {},
   "outputs": [
    {
     "data": {
      "image/png": "[encoded data removed]",
      "text/plain": [
       "<Figure size 432x288 with 1 Axes>"
      ]
     },
     "metadata": {
      "needs_background": "light"
     },
     "output_type": "display_data"
    }
   ],
   "source": [
    "ax = sns.boxplot(x='day_of_week', y='log_RV_sc_sqr', data=data, palette='Blues', showmeans=True)"
   ]
  },
  {
   "cell_type": "code",
   "execution_count": 43,
   "metadata": {},
   "outputs": [
    {
     "data": {
      "text/plain": [
       "DescribeResult(nobs=494, minmax=(-1.7269849768542604, 0.9511578745426709), mean=-0.5202571603154437, variance=0.24755071002995277, skewness=0.34311530809078017, kurtosis=-0.08456199135776332)"
      ]
     },
     "execution_count": 43,
     "metadata": {},
     "output_type": "execute_result"
    }
   ],
   "source": [
    "stats.describe(data.loc[data['Mon'] == 1, 'log_RV_sc_sqr'])"
   ]
  },
  {
   "cell_type": "code",
   "execution_count": 44,
   "metadata": {},
   "outputs": [
    {
     "data": {
      "text/plain": [
       "count    494.000000\n",
       "mean      -0.520257\n",
       "std        0.497545\n",
       "min       -1.726985\n",
       "25%       -0.852056\n",
       "50%       -0.574031\n",
       "75%       -0.199944\n",
       "max        0.951158\n",
       "Name: log_RV_sc_sqr, dtype: float64"
      ]
     },
     "execution_count": 44,
     "metadata": {},
     "output_type": "execute_result"
    }
   ],
   "source": [
    "data.loc[data['Mon'] == 1, 'log_RV_sc_sqr'].describe()"
   ]
  },
  {
   "cell_type": "code",
   "execution_count": 45,
   "metadata": {},
   "outputs": [
    {
     "data": {
      "text/plain": [
       "DescribeResult(nobs=523, minmax=(-1.8069970183314585, 1.3793589013675163), mean=-0.5194687843703798, variance=0.24510195058696008, skewness=0.6673997285468896, kurtosis=0.7850107917979186)"
      ]
     },
     "execution_count": 45,
     "metadata": {},
     "output_type": "execute_result"
    }
   ],
   "source": [
    "stats.describe(data.loc[data['Tues'] == 1, 'log_RV_sc_sqr'])"
   ]
  },
  {
   "cell_type": "code",
   "execution_count": 46,
   "metadata": {},
   "outputs": [
    {
     "data": {
      "text/plain": [
       "count    523.000000\n",
       "mean      -0.519469\n",
       "std        0.495078\n",
       "min       -1.806997\n",
       "25%       -0.859599\n",
       "50%       -0.586341\n",
       "75%       -0.213178\n",
       "max        1.379359\n",
       "Name: log_RV_sc_sqr, dtype: float64"
      ]
     },
     "execution_count": 46,
     "metadata": {},
     "output_type": "execute_result"
    }
   ],
   "source": [
    "data.loc[data['Tues'] == 1, 'log_RV_sc_sqr'].describe()"
   ]
  },
  {
   "cell_type": "code",
   "execution_count": 47,
   "metadata": {},
   "outputs": [
    {
     "data": {
      "text/plain": [
       "DescribeResult(nobs=508, minmax=(-1.9245828937028984, 1.246047557405043), mean=-0.487182580561544, variance=0.23783099879630665, skewness=0.4993666032359993, kurtosis=0.7615592926465871)"
      ]
     },
     "execution_count": 47,
     "metadata": {},
     "output_type": "execute_result"
    }
   ],
   "source": [
    "stats.describe(data.loc[data['Wed'] == 1, 'log_RV_sc_sqr'])"
   ]
  },
  {
   "cell_type": "code",
   "execution_count": 48,
   "metadata": {},
   "outputs": [
    {
     "data": {
      "text/plain": [
       "count    508.000000\n",
       "mean      -0.487183\n",
       "std        0.487679\n",
       "min       -1.924583\n",
       "25%       -0.823967\n",
       "50%       -0.506777\n",
       "75%       -0.203369\n",
       "max        1.246048\n",
       "Name: log_RV_sc_sqr, dtype: float64"
      ]
     },
     "execution_count": 48,
     "metadata": {},
     "output_type": "execute_result"
    }
   ],
   "source": [
    "data.loc[data['Wed'] == 1, 'log_RV_sc_sqr'].describe()"
   ]
  },
  {
   "cell_type": "code",
   "execution_count": 49,
   "metadata": {},
   "outputs": [
    {
     "data": {
      "text/plain": [
       "DescribeResult(nobs=502, minmax=(-2.31270003443958, 1.2363179382260092), mean=-0.49004171040453853, variance=0.24507361353793958, skewness=0.2676907489211655, kurtosis=-0.008369798908816506)"
      ]
     },
     "execution_count": 49,
     "metadata": {},
     "output_type": "execute_result"
    }
   ],
   "source": [
    "stats.describe(data.loc[data['Thurs'] == 1, 'log_RV_sc_sqr'])"
   ]
  },
  {
   "cell_type": "code",
   "execution_count": 50,
   "metadata": {},
   "outputs": [
    {
     "data": {
      "text/plain": [
       "count    502.000000\n",
       "mean      -0.490042\n",
       "std        0.495049\n",
       "min       -2.312700\n",
       "25%       -0.855387\n",
       "50%       -0.512756\n",
       "75%       -0.171945\n",
       "max        1.236318\n",
       "Name: log_RV_sc_sqr, dtype: float64"
      ]
     },
     "execution_count": 50,
     "metadata": {},
     "output_type": "execute_result"
    }
   ],
   "source": [
    "data.loc[data['Thurs'] == 1, 'log_RV_sc_sqr'].describe()"
   ]
  },
  {
   "cell_type": "code",
   "execution_count": 51,
   "metadata": {},
   "outputs": [
    {
     "data": {
      "text/plain": [
       "DescribeResult(nobs=473, minmax=(-1.8866501016072152, 0.9422078662690533), mean=-0.732265869107685, variance=0.2665492613811949, skewness=0.38966733260403247, kurtosis=-0.019523110967851753)"
      ]
     },
     "execution_count": 51,
     "metadata": {},
     "output_type": "execute_result"
    }
   ],
   "source": [
    "stats.describe(data.loc[data['Fri'] == 1, 'log_RV_sc_sqr'])"
   ]
  },
  {
   "cell_type": "code",
   "execution_count": 52,
   "metadata": {},
   "outputs": [
    {
     "data": {
      "text/plain": [
       "count    473.000000\n",
       "mean      -0.732266\n",
       "std        0.516284\n",
       "min       -1.886650\n",
       "25%       -1.102066\n",
       "50%       -0.779173\n",
       "75%       -0.375928\n",
       "max        0.942208\n",
       "Name: log_RV_sc_sqr, dtype: float64"
      ]
     },
     "execution_count": 52,
     "metadata": {},
     "output_type": "execute_result"
    }
   ],
   "source": [
    "data.loc[data['Fri'] == 1, 'log_RV_sc_sqr'].describe()"
   ]
  },
  {
   "cell_type": "markdown",
   "metadata": {},
   "source": [
    "From the side-by-side boxplots, it can be seen that the five numerical summary of log of RV distribution in Monday, Tuesday, Wednesday, Thursday, and Friday groups are much more distinguishable. Specifically, log of the square root of 5 min RV values tend to be highest in two days Wednesday and Thursday on average, which are followed by values in Monday and Tuesday. Consequently, the log of RV in Friday tend to be extremely inferior to that of the remaining four days of the week.\n",
    "\n",
    "To examine such claim quantitatively, the mean of log of the square root of 5 min RV values for Monday, Tuesday, Wednesday, Thursday, and Friday groups are -0.52, -0.52, -0.49,-0.49 and -0.73 respectively, which reflects the highest volatility level in the middle of the week (i.e Wednesday and Thursday) on average and highlights the inferiority of the mean log of the square root of 5 min RV values in Friday as compared to that of the other days in the week. Furthermore, the similar pattern can be also oberseved as considering the median of log of the square root of 5 min RV values of five mentioned days in the week (i.e -0.57, -0.59, -0.51, -0.51 and -0.78 for Monday, Tuesday, Wednesday, Thursday, and Friday groups respectively).\n",
    "\n",
    "By this transformation of the square root of 5 min RV variable, the affect of the day of the week on the square root of 5 min RV variable can be seen clearly as illustrated above. The boxplots illustrate stronger marginal effects of each category predictor on the log of the square root of 5 min RV."
   ]
  },
  {
   "cell_type": "markdown",
   "metadata": {},
   "source": [
    "<span style=\"color:red\">Exploratory analysis for relationship between season of the year and the log of the square root of 5 min RV</span>"
   ]
  },
  {
   "cell_type": "code",
   "execution_count": 53,
   "metadata": {},
   "outputs": [
    {
     "data": {
      "image/png": "[encoded data removed]",
      "text/plain": [
       "<Figure size 432x288 with 1 Axes>"
      ]
     },
     "metadata": {
      "needs_background": "light"
     },
     "output_type": "display_data"
    }
   ],
   "source": [
    "ax = sns.boxplot(x='Season', y='log_RV_sc_sqr', data=data, palette='Blues', showmeans=True)"
   ]
  },
  {
   "cell_type": "code",
   "execution_count": 54,
   "metadata": {},
   "outputs": [
    {
     "data": {
      "text/plain": [
       "DescribeResult(nobs=601, minmax=(-1.9245828937028984, 0.8658870399700312), mean=-0.64459850567737, variance=0.27252533543122043, skewness=0.35738469749458046, kurtosis=-0.03358740321092668)"
      ]
     },
     "execution_count": 54,
     "metadata": {},
     "output_type": "execute_result"
    }
   ],
   "source": [
    "stats.describe(data.loc[data['Summer'] == 1, 'log_RV_sc_sqr'])"
   ]
  },
  {
   "cell_type": "code",
   "execution_count": 55,
   "metadata": {},
   "outputs": [
    {
     "data": {
      "text/plain": [
       "count    601.000000\n",
       "mean      -0.644599\n",
       "std        0.522040\n",
       "min       -1.924583\n",
       "25%       -1.002371\n",
       "50%       -0.690061\n",
       "75%       -0.342269\n",
       "max        0.865887\n",
       "Name: log_RV_sc_sqr, dtype: float64"
      ]
     },
     "execution_count": 55,
     "metadata": {},
     "output_type": "execute_result"
    }
   ],
   "source": [
    "data.loc[data['Summer'] == 1, 'log_RV_sc_sqr'].describe()"
   ]
  },
  {
   "cell_type": "code",
   "execution_count": 56,
   "metadata": {},
   "outputs": [
    {
     "data": {
      "text/plain": [
       "DescribeResult(nobs=637, minmax=(-2.31270003443958, 0.9821381917828768), mean=-0.54249507920854, variance=0.2151205525703356, skewness=0.22544798034171848, kurtosis=0.42926970475068815)"
      ]
     },
     "execution_count": 56,
     "metadata": {},
     "output_type": "execute_result"
    }
   ],
   "source": [
    "stats.describe(data.loc[data['Autumn'] == 1, 'log_RV_sc_sqr'])"
   ]
  },
  {
   "cell_type": "code",
   "execution_count": 57,
   "metadata": {},
   "outputs": [
    {
     "data": {
      "text/plain": [
       "count    637.000000\n",
       "mean      -0.542495\n",
       "std        0.463811\n",
       "min       -2.312700\n",
       "25%       -0.878849\n",
       "50%       -0.568163\n",
       "75%       -0.236676\n",
       "max        0.982138\n",
       "Name: log_RV_sc_sqr, dtype: float64"
      ]
     },
     "execution_count": 57,
     "metadata": {},
     "output_type": "execute_result"
    }
   ],
   "source": [
    "data.loc[data['Autumn'] == 1, 'log_RV_sc_sqr'].describe()"
   ]
  },
  {
   "cell_type": "code",
   "execution_count": 58,
   "metadata": {},
   "outputs": [
    {
     "data": {
      "text/plain": [
       "DescribeResult(nobs=633, minmax=(-1.7872122521241758, 1.3793589013675163), mean=-0.4886247467655761, variance=0.24237041267585252, skewness=0.2764896573330848, kurtosis=0.1024877872327683)"
      ]
     },
     "execution_count": 58,
     "metadata": {},
     "output_type": "execute_result"
    }
   ],
   "source": [
    "stats.describe(data.loc[data['Winter'] == 1, 'log_RV_sc_sqr'])"
   ]
  },
  {
   "cell_type": "code",
   "execution_count": 59,
   "metadata": {},
   "outputs": [
    {
     "data": {
      "text/plain": [
       "count    633.000000\n",
       "mean      -0.488625\n",
       "std        0.492311\n",
       "min       -1.787212\n",
       "25%       -0.830366\n",
       "50%       -0.490315\n",
       "75%       -0.171907\n",
       "max        1.379359\n",
       "Name: log_RV_sc_sqr, dtype: float64"
      ]
     },
     "execution_count": 59,
     "metadata": {},
     "output_type": "execute_result"
    }
   ],
   "source": [
    "data.loc[data['Winter'] == 1, 'log_RV_sc_sqr'].describe()"
   ]
  },
  {
   "cell_type": "code",
   "execution_count": 60,
   "metadata": {},
   "outputs": [
    {
     "data": {
      "text/plain": [
       "DescribeResult(nobs=629, minmax=(-1.805086522501624, 1.3173359944217193), mean=-0.5187092607110755, variance=0.28293308324573446, skewness=0.6683613232250087, kurtosis=0.4571072842263715)"
      ]
     },
     "execution_count": 60,
     "metadata": {},
     "output_type": "execute_result"
    }
   ],
   "source": [
    "stats.describe(data.loc[data['Spring'] == 1, 'log_RV_sc_sqr'])"
   ]
  },
  {
   "cell_type": "code",
   "execution_count": 61,
   "metadata": {},
   "outputs": [
    {
     "data": {
      "text/plain": [
       "count    629.000000\n",
       "mean      -0.518709\n",
       "std        0.531915\n",
       "min       -1.805087\n",
       "25%       -0.899797\n",
       "50%       -0.580441\n",
       "75%       -0.199888\n",
       "max        1.317336\n",
       "Name: log_RV_sc_sqr, dtype: float64"
      ]
     },
     "execution_count": 61,
     "metadata": {},
     "output_type": "execute_result"
    }
   ],
   "source": [
    "data.loc[data['Spring'] == 1, 'log_RV_sc_sqr'].describe()"
   ]
  },
  {
   "cell_type": "markdown",
   "metadata": {},
   "source": [
    "From the side-by-side boxplots, it can be seen that the five numerical summary of log of RV distribution in Summer, Autumn, Winter, and Spring groups are much more distinguishable. Specifically, the log of the square root of 5 min RV in Winter tend to be highest, which is followed by Spring and Autumn. Consequently, the log of RV in Summer tend to be inferior to that of the remaining three seasons.\n",
    "\n",
    "To examine such claim quantitatively, the mean log of the square root of 5 min RV values for Summer, Autumn, Winter, and Spring groups are -0.64, -0.54, -0.48, and -0.51 respectively, which reflects the highest volatility level in the Summer on average and highlights the inferiority of the mean of log of the square root of 5 min RV values of Summer as compared to that of Winter, Spring and Autumn. Furthermore, the similar pattern can be also oberseved as considering the median of log of the square root of 5 min RV values of 4 mentioned seasons (i.e -0.69, -0.57, -0.49, and -0.58 for Summer, Autumn, Winter, and Spring groups respectively).\n",
    "\n",
    "By this transformation of the square root of 5 min RV variable, the affect of the season of the year on the square root of 5 min RV variable can be seen clearly as illustrated above. The boxplots illustrate stronger marginal effects of each category predictor on the log of the square root of 5 min RV."
   ]
  },
  {
   "cell_type": "markdown",
   "metadata": {},
   "source": [
    "<span style=\"color:red\">Data cleaning and manipulation </span>"
   ]
  },
  {
   "cell_type": "markdown",
   "metadata": {},
   "source": [
    "Cleaning data: there is no reason to delete outlying square root of 5 min RV from the data in the subsequent analysis, regression and subsequent ANOVA tests below. There is no need for data cleaning at this stage, unless we are aware of\n",
    "errors in the data (which we are not). Data should not be deleted or removed unless it is known to be in error.\n",
    "\n",
    "Data manipulation: since in the orginial data, the square root of 5 min RV variable distribution contains of a small number of extreme outlying value, making any visulizations very unclear and not allowing assessment of any potential relationship or the distribution of non-outlying value. These outliers cast immediate doubt on the finite 4th moment assumption in one-way ANOVA test. Thus, log transformation for the square root of 5 min RV variable to come up with a new variable, which is the log of the square root of 5 min RV variable is necessary to ease the influence of outliers on the results of one-way and two-way ANOVA test."
   ]
  },
  {
   "cell_type": "markdown",
   "metadata": {},
   "source": [
    "# Part 2: one-way ANOVA tests"
   ]
  },
  {
   "cell_type": "markdown",
   "metadata": {},
   "source": [
    "<span style=\"color:red\">ANOVA test for the square root of 5 min RV and day of the week</span>"
   ]
  },
  {
   "cell_type": "code",
   "execution_count": 62,
   "metadata": {},
   "outputs": [
    {
     "data": {
      "text/html": [
       "<table class=\"simpletable\">\n",
       "<caption>OLS Regression Results</caption>\n",
       "<tr>\n",
       "  <th>Dep. Variable:</th>        <td>RV_sc_sqr</td>    <th>  R-squared:         </th> <td>   0.018</td>\n",
       "</tr>\n",
       "<tr>\n",
       "  <th>Model:</th>                   <td>OLS</td>       <th>  Adj. R-squared:    </th> <td>   0.016</td>\n",
       "</tr>\n",
       "<tr>\n",
       "  <th>Method:</th>             <td>Least Squares</td>  <th>  F-statistic:       </th> <td>   11.28</td>\n",
       "</tr>\n",
       "<tr>\n",
       "  <th>Date:</th>             <td>Fri, 07 May 2021</td> <th>  Prob (F-statistic):</th> <td>4.51e-09</td>\n",
       "</tr>\n",
       "<tr>\n",
       "  <th>Time:</th>                 <td>14:50:08</td>     <th>  Log-Likelihood:    </th> <td> -1239.7</td>\n",
       "</tr>\n",
       "<tr>\n",
       "  <th>No. Observations:</th>      <td>  2500</td>      <th>  AIC:               </th> <td>   2489.</td>\n",
       "</tr>\n",
       "<tr>\n",
       "  <th>Df Residuals:</th>          <td>  2495</td>      <th>  BIC:               </th> <td>   2519.</td>\n",
       "</tr>\n",
       "<tr>\n",
       "  <th>Df Model:</th>              <td>     4</td>      <th>                     </th>     <td> </td>   \n",
       "</tr>\n",
       "<tr>\n",
       "  <th>Covariance Type:</th>      <td>nonrobust</td>    <th>                     </th>     <td> </td>   \n",
       "</tr>\n",
       "</table>\n",
       "<table class=\"simpletable\">\n",
       "<tr>\n",
       "           <td></td>              <th>coef</th>     <th>std err</th>      <th>t</th>      <th>P>|t|</th>  <th>[0.025</th>    <th>0.975]</th>  \n",
       "</tr>\n",
       "<tr>\n",
       "  <th>Intercept</th>           <td>    0.6769</td> <td>    0.018</td> <td>   37.831</td> <td> 0.000</td> <td>    0.642</td> <td>    0.712</td>\n",
       "</tr>\n",
       "<tr>\n",
       "  <th>C(day_of_week)[T.1]</th> <td>    0.0057</td> <td>    0.025</td> <td>    0.230</td> <td> 0.818</td> <td>   -0.043</td> <td>    0.055</td>\n",
       "</tr>\n",
       "<tr>\n",
       "  <th>C(day_of_week)[T.2]</th> <td>    0.0228</td> <td>    0.025</td> <td>    0.906</td> <td> 0.365</td> <td>   -0.027</td> <td>    0.072</td>\n",
       "</tr>\n",
       "<tr>\n",
       "  <th>C(day_of_week)[T.3]</th> <td>    0.0189</td> <td>    0.025</td> <td>    0.749</td> <td> 0.454</td> <td>   -0.031</td> <td>    0.068</td>\n",
       "</tr>\n",
       "<tr>\n",
       "  <th>C(day_of_week)[T.4]</th> <td>   -0.1229</td> <td>    0.026</td> <td>   -4.803</td> <td> 0.000</td> <td>   -0.173</td> <td>   -0.073</td>\n",
       "</tr>\n",
       "</table>\n",
       "<table class=\"simpletable\">\n",
       "<tr>\n",
       "  <th>Omnibus:</th>       <td>1432.639</td> <th>  Durbin-Watson:     </th> <td>   0.794</td> \n",
       "</tr>\n",
       "<tr>\n",
       "  <th>Prob(Omnibus):</th>  <td> 0.000</td>  <th>  Jarque-Bera (JB):  </th> <td>14917.870</td>\n",
       "</tr>\n",
       "<tr>\n",
       "  <th>Skew:</th>           <td> 2.546</td>  <th>  Prob(JB):          </th> <td>    0.00</td> \n",
       "</tr>\n",
       "<tr>\n",
       "  <th>Kurtosis:</th>       <td>13.829</td>  <th>  Cond. No.          </th> <td>    5.86</td> \n",
       "</tr>\n",
       "</table><br/><br/>Notes:<br/>[1] Standard Errors assume that the covariance matrix of the errors is correctly specified."
      ],
      "text/plain": [
       "<class 'statsmodels.iolib.summary.Summary'>\n",
       "\"\"\"\n",
       "                            OLS Regression Results                            \n",
       "==============================================================================\n",
       "Dep. Variable:              RV_sc_sqr   R-squared:                       0.018\n",
       "Model:                            OLS   Adj. R-squared:                  0.016\n",
       "Method:                 Least Squares   F-statistic:                     11.28\n",
       "Date:                Fri, 07 May 2021   Prob (F-statistic):           4.51e-09\n",
       "Time:                        14:50:08   Log-Likelihood:                -1239.7\n",
       "No. Observations:                2500   AIC:                             2489.\n",
       "Df Residuals:                    2495   BIC:                             2519.\n",
       "Df Model:                           4                                         \n",
       "Covariance Type:            nonrobust                                         \n",
       "=======================================================================================\n",
       "                          coef    std err          t      P>|t|      [0.025      0.975]\n",
       "---------------------------------------------------------------------------------------\n",
       "Intercept               0.6769      0.018     37.831      0.000       0.642       0.712\n",
       "C(day_of_week)[T.1]     0.0057      0.025      0.230      0.818      -0.043       0.055\n",
       "C(day_of_week)[T.2]     0.0228      0.025      0.906      0.365      -0.027       0.072\n",
       "C(day_of_week)[T.3]     0.0189      0.025      0.749      0.454      -0.031       0.068\n",
       "C(day_of_week)[T.4]    -0.1229      0.026     -4.803      0.000      -0.173      -0.073\n",
       "==============================================================================\n",
       "Omnibus:                     1432.639   Durbin-Watson:                   0.794\n",
       "Prob(Omnibus):                  0.000   Jarque-Bera (JB):            14917.870\n",
       "Skew:                           2.546   Prob(JB):                         0.00\n",
       "Kurtosis:                      13.829   Cond. No.                         5.86\n",
       "==============================================================================\n",
       "\n",
       "Notes:\n",
       "[1] Standard Errors assume that the covariance matrix of the errors is correctly specified.\n",
       "\"\"\""
      ]
     },
     "execution_count": 62,
     "metadata": {},
     "output_type": "execute_result"
    }
   ],
   "source": [
    "reg1= smf.ols(formula='RV_sc_sqr ~ C(day_of_week)',data=data).fit()\n",
    "reg1.summary()"
   ]
  },
  {
   "cell_type": "markdown",
   "metadata": {},
   "source": [
    "$\\widehat{\\sqrt{\\text{5 min RV}}} = 0.6769 + 0.0057\\times D_{\\text{Tues}}+0.0228\\times D_{\\text{Wed}}+0.0189\\times D_{\\text{Thurs}}-0.1229\\times D_{\\text{Fri}}$\n",
    "\n",
    "This is actually five predictions for the square root of 5 min RV, one for each category of day. These are:\n",
    "\n",
    "$\\widehat{\\sqrt{\\text{5 min RV}}} = 0.6769\\%$, when $D_{\\text{Tues}} = D_{\\text{Wed}} = D_{\\text{Thurs}} = D_{\\text{Fri}}=0$\n",
    "\n",
    "$\\widehat{\\sqrt{\\text{5 min RV}}} = 0.6769\\%+0.0057\\%=0.6826\\%$, when $D_{\\text{Wed}} = D_{\\text{Thurs}} = D_{\\text{Fri}}=0$, $D_{\\text{Tues}} = 1$\n",
    "\n",
    "$\\widehat{\\sqrt{\\text{5 min RV}}} = 0.6769\\%+0.0228\\%=0.6997\\%$, when $D_{\\text{Tues}} = D_{\\text{Thurs}} = D_{\\text{Fri}}=0$, $D_{\\text{Wed}} = 1$\n",
    "\n",
    "$\\widehat{\\sqrt{\\text{5 min RV}}} = 0.6769\\%+0.0189\\%=0.6958\\%$, when $D_{\\text{Tues}} = D_{\\text{Wed}} = D_{\\text{Fri}}=0$, $D_{\\text{Thurs}} = 1$\n",
    "\n",
    "$\\widehat{\\sqrt{\\text{5 min RV}}} = 0.6769\\%-0.1229\\%=0.5540\\%$, when $D_{\\text{Tues}} = D_{\\text{Wed}} = D_{\\text{Thurs}}=0$, $D_{\\text{Fri}} = 1$\n",
    "\n",
    "The simple interpretation is that we predict the square root of 5 min RV to be, on average: 0.6769% on Monday ; 0.6826% on Tuesday; 0.6997% on Wednesday, 0.6958% on Thursday, 0.5540% on Friday."
   ]
  },
  {
   "cell_type": "code",
   "execution_count": 63,
   "metadata": {},
   "outputs": [
    {
     "data": {
      "text/plain": [
       "(0.15816702379574507, 0.39770217977243355)"
      ]
     },
     "execution_count": 63,
     "metadata": {},
     "output_type": "execute_result"
    }
   ],
   "source": [
    "reg1.mse_resid, reg1.mse_resid**0.5"
   ]
  },
  {
   "cell_type": "markdown",
   "metadata": {},
   "source": [
    "It can be seen that as $R^{2} = 0.018$ and $R^{2}_{\\text{adjusted}}=0.016$, the linear relationship estimated above is statistically weak. Besides, the SER of 0.3977% of the model needs to be examined cautiuosly by financial consultant regarding whether this is significant in this case. \n",
    "\n",
    "Other than that, considering 4 tests regarding $H_0$: $\\beta_{i} =0$ vs $H_1$: $\\beta_{i} \\neq 0$ for i=1,2,3,4 at $\\alpha = 0.05$, the p-values for each i are 0.818, 0.365, 0.454, and 0.000 and such results imply that we can only reject the null hypotheses in case i=4 and that the $D_{\\text{Fri}}$ and  square root of 5 min RV are significantly linearly related while the linear relationships between  square root of 5 min RV and $D_{\\text{Tues}}$, $D_{\\text{Wed}}$, $D_{\\text{Thurs}}$ are insignificant."
   ]
  },
  {
   "cell_type": "code",
   "execution_count": 64,
   "metadata": {},
   "outputs": [
    {
     "data": {
      "text/html": [
       "<div>\n",
       "<style scoped>\n",
       "    .dataframe tbody tr th:only-of-type {\n",
       "        vertical-align: middle;\n",
       "    }\n",
       "\n",
       "    .dataframe tbody tr th {\n",
       "        vertical-align: top;\n",
       "    }\n",
       "\n",
       "    .dataframe thead th {\n",
       "        text-align: right;\n",
       "    }\n",
       "</style>\n",
       "<table border=\"1\" class=\"dataframe\">\n",
       "  <thead>\n",
       "    <tr style=\"text-align: right;\">\n",
       "      <th></th>\n",
       "      <th>sum_sq</th>\n",
       "      <th>df</th>\n",
       "      <th>F</th>\n",
       "      <th>PR(&gt;F)</th>\n",
       "    </tr>\n",
       "  </thead>\n",
       "  <tbody>\n",
       "    <tr>\n",
       "      <th>Intercept</th>\n",
       "      <td>226.360490</td>\n",
       "      <td>1.0</td>\n",
       "      <td>1431.148447</td>\n",
       "      <td>6.226332e-248</td>\n",
       "    </tr>\n",
       "    <tr>\n",
       "      <th>C(day_of_week)</th>\n",
       "      <td>7.137095</td>\n",
       "      <td>4.0</td>\n",
       "      <td>11.280947</td>\n",
       "      <td>4.506149e-09</td>\n",
       "    </tr>\n",
       "    <tr>\n",
       "      <th>Residual</th>\n",
       "      <td>394.626724</td>\n",
       "      <td>2495.0</td>\n",
       "      <td>NaN</td>\n",
       "      <td>NaN</td>\n",
       "    </tr>\n",
       "  </tbody>\n",
       "</table>\n",
       "</div>"
      ],
      "text/plain": [
       "                    sum_sq      df            F         PR(>F)\n",
       "Intercept       226.360490     1.0  1431.148447  6.226332e-248\n",
       "C(day_of_week)    7.137095     4.0    11.280947   4.506149e-09\n",
       "Residual        394.626724  2495.0          NaN            NaN"
      ]
     },
     "execution_count": 64,
     "metadata": {},
     "output_type": "execute_result"
    }
   ],
   "source": [
    "table1= sm.stats.anova_lm(reg1, typ=3)\n",
    "table1"
   ]
  },
  {
   "cell_type": "markdown",
   "metadata": {},
   "source": [
    "The hypotheses here are:\n",
    "\n",
    "$H_{0}$: $\\mu_{1}=...=\\mu_{5}$, means are the same across 5 days in the week\n",
    "\n",
    "$H_{1}$: $\\exists i,j \\in \\{1,2,3,4,5\\}$, $i \\neq j$ and $\\mu_{i}\\neq\\mu_{j}$, at least two means are different across 5 days in the week\n",
    "\n",
    "For $\\mu_{1}$, $\\mu_{2}$, $\\mu_{3}$, $\\mu_{4}$ and $\\mu_{5}$ are the mean of the square root of 5 min RV on Monday, Tuesday, Wednesday, Thursday, and Friday respectively.\n",
    "\n",
    "We choose $\\alpha=0.05$ as standard. \n",
    "\n",
    "The test statistics is $F_{\\text{stat}} =11.280947$, which has a F distribution with $m-1 = 5-1=4$ degrees of freedom in numerator and $n-m=2500-5=2495$ degrees of freedom in denominator, , if the null of equality of means is, and the LSA 1-6 assumptions are also, true. \n",
    "\n",
    "The chance that the resulting F value would be more extreme than 11.280947, in the direction of the alternative hypothesis which is more or greater than, is very close to 0. Specifically, the p-value is $P(F_{4,2495} > 11.280947) = 4.506149\\times10^{-09}$. \n",
    "\n",
    "Hence, such p-value is $< 0.05$, it is statistically sufficient for us to reject the null and conclude that the mean RV of difference days of the week is difference from each other. In other words, the square root of 5 min RV may be affected by day of the week."
   ]
  },
  {
   "cell_type": "markdown",
   "metadata": {},
   "source": [
    "<span style=\"color:red\">Assumptions assessment</span>"
   ]
  },
  {
   "cell_type": "code",
   "execution_count": 65,
   "metadata": {},
   "outputs": [
    {
     "data": {
      "text/plain": [
       "<matplotlib.collections.PathCollection at 0x22534935c70>"
      ]
     },
     "execution_count": 65,
     "metadata": {},
     "output_type": "execute_result"
    },
    {
     "data": {
      "image/png": "[encoded data removed]",
      "text/plain": [
       "<Figure size 432x288 with 1 Axes>"
      ]
     },
     "metadata": {
      "needs_background": "light"
     },
     "output_type": "display_data"
    }
   ],
   "source": [
    "plt.scatter(data['day_of_week'],data['RV_sc_sqr'])"
   ]
  },
  {
   "cell_type": "code",
   "execution_count": 66,
   "metadata": {},
   "outputs": [
    {
     "data": {
      "text/plain": [
       "<matplotlib.collections.PathCollection at 0x2253489b0a0>"
      ]
     },
     "execution_count": 66,
     "metadata": {},
     "output_type": "execute_result"
    },
    {
     "data": {
      "image/png": "[encoded data removed]",
      "text/plain": [
       "<Figure size 432x288 with 1 Axes>"
      ]
     },
     "metadata": {
      "needs_background": "light"
     },
     "output_type": "display_data"
    }
   ],
   "source": [
    "fit1 = reg1.fittedvalues\n",
    "res1 = reg1.resid\n",
    "plt.scatter(fit1,res1)"
   ]
  },
  {
   "cell_type": "markdown",
   "metadata": {},
   "source": [
    "The residuals in the above graphs seem to have changing variance across 5 groups. However, the root of this phenomenon may be the existence of small number of outliers in each group. Thus, this may not harm the assumption of constant variance"
   ]
  },
  {
   "cell_type": "code",
   "execution_count": 67,
   "metadata": {},
   "outputs": [
    {
     "data": {
      "text/plain": [
       "<seaborn.axisgrid.JointGrid at 0x22534750ca0>"
      ]
     },
     "execution_count": 67,
     "metadata": {},
     "output_type": "execute_result"
    },
    {
     "data": {
      "image/png": "[encoded data removed]",
      "text/plain": [
       "<Figure size 432x432 with 3 Axes>"
      ]
     },
     "metadata": {
      "needs_background": "light"
     },
     "output_type": "display_data"
    }
   ],
   "source": [
    "sns.jointplot(x=fit1, y=res1, kind=\"reg\")"
   ]
  },
  {
   "cell_type": "markdown",
   "metadata": {},
   "source": [
    "From the above plot, equally spread residuals around a horizontal line without distinct patterns, that is a good indication of constant variance across groups. On the other hand, the regression line of estimated residuals to the fitted values is a perfect horizontal line through the origin $O(0,0)$ associated with the result of testing hypotheses $H_{\\text{0}}: \\rho = 0$ versus $H_{\\text{1}}: \\rho \\neq 0$, the p-value of nearly one claim that this correlation coefficient is significantly around zero. Thus, the true linearity relationship may be assured."
   ]
  },
  {
   "cell_type": "code",
   "execution_count": 69,
   "metadata": {},
   "outputs": [],
   "source": [
    "data['res_1']=res1"
   ]
  },
  {
   "cell_type": "code",
   "execution_count": 70,
   "metadata": {},
   "outputs": [
    {
     "data": {
      "text/plain": [
       "DescribeResult(nobs=494, minmax=(-0.49909947639336716, 1.9117861111073546), mean=-9.49308108505397e-16, variance=0.14681615406221565, skewness=1.8027494616331186, kurtosis=4.096893795806295)"
      ]
     },
     "execution_count": 70,
     "metadata": {},
     "output_type": "execute_result"
    }
   ],
   "source": [
    "stats.describe(data.loc[data['Mon']==1, 'res_1'])"
   ]
  },
  {
   "cell_type": "code",
   "execution_count": 71,
   "metadata": {},
   "outputs": [
    {
     "data": {
      "text/plain": [
       "DescribeResult(nobs=523, minmax=(-0.5185218859287654, 3.289685928427978), mean=-8.423259965033693e-16, variance=0.19440123414356433, skewness=3.183767048426224, kurtosis=15.760475066381744)"
      ]
     },
     "execution_count": 71,
     "metadata": {},
     "output_type": "execute_result"
    }
   ],
   "source": [
    "stats.describe(data.loc[data['Tues']==1, 'res_1'])"
   ]
  },
  {
   "cell_type": "code",
   "execution_count": 72,
   "metadata": {},
   "outputs": [
    {
     "data": {
      "text/plain": [
       "DescribeResult(nobs=508, minmax=(-0.5537588780506087, 2.7768793108322756), mean=-2.7974123455122054e-16, variance=0.18185394929647816, skewness=2.8216414525715687, kurtosis=11.792398112367547)"
      ]
     },
     "execution_count": 72,
     "metadata": {},
     "output_type": "execute_result"
    }
   ],
   "source": [
    "stats.describe(data.loc[data['Wed']==1, 'res_1'])"
   ]
  },
  {
   "cell_type": "code",
   "execution_count": 73,
   "metadata": {},
   "outputs": [
    {
     "data": {
      "text/plain": [
       "DescribeResult(nobs=502, minmax=(-0.5968027301523491, 2.7471167442649884), mean=-8.634085036128708e-16, variance=0.14931069382727094, skewness=1.8590918021931957, kurtosis=5.879884796630721)"
      ]
     },
     "execution_count": 73,
     "metadata": {},
     "output_type": "execute_result"
    }
   ],
   "source": [
    "stats.describe(data.loc[data['Thurs']==1, 'res_1'])"
   ]
  },
  {
   "cell_type": "code",
   "execution_count": 74,
   "metadata": {},
   "outputs": [
    {
     "data": {
      "text/plain": [
       "DescribeResult(nobs=473, minmax=(-0.4024642725765926, 2.01159675386335), mean=-4.882164674884409e-16, variance=0.11390742858897021, skewness=2.34150709545833, kurtosis=8.50359116632589)"
      ]
     },
     "execution_count": 74,
     "metadata": {},
     "output_type": "execute_result"
    }
   ],
   "source": [
    "stats.describe(data.loc[data['Fri']==1, 'res_1'])"
   ]
  },
  {
   "cell_type": "markdown",
   "metadata": {},
   "source": [
    "The sample mean of residuals given the observation is in Monday group is $-9.49308108505397\\times10^{-16}$%, which suggests $E(\\varepsilon_{i,Monday}|Monday)=0$% may hold.\n",
    "\n",
    "The sample mean of residuals given the observation is in Tuesday group is $-8.423259965033693\\times10^{-16}$%, which suggests $E(\\varepsilon_{i,Tuesday}|Tuesday)=0$% may hold.\n",
    "\n",
    "The sample mean of residuals given the observation is in Wednesday group is $-2.7974123455122054\\times10^{-16}$%, which suggests $E(\\varepsilon_{i,Wednesday}|Wednesday)=0$% may hold.\n",
    "\n",
    "The sample mean of residuals given the observation is in Thursday group is $-8.634085036128708\\times10^{-16}$%, which suggests $E(\\varepsilon_{i,Thursday}|Thursday)=0$% may hold.\n",
    "\n",
    "The sample mean of residuals given the observation is in Friday group is $-4.882164674884409\\times10^{-16}$%, which suggests $E(\\varepsilon_{i,Friday}|Friday)=0$% may hold."
   ]
  },
  {
   "cell_type": "code",
   "execution_count": 75,
   "metadata": {},
   "outputs": [
    {
     "data": {
      "text/plain": [
       "<AxesSubplot:xlabel='RV_sc_sqr', ylabel='Count'>"
      ]
     },
     "execution_count": 75,
     "metadata": {},
     "output_type": "execute_result"
    },
    {
     "data": {
      "image/png": "[encoded data removed]",
      "text/plain": [
       "<Figure size 432x288 with 1 Axes>"
      ]
     },
     "metadata": {
      "needs_background": "light"
     },
     "output_type": "display_data"
    }
   ],
   "source": [
    "sns.histplot(data['RV_sc_sqr'], kde=False)"
   ]
  },
  {
   "cell_type": "markdown",
   "metadata": {},
   "source": [
    "Assumptions of one-way ANOVA test:\n",
    "\n",
    "$1/$ Linearity ($E(Y|X=j)=\\mu_{j}$  for $j=1,...,5$): the residual plot suggests that linearity could hold and the discussion of relationship of residuals and fitted values above further consolidates this claim. Thus, this assumption may be met.\n",
    "\n",
    "$2/$ Exogeneity ($E(\\varepsilon|X=j)=0$ for $j=1,...,5$): the residuals against predicted values plot suggests that $E(\\varepsilon|X=j)\\approx0$ for $j=1,...,5$. Furthermore, the sample mean of residuals in each group is also approximately zero as discuss above, which suggests this assumption may be met.\n",
    "\n",
    "$3/$ The data are independent and identically distributed in each group: this assumes the distribution of the square root of 5 min RV is the same within each group and is only affected by day of the week, meaning no other factor determiningthe square root of 5 min RV changes between different days of the week. . Thus, the square root of 5 min RV may be independent among groups. Hence, this assumption may be met.\n",
    "\n",
    "However, it should be noted that from the time series plot, the RV displays a strong pattern over time: there are periods of persistent high volatility and at other times periods of  persistent low volatility. High values of the RV tend to follow high values of the RV; and vice versa. Thus, this may be detrimental to the validity of the assumption and in such case, data thinning may have helped remove any autocorrelation here.\n",
    "\n",
    "$4/$ The data in each group have finite forth moments ($E(Y_{j}^4)<\\infty$ for $j=1,...,5$): according to the exploratory analysis of the root mean square of 5 min RV, there are several outliers associated with high Fisher's kurtosis of 10.71 and distribution with flat tail and highly positive skewness. On the other hand, the kurtosis for the root mean square of 5 min RV of Monday, Tuesday, Wednesday, Thursday and Friday are 4.10, 15.76, 11.79, 5.88 and 8.50 respectively suggesting excessive outliers in each group distribution. Hence, this may cast doubt on the finite value of the forth moments of the square root of 5 min RV across groups. However, it should be noted the fact that the financial nature of return volatility allows the square root of 5 min RV values have a lower bound of 0 and should have a certain upper bound. Thus, the square root of 5 min RV is a bounded random variable. Hence, this assumption may be met but the excessive kurtosis should be monitored cautiously.\n",
    "\n",
    "$5/$ $n_{j} \\geq 30$ for $j=1,...,m$: 494, 523, 508, 502, and 473 are respectively the number of observations originating from Monday, Tuesday, Wednesday, Thursday and Friday groups. Thus, it is sufficient to conclude that this assumption is met.\n",
    "\n",
    "$6/$ Equality of variances across the groups ($Var(Y|X=j)= \\sigma^2$ for $j=1,...,5$): according to the residuals against predicted values plot, the variance of the residuals seems to remain constant due to  equally spread residuals around a horizontal line without distinct patterns. Furthermore, the sample variance of residuals for Monday, Tuesday, Wednesday, Thursday and Friday groups are 0.15, 0.19, 0.18, 0.15, and 0.11 respectively, which are quite varied but this may or may not be due to the influence of outliers, suggesting this assumption may be reasonbly satisfied. However, to be cautious, a Het-robust version of this ANOVA test should be conducted, which is illustrated as below."
   ]
  },
  {
   "cell_type": "code",
   "execution_count": 76,
   "metadata": {},
   "outputs": [
    {
     "data": {
      "text/html": [
       "<table class=\"simpletable\">\n",
       "<caption>OLS Regression Results</caption>\n",
       "<tr>\n",
       "  <th>Dep. Variable:</th>        <td>RV_sc_sqr</td>    <th>  R-squared:         </th> <td>   0.018</td>\n",
       "</tr>\n",
       "<tr>\n",
       "  <th>Model:</th>                   <td>OLS</td>       <th>  Adj. R-squared:    </th> <td>   0.016</td>\n",
       "</tr>\n",
       "<tr>\n",
       "  <th>Method:</th>             <td>Least Squares</td>  <th>  F-statistic:       </th> <td>   14.32</td>\n",
       "</tr>\n",
       "<tr>\n",
       "  <th>Date:</th>             <td>Fri, 07 May 2021</td> <th>  Prob (F-statistic):</th> <td>1.45e-11</td>\n",
       "</tr>\n",
       "<tr>\n",
       "  <th>Time:</th>                 <td>14:50:13</td>     <th>  Log-Likelihood:    </th> <td> -1239.7</td>\n",
       "</tr>\n",
       "<tr>\n",
       "  <th>No. Observations:</th>      <td>  2500</td>      <th>  AIC:               </th> <td>   2489.</td>\n",
       "</tr>\n",
       "<tr>\n",
       "  <th>Df Residuals:</th>          <td>  2495</td>      <th>  BIC:               </th> <td>   2519.</td>\n",
       "</tr>\n",
       "<tr>\n",
       "  <th>Df Model:</th>              <td>     4</td>      <th>                     </th>     <td> </td>   \n",
       "</tr>\n",
       "<tr>\n",
       "  <th>Covariance Type:</th>         <td>HC0</td>       <th>                     </th>     <td> </td>   \n",
       "</tr>\n",
       "</table>\n",
       "<table class=\"simpletable\">\n",
       "<tr>\n",
       "           <td></td>              <th>coef</th>     <th>std err</th>      <th>z</th>      <th>P>|z|</th>  <th>[0.025</th>    <th>0.975]</th>  \n",
       "</tr>\n",
       "<tr>\n",
       "  <th>Intercept</th>           <td>    0.6769</td> <td>    0.017</td> <td>   39.306</td> <td> 0.000</td> <td>    0.643</td> <td>    0.711</td>\n",
       "</tr>\n",
       "<tr>\n",
       "  <th>C(day_of_week)[T.1]</th> <td>    0.0057</td> <td>    0.026</td> <td>    0.223</td> <td> 0.824</td> <td>   -0.045</td> <td>    0.056</td>\n",
       "</tr>\n",
       "<tr>\n",
       "  <th>C(day_of_week)[T.2]</th> <td>    0.0228</td> <td>    0.026</td> <td>    0.891</td> <td> 0.373</td> <td>   -0.027</td> <td>    0.073</td>\n",
       "</tr>\n",
       "<tr>\n",
       "  <th>C(day_of_week)[T.3]</th> <td>    0.0189</td> <td>    0.024</td> <td>    0.775</td> <td> 0.438</td> <td>   -0.029</td> <td>    0.067</td>\n",
       "</tr>\n",
       "<tr>\n",
       "  <th>C(day_of_week)[T.4]</th> <td>   -0.1229</td> <td>    0.023</td> <td>   -5.303</td> <td> 0.000</td> <td>   -0.168</td> <td>   -0.077</td>\n",
       "</tr>\n",
       "</table>\n",
       "<table class=\"simpletable\">\n",
       "<tr>\n",
       "  <th>Omnibus:</th>       <td>1432.639</td> <th>  Durbin-Watson:     </th> <td>   0.794</td> \n",
       "</tr>\n",
       "<tr>\n",
       "  <th>Prob(Omnibus):</th>  <td> 0.000</td>  <th>  Jarque-Bera (JB):  </th> <td>14917.870</td>\n",
       "</tr>\n",
       "<tr>\n",
       "  <th>Skew:</th>           <td> 2.546</td>  <th>  Prob(JB):          </th> <td>    0.00</td> \n",
       "</tr>\n",
       "<tr>\n",
       "  <th>Kurtosis:</th>       <td>13.829</td>  <th>  Cond. No.          </th> <td>    5.86</td> \n",
       "</tr>\n",
       "</table><br/><br/>Notes:<br/>[1] Standard Errors are heteroscedasticity robust (HC0)"
      ],
      "text/plain": [
       "<class 'statsmodels.iolib.summary.Summary'>\n",
       "\"\"\"\n",
       "                            OLS Regression Results                            \n",
       "==============================================================================\n",
       "Dep. Variable:              RV_sc_sqr   R-squared:                       0.018\n",
       "Model:                            OLS   Adj. R-squared:                  0.016\n",
       "Method:                 Least Squares   F-statistic:                     14.32\n",
       "Date:                Fri, 07 May 2021   Prob (F-statistic):           1.45e-11\n",
       "Time:                        14:50:13   Log-Likelihood:                -1239.7\n",
       "No. Observations:                2500   AIC:                             2489.\n",
       "Df Residuals:                    2495   BIC:                             2519.\n",
       "Df Model:                           4                                         \n",
       "Covariance Type:                  HC0                                         \n",
       "=======================================================================================\n",
       "                          coef    std err          z      P>|z|      [0.025      0.975]\n",
       "---------------------------------------------------------------------------------------\n",
       "Intercept               0.6769      0.017     39.306      0.000       0.643       0.711\n",
       "C(day_of_week)[T.1]     0.0057      0.026      0.223      0.824      -0.045       0.056\n",
       "C(day_of_week)[T.2]     0.0228      0.026      0.891      0.373      -0.027       0.073\n",
       "C(day_of_week)[T.3]     0.0189      0.024      0.775      0.438      -0.029       0.067\n",
       "C(day_of_week)[T.4]    -0.1229      0.023     -5.303      0.000      -0.168      -0.077\n",
       "==============================================================================\n",
       "Omnibus:                     1432.639   Durbin-Watson:                   0.794\n",
       "Prob(Omnibus):                  0.000   Jarque-Bera (JB):            14917.870\n",
       "Skew:                           2.546   Prob(JB):                         0.00\n",
       "Kurtosis:                      13.829   Cond. No.                         5.86\n",
       "==============================================================================\n",
       "\n",
       "Notes:\n",
       "[1] Standard Errors are heteroscedasticity robust (HC0)\n",
       "\"\"\""
      ]
     },
     "execution_count": 76,
     "metadata": {},
     "output_type": "execute_result"
    }
   ],
   "source": [
    "reg1_new= smf.ols(formula='RV_sc_sqr ~ C(day_of_week)',data=data).fit(cov_type='HC0')\n",
    "reg1_new.summary()"
   ]
  },
  {
   "cell_type": "code",
   "execution_count": 77,
   "metadata": {},
   "outputs": [
    {
     "data": {
      "text/html": [
       "<div>\n",
       "<style scoped>\n",
       "    .dataframe tbody tr th:only-of-type {\n",
       "        vertical-align: middle;\n",
       "    }\n",
       "\n",
       "    .dataframe tbody tr th {\n",
       "        vertical-align: top;\n",
       "    }\n",
       "\n",
       "    .dataframe thead th {\n",
       "        text-align: right;\n",
       "    }\n",
       "</style>\n",
       "<table border=\"1\" class=\"dataframe\">\n",
       "  <thead>\n",
       "    <tr style=\"text-align: right;\">\n",
       "      <th></th>\n",
       "      <th>sum_sq</th>\n",
       "      <th>df</th>\n",
       "      <th>F</th>\n",
       "      <th>PR(&gt;F)</th>\n",
       "    </tr>\n",
       "  </thead>\n",
       "  <tbody>\n",
       "    <tr>\n",
       "      <th>C(day_of_week)</th>\n",
       "      <td>9.061361</td>\n",
       "      <td>4.0</td>\n",
       "      <td>14.322456</td>\n",
       "      <td>1.454712e-11</td>\n",
       "    </tr>\n",
       "    <tr>\n",
       "      <th>Residual</th>\n",
       "      <td>394.626724</td>\n",
       "      <td>2495.0</td>\n",
       "      <td>NaN</td>\n",
       "      <td>NaN</td>\n",
       "    </tr>\n",
       "  </tbody>\n",
       "</table>\n",
       "</div>"
      ],
      "text/plain": [
       "                    sum_sq      df          F        PR(>F)\n",
       "C(day_of_week)    9.061361     4.0  14.322456  1.454712e-11\n",
       "Residual        394.626724  2495.0        NaN           NaN"
      ]
     },
     "execution_count": 77,
     "metadata": {},
     "output_type": "execute_result"
    }
   ],
   "source": [
    "table1_new= sm.stats.anova_lm(reg1_new, typ=2)\n",
    "table1_new"
   ]
  },
  {
   "cell_type": "markdown",
   "metadata": {},
   "source": [
    "The hypotheses here are:\n",
    "\n",
    "$H_{0}$: $\\mu_{1}=...=\\mu_{5}$, means are the same across 5 days in the week\n",
    "\n",
    "$H_{1}$: $\\exists i,j \\in \\{1,2,3,4,5\\}$, $i \\neq j$ and $\\mu_{i}\\neq\\mu_{j}$, at least two means are different across 5 days in the week\n",
    "\n",
    "For $\\mu_{1}$, $\\mu_{2}$, $\\mu_{3}$, $\\mu_{4}$ and $\\mu_{5}$ are the mean of the square root of 5 min RV on Monday, Tuesday, Wednesday, Thursday, and Friday respectively.\n",
    "\n",
    "We choose $\\alpha=0.05$ as standard. \n",
    "\n",
    "The test statistics is $F_{\\text{stat}} =14.322456$, which has a F distribution with $m-1 = 5-1=4$ degrees of freedom in numerator and $n-m=2500-5=2495$ degrees of freedom in denominator, , if the null of equality of means is, and the LSA 1-5 assumptions are also, true. \n",
    "\n",
    "The chance that the resulting F value would be more extreme than 14.322456, in the direction of the alternative hypothesis which is more or greater than, is very close to 0. Specifically, the p-value is $P(F_{4,2495} > 14.322456) = 1.454712\\times10^{-11}$. \n",
    "\n",
    "Hence, such p-value is $< 0.05$, it is statistically sufficient for us to reject the null and conclude that the mean RV of difference days of the week is difference from each other. In other words, the root square of 5 min RV may be affected by day of the week."
   ]
  },
  {
   "cell_type": "markdown",
   "metadata": {},
   "source": [
    "<span style=\"color:red\">Differences assessment - the square root of 5 min RV and day of the week</span>"
   ]
  },
  {
   "cell_type": "code",
   "execution_count": 78,
   "metadata": {},
   "outputs": [
    {
     "name": "stdout",
     "output_type": "stream",
     "text": [
      "Multiple Comparison of Means - Tukey HSD, FWER=0.05 \n",
      "====================================================\n",
      "group1 group2 meandiff p-adj   lower   upper  reject\n",
      "----------------------------------------------------\n",
      "     0      1   0.0057    0.9 -0.0624  0.0739  False\n",
      "     0      2   0.0228 0.8909 -0.0458  0.0914  False\n",
      "     0      3   0.0189    0.9 -0.0499  0.0877  False\n",
      "     0      4  -0.1229  0.001 -0.1927  -0.053   True\n",
      "     1      2    0.017    0.9 -0.0506  0.0847  False\n",
      "     1      3   0.0131    0.9 -0.0547   0.081  False\n",
      "     1      4  -0.1286  0.001 -0.1975 -0.0597   True\n",
      "     2      3  -0.0039    0.9 -0.0722  0.0644  False\n",
      "     2      4  -0.1457  0.001  -0.215 -0.0763   True\n",
      "     3      4  -0.1418  0.001 -0.2113 -0.0722   True\n",
      "----------------------------------------------------\n"
     ]
    }
   ],
   "source": [
    "dif1=MultiComparison(data['RV_sc_sqr'],data['day_of_week'])\n",
    "result1 = dif1.tukeyhsd()\n",
    "print(result1)"
   ]
  },
  {
   "cell_type": "markdown",
   "metadata": {},
   "source": [
    "Turkey's interval for the mean difference from Tuesday to Monday is $(-0.0624, 0.0739)$\n",
    "\n",
    "Turkey's interval for the mean difference from Wednesday to Monday is $(-0.0458, 0.0914)$\n",
    "\n",
    "Turkey's interval for the mean difference from Thursday to Monday is $(-0.0499, 0.0877)$\n",
    "\n",
    "Turkey's interval for the mean difference from Friday to Monday is $(-0.1927,-0.0530)$\n",
    "\n",
    "Turkey's interval for the mean difference from Wednesday to Tuesday is $(-0.0506, 0.0847)$\n",
    "\n",
    "Turkey's interval for the mean difference from Thursday to Tuesday is $(-0.0547,0.0810)$\n",
    "\n",
    "Turkey's interval for the mean difference from Friday to Tuesday is $(-0.1975,-0.0597)$\n",
    "\n",
    "Turkey's interval for the mean difference from Thursday to Wednesday is $(-0.0722,0.0644)$\n",
    "\n",
    "Turkey's interval for the mean difference from Friday to Wednesday is $(-0.2150, -0.0763)$\n",
    "\n",
    "Turkey's interval for the mean difference from Friday to Thursday is $(-0.2113,0.0722)$\n",
    "\n",
    "In this case, while the differences between Monday and Friday, Tuesday and Friday, Wednesday and Friday, Thursday and Friday are significant and the differences of the other pairs are not statistically significant in terms of the square root of 5 min RV at $\\alpha = 0.05$. "
   ]
  },
  {
   "cell_type": "markdown",
   "metadata": {},
   "source": [
    "<span style=\"color:red\">ANOVA test for the square root of 5 min RV and season of the year</span>"
   ]
  },
  {
   "cell_type": "code",
   "execution_count": 79,
   "metadata": {},
   "outputs": [
    {
     "data": {
      "text/html": [
       "<table class=\"simpletable\">\n",
       "<caption>OLS Regression Results</caption>\n",
       "<tr>\n",
       "  <th>Dep. Variable:</th>        <td>RV_sc_sqr</td>    <th>  R-squared:         </th> <td>   0.009</td>\n",
       "</tr>\n",
       "<tr>\n",
       "  <th>Model:</th>                   <td>OLS</td>       <th>  Adj. R-squared:    </th> <td>   0.008</td>\n",
       "</tr>\n",
       "<tr>\n",
       "  <th>Method:</th>             <td>Least Squares</td>  <th>  F-statistic:       </th> <td>   7.361</td>\n",
       "</tr>\n",
       "<tr>\n",
       "  <th>Date:</th>             <td>Fri, 07 May 2021</td> <th>  Prob (F-statistic):</th> <td>6.55e-05</td>\n",
       "</tr>\n",
       "<tr>\n",
       "  <th>Time:</th>                 <td>14:50:13</td>     <th>  Log-Likelihood:    </th> <td> -1251.1</td>\n",
       "</tr>\n",
       "<tr>\n",
       "  <th>No. Observations:</th>      <td>  2500</td>      <th>  AIC:               </th> <td>   2510.</td>\n",
       "</tr>\n",
       "<tr>\n",
       "  <th>Df Residuals:</th>          <td>  2496</td>      <th>  BIC:               </th> <td>   2534.</td>\n",
       "</tr>\n",
       "<tr>\n",
       "  <th>Df Model:</th>              <td>     3</td>      <th>                     </th>     <td> </td>   \n",
       "</tr>\n",
       "<tr>\n",
       "  <th>Covariance Type:</th>      <td>nonrobust</td>    <th>                     </th>     <td> </td>   \n",
       "</tr>\n",
       "</table>\n",
       "<table class=\"simpletable\">\n",
       "<tr>\n",
       "         <td></td>           <th>coef</th>     <th>std err</th>      <th>t</th>      <th>P>|t|</th>  <th>[0.025</th>    <th>0.975]</th>  \n",
       "</tr>\n",
       "<tr>\n",
       "  <th>Intercept</th>      <td>    0.6062</td> <td>    0.016</td> <td>   37.202</td> <td> 0.000</td> <td>    0.574</td> <td>    0.638</td>\n",
       "</tr>\n",
       "<tr>\n",
       "  <th>C(Season)[T.2]</th> <td>    0.0439</td> <td>    0.023</td> <td>    1.933</td> <td> 0.053</td> <td>   -0.001</td> <td>    0.088</td>\n",
       "</tr>\n",
       "<tr>\n",
       "  <th>C(Season)[T.3]</th> <td>    0.0903</td> <td>    0.023</td> <td>    3.969</td> <td> 0.000</td> <td>    0.046</td> <td>    0.135</td>\n",
       "</tr>\n",
       "<tr>\n",
       "  <th>C(Season)[T.4]</th> <td>    0.0918</td> <td>    0.023</td> <td>    4.027</td> <td> 0.000</td> <td>    0.047</td> <td>    0.136</td>\n",
       "</tr>\n",
       "</table>\n",
       "<table class=\"simpletable\">\n",
       "<tr>\n",
       "  <th>Omnibus:</th>       <td>1411.075</td> <th>  Durbin-Watson:     </th> <td>   0.826</td> \n",
       "</tr>\n",
       "<tr>\n",
       "  <th>Prob(Omnibus):</th>  <td> 0.000</td>  <th>  Jarque-Bera (JB):  </th> <td>14138.766</td>\n",
       "</tr>\n",
       "<tr>\n",
       "  <th>Skew:</th>           <td> 2.510</td>  <th>  Prob(JB):          </th> <td>    0.00</td> \n",
       "</tr>\n",
       "<tr>\n",
       "  <th>Kurtosis:</th>       <td>13.513</td>  <th>  Cond. No.          </th> <td>    4.87</td> \n",
       "</tr>\n",
       "</table><br/><br/>Notes:<br/>[1] Standard Errors assume that the covariance matrix of the errors is correctly specified."
      ],
      "text/plain": [
       "<class 'statsmodels.iolib.summary.Summary'>\n",
       "\"\"\"\n",
       "                            OLS Regression Results                            \n",
       "==============================================================================\n",
       "Dep. Variable:              RV_sc_sqr   R-squared:                       0.009\n",
       "Model:                            OLS   Adj. R-squared:                  0.008\n",
       "Method:                 Least Squares   F-statistic:                     7.361\n",
       "Date:                Fri, 07 May 2021   Prob (F-statistic):           6.55e-05\n",
       "Time:                        14:50:13   Log-Likelihood:                -1251.1\n",
       "No. Observations:                2500   AIC:                             2510.\n",
       "Df Residuals:                    2496   BIC:                             2534.\n",
       "Df Model:                           3                                         \n",
       "Covariance Type:            nonrobust                                         \n",
       "==================================================================================\n",
       "                     coef    std err          t      P>|t|      [0.025      0.975]\n",
       "----------------------------------------------------------------------------------\n",
       "Intercept          0.6062      0.016     37.202      0.000       0.574       0.638\n",
       "C(Season)[T.2]     0.0439      0.023      1.933      0.053      -0.001       0.088\n",
       "C(Season)[T.3]     0.0903      0.023      3.969      0.000       0.046       0.135\n",
       "C(Season)[T.4]     0.0918      0.023      4.027      0.000       0.047       0.136\n",
       "==============================================================================\n",
       "Omnibus:                     1411.075   Durbin-Watson:                   0.826\n",
       "Prob(Omnibus):                  0.000   Jarque-Bera (JB):            14138.766\n",
       "Skew:                           2.510   Prob(JB):                         0.00\n",
       "Kurtosis:                      13.513   Cond. No.                         4.87\n",
       "==============================================================================\n",
       "\n",
       "Notes:\n",
       "[1] Standard Errors assume that the covariance matrix of the errors is correctly specified.\n",
       "\"\"\""
      ]
     },
     "execution_count": 79,
     "metadata": {},
     "output_type": "execute_result"
    }
   ],
   "source": [
    "reg2= smf.ols(formula='RV_sc_sqr ~ C(Season)',data=data).fit()\n",
    "reg2.summary()"
   ]
  },
  {
   "cell_type": "markdown",
   "metadata": {},
   "source": [
    "$\\widehat{\\sqrt{\\text{5 min RV}}} = 0.6062 + 0.0439\\times D_{\\text{Autumn}}+0.0903\\times D_{\\text{Winter}}+0.0918\\times D_{\\text{Spring}}$\n",
    "\n",
    "This is actually five predictions for the square root of 5 min RV, one for each category of day. These are:\n",
    "\n",
    "$\\widehat{\\sqrt{\\text{5 min RV}}} = 0.6062\\%$, when $D_{\\text{Autumn}} = D_{\\text{Winter}} = D_{\\text{Spring}}=0$\n",
    "\n",
    "$\\widehat{\\sqrt{\\text{5 min RV}}} =  0.6062\\%+0.0439\\%=0.6501\\%$, when $D_{\\text{Winter}} = D_{\\text{Spring}}=0$, $D_{\\text{Autumn}} = 1$\n",
    "\n",
    "$\\widehat{\\sqrt{\\text{5 min RV}}} = 0.6062\\%+0.0903\\%=0.6965\\%$, when $D_{\\text{Autumn}} = D_{\\text{Spring}}=0$, $D_{\\text{Winter}} = 1$\n",
    "\n",
    "$\\widehat{\\sqrt{\\text{5 min RV}}} = 0.6062\\%+0.0918\\%=0.6980\\%$, when $D_{\\text{Autumn}} = D_{\\text{Winter}} =0$, $D_{\\text{Spring}}=1$\n",
    "\n",
    "The simple interpretation is that we predict the square root of 5 min RV to be, on average: 0.6062% in Summer; 0.6501% in Autumn; 0.6965% in Winter, 0.6980% in Spring."
   ]
  },
  {
   "cell_type": "code",
   "execution_count": 80,
   "metadata": {},
   "outputs": [
    {
     "data": {
      "text/plain": [
       "(0.15955146165789025, 0.39943893357795035)"
      ]
     },
     "execution_count": 80,
     "metadata": {},
     "output_type": "execute_result"
    }
   ],
   "source": [
    "reg2.mse_resid, reg2.mse_resid**0.5"
   ]
  },
  {
   "cell_type": "markdown",
   "metadata": {},
   "source": [
    "It can be seen that as $R^{2} = 0.009$ and $R^{2}_{\\text{adjusted}}=0.008$, the linear relationship estimated above is statistically weak. Besides, the SER of 0.3994% of the model needs to be examined cautiuosly by financial consultant regarding whether this is significant in this case. \n",
    "\n",
    "Other than that, considering 3 tests regarding $H_0$: $\\beta_{i} =0$ vs $H_1$: $\\beta_{i} \\neq 0$ for i=1,2,3 at $\\alpha = 0.05$, the p-values for each i are 0.530, 0.000, and 0.000 and such results imply that we can reject the null hypotheses in case i=2,3 and that the $D_{\\text{Autumn}}$ and the square root of 5 min RV are not significantly linearly related while the linear relationships between the square root of 5 min RV and $D_{\\text{Winter}}$, $D_{\\text{Spring}}$ are significant."
   ]
  },
  {
   "cell_type": "code",
   "execution_count": 81,
   "metadata": {},
   "outputs": [
    {
     "data": {
      "text/html": [
       "<div>\n",
       "<style scoped>\n",
       "    .dataframe tbody tr th:only-of-type {\n",
       "        vertical-align: middle;\n",
       "    }\n",
       "\n",
       "    .dataframe tbody tr th {\n",
       "        vertical-align: top;\n",
       "    }\n",
       "\n",
       "    .dataframe thead th {\n",
       "        text-align: right;\n",
       "    }\n",
       "</style>\n",
       "<table border=\"1\" class=\"dataframe\">\n",
       "  <thead>\n",
       "    <tr style=\"text-align: right;\">\n",
       "      <th></th>\n",
       "      <th>sum_sq</th>\n",
       "      <th>df</th>\n",
       "      <th>F</th>\n",
       "      <th>PR(&gt;F)</th>\n",
       "    </tr>\n",
       "  </thead>\n",
       "  <tbody>\n",
       "    <tr>\n",
       "      <th>Intercept</th>\n",
       "      <td>220.820178</td>\n",
       "      <td>1.0</td>\n",
       "      <td>1384.005988</td>\n",
       "      <td>2.114538e-241</td>\n",
       "    </tr>\n",
       "    <tr>\n",
       "      <th>C(Season)</th>\n",
       "      <td>3.523371</td>\n",
       "      <td>3.0</td>\n",
       "      <td>7.360992</td>\n",
       "      <td>6.553620e-05</td>\n",
       "    </tr>\n",
       "    <tr>\n",
       "      <th>Residual</th>\n",
       "      <td>398.240448</td>\n",
       "      <td>2496.0</td>\n",
       "      <td>NaN</td>\n",
       "      <td>NaN</td>\n",
       "    </tr>\n",
       "  </tbody>\n",
       "</table>\n",
       "</div>"
      ],
      "text/plain": [
       "               sum_sq      df            F         PR(>F)\n",
       "Intercept  220.820178     1.0  1384.005988  2.114538e-241\n",
       "C(Season)    3.523371     3.0     7.360992   6.553620e-05\n",
       "Residual   398.240448  2496.0          NaN            NaN"
      ]
     },
     "execution_count": 81,
     "metadata": {},
     "output_type": "execute_result"
    }
   ],
   "source": [
    "table2= sm.stats.anova_lm(reg2, typ=3)\n",
    "table2"
   ]
  },
  {
   "cell_type": "markdown",
   "metadata": {},
   "source": [
    "The hypotheses here are:\n",
    "\n",
    "$H_{0}$: $\\mu_{1}=...=\\mu_{4}$, means are the same across 4 seasons\n",
    "\n",
    "$H_{1}$: $\\exists i,j \\in \\{1,2,3,4\\}$, $i \\neq j$ and $\\mu_{i}\\neq\\mu_{j}$, at least two means are different across 4 seasons\n",
    "\n",
    "For $\\mu_{1}$, $\\mu_{2}$, $\\mu_{3}$, and $\\mu_{4}$ are the mean of the square root of 5 min RV in Summer, Autumn, Winter, and Spring respectively.\n",
    "\n",
    "We choose $\\alpha=0.05$ as standard. \n",
    "\n",
    "The test statistics is $F_{\\text{stat}} =7.360992$, which has a F distribution with $m-1 = 4-1=3$ degrees of freedom in numerator and $n-m=2500-4=2496$ degrees of freedom in denominator, , if the null of equality of means is, and the LSA 1-6 assumptions are also, true. \n",
    "\n",
    "The chance that the resulting F value would be more extreme than 7.360992, in the direction of the alternative hypothesis which is more or greater than, is very close to 0. Specifically, the p-value is $P(F_{3,2496} > 7.360992) = 0.000066$. \n",
    "\n",
    "Hence, such p-value is $< 0.05$, it is statistically sufficient for us to reject the null and conclude that the mean RV of difference seasons of a year is difference from each other. In other words, the root square of 5 min RV may be affected by season of the year."
   ]
  },
  {
   "cell_type": "markdown",
   "metadata": {},
   "source": [
    "<span style=\"color:red\">Assumptions assessment</span>"
   ]
  },
  {
   "cell_type": "code",
   "execution_count": 82,
   "metadata": {},
   "outputs": [
    {
     "data": {
      "text/plain": [
       "<matplotlib.collections.PathCollection at 0x22535d8c4f0>"
      ]
     },
     "execution_count": 82,
     "metadata": {},
     "output_type": "execute_result"
    },
    {
     "data": {
      "image/png": "[encoded data removed]",
      "text/plain": [
       "<Figure size 432x288 with 1 Axes>"
      ]
     },
     "metadata": {
      "needs_background": "light"
     },
     "output_type": "display_data"
    }
   ],
   "source": [
    "plt.scatter(data['Season'],data['RV_sc_sqr'])"
   ]
  },
  {
   "cell_type": "code",
   "execution_count": 83,
   "metadata": {},
   "outputs": [
    {
     "data": {
      "text/plain": [
       "<matplotlib.collections.PathCollection at 0x22535e38880>"
      ]
     },
     "execution_count": 83,
     "metadata": {},
     "output_type": "execute_result"
    },
    {
     "data": {
      "image/png": "[encoded data removed]",
      "text/plain": [
       "<Figure size 432x288 with 1 Axes>"
      ]
     },
     "metadata": {
      "needs_background": "light"
     },
     "output_type": "display_data"
    }
   ],
   "source": [
    "fit2 = reg2.fittedvalues\n",
    "res2 = reg2.resid\n",
    "plt.scatter(fit2,res2)"
   ]
  },
  {
   "cell_type": "markdown",
   "metadata": {},
   "source": [
    "The residuals in the above graphs seem to have changing variance across 4 groups. However, the root of this phenomenon may be the existence of small number of outliers in each group. Thus, this may not harm the assumption of constant variance"
   ]
  },
  {
   "cell_type": "code",
   "execution_count": 84,
   "metadata": {},
   "outputs": [
    {
     "data": {
      "text/plain": [
       "<seaborn.axisgrid.JointGrid at 0x22535e20b50>"
      ]
     },
     "execution_count": 84,
     "metadata": {},
     "output_type": "execute_result"
    },
    {
     "data": {
      "image/png": "[encoded data removed]",
      "text/plain": [
       "<Figure size 432x432 with 3 Axes>"
      ]
     },
     "metadata": {
      "needs_background": "light"
     },
     "output_type": "display_data"
    }
   ],
   "source": [
    "sns.jointplot(x=fit2, y=res2, kind=\"reg\")"
   ]
  },
  {
   "cell_type": "code",
   "execution_count": 85,
   "metadata": {},
   "outputs": [
    {
     "data": {
      "text/plain": [
       "(3.9898639947466563e-17, 1.0000000000025966)"
      ]
     },
     "execution_count": 85,
     "metadata": {},
     "output_type": "execute_result"
    }
   ],
   "source": [
    "p, p_value = stats.pearsonr(fit2,res2)\n",
    "p, p_value"
   ]
  },
  {
   "cell_type": "markdown",
   "metadata": {},
   "source": [
    "From the above plot, equally spread residuals around a horizontal line without distinct patterns, that is a good indication of constant variance across groups. On the other hand, the regression line of estimated residuals to the fitted values is a perfect horizontal line through the origin $O(0,0)$ associated with the result of testing hypotheses $H_{\\text{0}}: \\rho = 0$ versus $H_{\\text{1}}: \\rho \\neq 0$, the p-value of nearly one claim that this correlation coefficient is significantly around zero. Thus, the true linearity relationship may be assured."
   ]
  },
  {
   "cell_type": "code",
   "execution_count": 86,
   "metadata": {},
   "outputs": [],
   "source": [
    "data['res_2']=res2"
   ]
  },
  {
   "cell_type": "code",
   "execution_count": 87,
   "metadata": {},
   "outputs": [
    {
     "data": {
      "text/plain": [
       "DescribeResult(nobs=601, minmax=(-0.4602162217558614, 1.77096090895537), mean=1.77340117078228e-16, variance=0.13284075184157654, skewness=1.866855409571993, kurtosis=4.2002642640547885)"
      ]
     },
     "execution_count": 87,
     "metadata": {},
     "output_type": "execute_result"
    }
   ],
   "source": [
    "stats.describe(data.loc[data['Summer']==1, 'res_2'])"
   ]
  },
  {
   "cell_type": "code",
   "execution_count": 88,
   "metadata": {},
   "outputs": [
    {
     "data": {
      "text/plain": [
       "DescribeResult(nobs=637, minmax=(-0.55107573683158, 2.02009011439649), mean=-5.0195326702047896e-17, variance=0.11705986299010045, skewness=2.0811283733320574, kurtosis=6.854220201843342)"
      ]
     },
     "execution_count": 88,
     "metadata": {},
     "output_type": "execute_result"
    }
   ],
   "source": [
    "stats.describe(data.loc[data['Autumn']==1, 'res_2'])"
   ]
  },
  {
   "cell_type": "code",
   "execution_count": 89,
   "metadata": {},
   "outputs": [
    {
     "data": {
      "text/plain": [
       "DescribeResult(nobs=633, minmax=(-0.5290219292411711, 3.2759059490411673), mean=1.0102503352039339e-16, variance=0.15819219312872743, skewness=2.5290789002959877, kurtosis=11.996324798696627)"
      ]
     },
     "execution_count": 89,
     "metadata": {},
     "output_type": "execute_result"
    }
   ],
   "source": [
    "stats.describe(data.loc[data['Winter']==1, 'res_2'])"
   ]
  },
  {
   "cell_type": "code",
   "execution_count": 90,
   "metadata": {},
   "outputs": [
    {
     "data": {
      "text/plain": [
       "DescribeResult(nobs=629, minmax=(-0.5334527241147576, 3.0355492028677897), mean=2.0333496412848655e-16, variance=0.22947206731542763, skewness=2.774403395254762, kurtosis=10.889638070016339)"
      ]
     },
     "execution_count": 90,
     "metadata": {},
     "output_type": "execute_result"
    }
   ],
   "source": [
    "stats.describe(data.loc[data['Spring']==1, 'res_2'])"
   ]
  },
  {
   "cell_type": "markdown",
   "metadata": {},
   "source": [
    "The sample mean of residuals given the observation is in Summer group is $1.77340117078228\\times10^{-16}$%, which suggests $E(\\varepsilon_{i,Summer}|Summer)=0$% may hold.\n",
    "\n",
    "The sample mean of residuals given the observation is in Autumn group is $-5.0195326702047896\\times10^{-17}$%, which suggests $E(\\varepsilon_{i,Autumn}|Autumn)=0$% may hold.\n",
    "\n",
    "The sample mean of residuals given the observation is in Winter group is $1.0102503352039339\\times10^{-16}$%, which suggests $E(\\varepsilon_{i,Winter}|Winter)=0$% may hold.\n",
    "\n",
    "The sample mean of residuals given the observation is in Spring group is $2.0333496412848655\\times10^{-16}$%, which suggests $E(\\varepsilon_{i,Spring}|Spring)=0$% may hold."
   ]
  },
  {
   "cell_type": "code",
   "execution_count": 91,
   "metadata": {},
   "outputs": [
    {
     "data": {
      "text/plain": [
       "<AxesSubplot:xlabel='RV_sc_sqr', ylabel='Count'>"
      ]
     },
     "execution_count": 91,
     "metadata": {},
     "output_type": "execute_result"
    },
    {
     "data": {
      "image/png": "[encoded data removed]",
      "text/plain": [
       "<Figure size 432x288 with 1 Axes>"
      ]
     },
     "metadata": {
      "needs_background": "light"
     },
     "output_type": "display_data"
    }
   ],
   "source": [
    "sns.histplot(data['RV_sc_sqr'], kde=False)"
   ]
  },
  {
   "cell_type": "markdown",
   "metadata": {},
   "source": [
    "Assumptions of one-way ANOVA test: \n",
    "\n",
    "$1/$ Linearity ($E(Y|X=j)=\\mu_{j}$  for $j=1,...,4$): the residual plot suggests that linearity could hold and the discussion of relationship of residuals and fitted values above further consolidates this claim. Thus, this assumption may be met.\n",
    "\n",
    "$2/$ Exogeneity ($E(\\varepsilon|X=j)=0$ for $j=1,...,4$): the residuals against predicted values plot suggests that $E(\\varepsilon|X=j)\\approx0$ for $j=1,...,4$. Furthermore, the sample mean of residuals in each group is also approximately zero as discussed above, which suggests this assumption may be met.\n",
    "\n",
    "$3/$ The data are independent and identically distributed in each group: this assumes the distribution of the square root of 5 min RV is the same within each group and is only affected by season of the year, meaning no other factor determining the square root of 5 min RV changes between different season of the year. First, the square root of 5 min RV do not display any clear trends over time, they seem close to uncorrelated over time. Further, financial theory does say (strongly) that market efficiency implies that returns should be independent and identically distributed (\"strong efficiency\") and certainly uncorrelated (\"weak efficiency\") over time. Thus, the square root of 5 min RV may be independent among groups. Hence, this assumption may be met.\n",
    "\n",
    "However, it should be noted that from the time series plot, the RV displays a strong pattern over time: there are periods of persistent high volatility and at other times periods of  persistent low volatility. High values of the RV tend to follow high values of the RV; and vice versa. Thus, this may be detrimental to the validity of the assumption and in such case, data thinning may have helped remove any autocorrelation here.\n",
    "\n",
    "$4/$ The data in each group have finite forth moments ($E(Y_{j}^4)<\\infty$ for $j=1,...,4$): According to the exploratory analysis of the root mean square of 5 min RV, there are several outliers associated with high kurtosis of 10.71 and distribution with flat tail and highly positive skewness. On the other hand, the Fisher's kurtosis for the root mean square of 5 min RV of Summer, Autumn, Winter, and Spring are 4.20, 6.85, 11.99, and 10.89 respectively suggesting excessive outliers in each group distribution. Hence, this may cast doubt on the finite value of the forth moments of the square root of 5 min RV across groups. However, it should be noted the fact that the financial nature of return volatility allows the square root of 5 min RV values have a lower bound of 0 and should have a certain upper bound. Thus, the square root of 5 min RV is a bouned random variable. Hence, this assumption may be met.\n",
    "\n",
    "$5/$ $n_{j} \\geq 30$ for $j=1,...,4$: 601,633,627,639 are respectively the number of observations originating from Summer, Autumn, Winter, and Spring groups. Thus, it is sufficient to conclude that this assumption is met.\n",
    "\n",
    "$6/$ Equality of variances across the groups ($Var(Y|X=j)= \\sigma^2$ for $j=1,...,4$): according to the residuals against predicted values plot, the variance of the residuals seems to remain constant due to  equally spread residuals around a horizontal line without distinct patterns. Furthermore, the sample variance of residuals for Summer, Autumn, Winter, and Spring groups are 0.13, 0.12, 0.16, and 0.23 respectively, which are quite varied but this may or may not be due to the influence of outliers, suggesting this assumption may be satisfied in general. However, to be cautious, a Het-robust version of this ANOVA test should be conducted, which is illustrated as below."
   ]
  },
  {
   "cell_type": "code",
   "execution_count": 92,
   "metadata": {},
   "outputs": [
    {
     "data": {
      "text/html": [
       "<table class=\"simpletable\">\n",
       "<caption>OLS Regression Results</caption>\n",
       "<tr>\n",
       "  <th>Dep. Variable:</th>        <td>RV_sc_sqr</td>    <th>  R-squared:         </th> <td>   0.009</td>\n",
       "</tr>\n",
       "<tr>\n",
       "  <th>Model:</th>                   <td>OLS</td>       <th>  Adj. R-squared:    </th> <td>   0.008</td>\n",
       "</tr>\n",
       "<tr>\n",
       "  <th>Method:</th>             <td>Least Squares</td>  <th>  F-statistic:       </th> <td>   7.603</td>\n",
       "</tr>\n",
       "<tr>\n",
       "  <th>Date:</th>             <td>Fri, 07 May 2021</td> <th>  Prob (F-statistic):</th> <td>4.64e-05</td>\n",
       "</tr>\n",
       "<tr>\n",
       "  <th>Time:</th>                 <td>14:50:17</td>     <th>  Log-Likelihood:    </th> <td> -1251.1</td>\n",
       "</tr>\n",
       "<tr>\n",
       "  <th>No. Observations:</th>      <td>  2500</td>      <th>  AIC:               </th> <td>   2510.</td>\n",
       "</tr>\n",
       "<tr>\n",
       "  <th>Df Residuals:</th>          <td>  2496</td>      <th>  BIC:               </th> <td>   2534.</td>\n",
       "</tr>\n",
       "<tr>\n",
       "  <th>Df Model:</th>              <td>     3</td>      <th>                     </th>     <td> </td>   \n",
       "</tr>\n",
       "<tr>\n",
       "  <th>Covariance Type:</th>         <td>HC0</td>       <th>                     </th>     <td> </td>   \n",
       "</tr>\n",
       "</table>\n",
       "<table class=\"simpletable\">\n",
       "<tr>\n",
       "         <td></td>           <th>coef</th>     <th>std err</th>      <th>z</th>      <th>P>|z|</th>  <th>[0.025</th>    <th>0.975]</th>  \n",
       "</tr>\n",
       "<tr>\n",
       "  <th>Intercept</th>      <td>    0.6062</td> <td>    0.015</td> <td>   40.805</td> <td> 0.000</td> <td>    0.577</td> <td>    0.635</td>\n",
       "</tr>\n",
       "<tr>\n",
       "  <th>C(Season)[T.2]</th> <td>    0.0439</td> <td>    0.020</td> <td>    2.185</td> <td> 0.029</td> <td>    0.005</td> <td>    0.083</td>\n",
       "</tr>\n",
       "<tr>\n",
       "  <th>C(Season)[T.3]</th> <td>    0.0903</td> <td>    0.022</td> <td>    4.164</td> <td> 0.000</td> <td>    0.048</td> <td>    0.133</td>\n",
       "</tr>\n",
       "<tr>\n",
       "  <th>C(Season)[T.4]</th> <td>    0.0918</td> <td>    0.024</td> <td>    3.794</td> <td> 0.000</td> <td>    0.044</td> <td>    0.139</td>\n",
       "</tr>\n",
       "</table>\n",
       "<table class=\"simpletable\">\n",
       "<tr>\n",
       "  <th>Omnibus:</th>       <td>1411.075</td> <th>  Durbin-Watson:     </th> <td>   0.826</td> \n",
       "</tr>\n",
       "<tr>\n",
       "  <th>Prob(Omnibus):</th>  <td> 0.000</td>  <th>  Jarque-Bera (JB):  </th> <td>14138.766</td>\n",
       "</tr>\n",
       "<tr>\n",
       "  <th>Skew:</th>           <td> 2.510</td>  <th>  Prob(JB):          </th> <td>    0.00</td> \n",
       "</tr>\n",
       "<tr>\n",
       "  <th>Kurtosis:</th>       <td>13.513</td>  <th>  Cond. No.          </th> <td>    4.87</td> \n",
       "</tr>\n",
       "</table><br/><br/>Notes:<br/>[1] Standard Errors are heteroscedasticity robust (HC0)"
      ],
      "text/plain": [
       "<class 'statsmodels.iolib.summary.Summary'>\n",
       "\"\"\"\n",
       "                            OLS Regression Results                            \n",
       "==============================================================================\n",
       "Dep. Variable:              RV_sc_sqr   R-squared:                       0.009\n",
       "Model:                            OLS   Adj. R-squared:                  0.008\n",
       "Method:                 Least Squares   F-statistic:                     7.603\n",
       "Date:                Fri, 07 May 2021   Prob (F-statistic):           4.64e-05\n",
       "Time:                        14:50:17   Log-Likelihood:                -1251.1\n",
       "No. Observations:                2500   AIC:                             2510.\n",
       "Df Residuals:                    2496   BIC:                             2534.\n",
       "Df Model:                           3                                         \n",
       "Covariance Type:                  HC0                                         \n",
       "==================================================================================\n",
       "                     coef    std err          z      P>|z|      [0.025      0.975]\n",
       "----------------------------------------------------------------------------------\n",
       "Intercept          0.6062      0.015     40.805      0.000       0.577       0.635\n",
       "C(Season)[T.2]     0.0439      0.020      2.185      0.029       0.005       0.083\n",
       "C(Season)[T.3]     0.0903      0.022      4.164      0.000       0.048       0.133\n",
       "C(Season)[T.4]     0.0918      0.024      3.794      0.000       0.044       0.139\n",
       "==============================================================================\n",
       "Omnibus:                     1411.075   Durbin-Watson:                   0.826\n",
       "Prob(Omnibus):                  0.000   Jarque-Bera (JB):            14138.766\n",
       "Skew:                           2.510   Prob(JB):                         0.00\n",
       "Kurtosis:                      13.513   Cond. No.                         4.87\n",
       "==============================================================================\n",
       "\n",
       "Notes:\n",
       "[1] Standard Errors are heteroscedasticity robust (HC0)\n",
       "\"\"\""
      ]
     },
     "execution_count": 92,
     "metadata": {},
     "output_type": "execute_result"
    }
   ],
   "source": [
    "reg2_new= smf.ols(formula='RV_sc_sqr ~ C(Season)',data=data).fit(cov_type='HC0')\n",
    "reg2_new.summary()"
   ]
  },
  {
   "cell_type": "markdown",
   "metadata": {},
   "source": [
    "$\\widehat{\\sqrt{\\text{5 min RV}}} = 0.6062 + 0.0439\\times D_{\\text{Autumn}}+0.0903\\times D_{\\text{Winter}}+0.0918\\times D_{\\text{Spring}}$\n",
    "\n",
    "This is actually five predictions for the square root of 5 min RV, one for each category of day. These are:\n",
    "\n",
    "$\\widehat{\\sqrt{\\text{5 min RV}}} = 0.6062\\%$, when $D_{\\text{Autumn}} = D_{\\text{Winter}} = D_{\\text{Spring}}=0$\n",
    "\n",
    "$\\widehat{\\sqrt{\\text{5 min RV}}} =  0.6062\\%+0.0439\\%=0.6501\\%$, when $D_{\\text{Winter}} = D_{\\text{Spring}}=0$, $D_{\\text{Autumn}} = 1$\n",
    "\n",
    "$\\widehat{\\sqrt{\\text{5 min RV}}} = 0.6062\\%+0.0903\\%=0.6965\\%$, when $D_{\\text{Autumn}} = D_{\\text{Spring}}=0$, $D_{\\text{Winter}} = 1$\n",
    "\n",
    "$\\widehat{\\sqrt{\\text{5 min RV}}} = 0.6062\\%+0.0918\\%=0.6980\\%$, when $D_{\\text{Autumn}} = D_{\\text{Winter}} =0$, $D_{\\text{Spring}}=1$\n",
    "\n",
    "The simple interpretation is that we predict the square root of 5 min RV to be, on average: 0.6062% in Summer; 0.6501% in Autumn; 0.6965% in Winter, 0.6980% in Spring."
   ]
  },
  {
   "cell_type": "code",
   "execution_count": 93,
   "metadata": {},
   "outputs": [
    {
     "data": {
      "text/html": [
       "<div>\n",
       "<style scoped>\n",
       "    .dataframe tbody tr th:only-of-type {\n",
       "        vertical-align: middle;\n",
       "    }\n",
       "\n",
       "    .dataframe tbody tr th {\n",
       "        vertical-align: top;\n",
       "    }\n",
       "\n",
       "    .dataframe thead th {\n",
       "        text-align: right;\n",
       "    }\n",
       "</style>\n",
       "<table border=\"1\" class=\"dataframe\">\n",
       "  <thead>\n",
       "    <tr style=\"text-align: right;\">\n",
       "      <th></th>\n",
       "      <th>sum_sq</th>\n",
       "      <th>df</th>\n",
       "      <th>F</th>\n",
       "      <th>PR(&gt;F)</th>\n",
       "    </tr>\n",
       "  </thead>\n",
       "  <tbody>\n",
       "    <tr>\n",
       "      <th>C(Season)</th>\n",
       "      <td>3.639421</td>\n",
       "      <td>3.0</td>\n",
       "      <td>7.603442</td>\n",
       "      <td>0.000046</td>\n",
       "    </tr>\n",
       "    <tr>\n",
       "      <th>Residual</th>\n",
       "      <td>398.240448</td>\n",
       "      <td>2496.0</td>\n",
       "      <td>NaN</td>\n",
       "      <td>NaN</td>\n",
       "    </tr>\n",
       "  </tbody>\n",
       "</table>\n",
       "</div>"
      ],
      "text/plain": [
       "               sum_sq      df         F    PR(>F)\n",
       "C(Season)    3.639421     3.0  7.603442  0.000046\n",
       "Residual   398.240448  2496.0       NaN       NaN"
      ]
     },
     "execution_count": 93,
     "metadata": {},
     "output_type": "execute_result"
    }
   ],
   "source": [
    "table2_new= sm.stats.anova_lm(reg2_new, typ=2)\n",
    "table2_new"
   ]
  },
  {
   "cell_type": "markdown",
   "metadata": {},
   "source": [
    "The hypotheses here are:\n",
    "\n",
    "$H_{0}$: $\\mu_{1}=...=\\mu_{4}$, means are the same across 4 seasons\n",
    "\n",
    "$H_{1}$: $\\exists i,j \\in \\{1,2,3,4\\}$, $i \\neq j$ and $\\mu_{i}\\neq\\mu_{j}$, at least two means are different across 4 seasons\n",
    "\n",
    "For $\\mu_{1}$, $\\mu_{2}$, $\\mu_{3}$, and $\\mu_{4}$ are the mean of the square root of 5 min RV in Summer, Autumn, Winter, and Spring respectively.\n",
    "\n",
    "We choose $\\alpha=0.05$ as standard. \n",
    "\n",
    "The test statistics is $F_{\\text{stat}} =7.603442$, which has a F distribution with $m-1 = 4-1=3$ degrees of freedom in numerator and $n-m=2500-4=2496$ degrees of freedom in denominator, , if the null of equality of means is, and the LSA 1-5 assumptions are also, true. \n",
    "\n",
    "The chance that the resulting F value would be more extreme than 7.360992, in the direction of the alternative hypothesis which is more or greater than, is very close to 0. Specifically, the p-value is $P(F_{3,2496} > 7.603442) = 0.000046$. \n",
    "\n",
    "Hence, such p-value is $< 0.05$, it is statistically sufficient for us to reject the null and conclude that the mean RV of difference seasons of a year is difference from each other. In other words, the root square of 5 min RV may be affected by season of the year."
   ]
  },
  {
   "cell_type": "markdown",
   "metadata": {},
   "source": [
    "<span style=\"color:red\">Differences assessment - the square root of 5 min RV and season of the year</span>"
   ]
  },
  {
   "cell_type": "code",
   "execution_count": 94,
   "metadata": {},
   "outputs": [
    {
     "name": "stdout",
     "output_type": "stream",
     "text": [
      "Multiple Comparison of Means - Tukey HSD, FWER=0.05\n",
      "===================================================\n",
      "group1 group2 meandiff p-adj   lower  upper  reject\n",
      "---------------------------------------------------\n",
      "     1      2   0.0439 0.2144 -0.0145 0.1023  False\n",
      "     1      3   0.0903  0.001  0.0318 0.1488   True\n",
      "     1      4   0.0918  0.001  0.0332 0.1503   True\n",
      "     2      3   0.0464 0.1638 -0.0113  0.104  False\n",
      "     2      4   0.0478 0.1436 -0.0099 0.1056  False\n",
      "     3      4   0.0015    0.9 -0.0563 0.0593  False\n",
      "---------------------------------------------------\n"
     ]
    }
   ],
   "source": [
    "dif2=MultiComparison(data['RV_sc_sqr'],data['Season'])\n",
    "result2 = dif2.tukeyhsd()\n",
    "print(result2)"
   ]
  },
  {
   "cell_type": "markdown",
   "metadata": {},
   "source": [
    "Turkey's interval for the mean difference from Autumn to Summer is $(-0.0145, 0.1023)$\n",
    "\n",
    "Turkey's interval for the mean difference from Winter to Summer is $(0.0318, 0.1488)$\n",
    "\n",
    "Turkey's interval for the mean difference from Spring to Monday is $(0.0332, 0.1503)$\n",
    "\n",
    "Turkey's interval for the mean difference from Winter to Autumn is $(-0.0113, 0.1040)$\n",
    "\n",
    "Turkey's interval for the mean difference from Spring to Autumn is $(-0.0099, 0.1056)$\n",
    "\n",
    "Turkey's interval for the mean difference from Spring to Winter is $(-0.0563, 0.0593)$\n",
    "\n",
    "In this case, while the differences between Summer and Winter, Summer and Springe significant and the differences of the other pairs are not statistically significant in terms of the square root of 5 min RV at $\\alpha = 0.05$."
   ]
  },
  {
   "cell_type": "markdown",
   "metadata": {},
   "source": [
    "<span style=\"color:red\">ANOVA test for log of the square root of 5 min RV and day of the week</span>"
   ]
  },
  {
   "cell_type": "code",
   "execution_count": 95,
   "metadata": {},
   "outputs": [
    {
     "data": {
      "text/html": [
       "<table class=\"simpletable\">\n",
       "<caption>OLS Regression Results</caption>\n",
       "<tr>\n",
       "  <th>Dep. Variable:</th>      <td>log_RV_sc_sqr</td>  <th>  R-squared:         </th> <td>   0.032</td>\n",
       "</tr>\n",
       "<tr>\n",
       "  <th>Model:</th>                   <td>OLS</td>       <th>  Adj. R-squared:    </th> <td>   0.030</td>\n",
       "</tr>\n",
       "<tr>\n",
       "  <th>Method:</th>             <td>Least Squares</td>  <th>  F-statistic:       </th> <td>   20.58</td>\n",
       "</tr>\n",
       "<tr>\n",
       "  <th>Date:</th>             <td>Fri, 07 May 2021</td> <th>  Prob (F-statistic):</th> <td>1.05e-16</td>\n",
       "</tr>\n",
       "<tr>\n",
       "  <th>Time:</th>                 <td>14:50:18</td>     <th>  Log-Likelihood:    </th> <td> -1802.7</td>\n",
       "</tr>\n",
       "<tr>\n",
       "  <th>No. Observations:</th>      <td>  2500</td>      <th>  AIC:               </th> <td>   3615.</td>\n",
       "</tr>\n",
       "<tr>\n",
       "  <th>Df Residuals:</th>          <td>  2495</td>      <th>  BIC:               </th> <td>   3645.</td>\n",
       "</tr>\n",
       "<tr>\n",
       "  <th>Df Model:</th>              <td>     4</td>      <th>                     </th>     <td> </td>   \n",
       "</tr>\n",
       "<tr>\n",
       "  <th>Covariance Type:</th>      <td>nonrobust</td>    <th>                     </th>     <td> </td>   \n",
       "</tr>\n",
       "</table>\n",
       "<table class=\"simpletable\">\n",
       "<tr>\n",
       "           <td></td>              <th>coef</th>     <th>std err</th>      <th>t</th>      <th>P>|t|</th>  <th>[0.025</th>    <th>0.975]</th>  \n",
       "</tr>\n",
       "<tr>\n",
       "  <th>Intercept</th>           <td>   -0.5203</td> <td>    0.022</td> <td>  -23.212</td> <td> 0.000</td> <td>   -0.564</td> <td>   -0.476</td>\n",
       "</tr>\n",
       "<tr>\n",
       "  <th>C(day_of_week)[T.1]</th> <td>    0.0008</td> <td>    0.031</td> <td>    0.025</td> <td> 0.980</td> <td>   -0.060</td> <td>    0.062</td>\n",
       "</tr>\n",
       "<tr>\n",
       "  <th>C(day_of_week)[T.2]</th> <td>    0.0331</td> <td>    0.031</td> <td>    1.051</td> <td> 0.293</td> <td>   -0.029</td> <td>    0.095</td>\n",
       "</tr>\n",
       "<tr>\n",
       "  <th>C(day_of_week)[T.3]</th> <td>    0.0302</td> <td>    0.032</td> <td>    0.957</td> <td> 0.339</td> <td>   -0.032</td> <td>    0.092</td>\n",
       "</tr>\n",
       "<tr>\n",
       "  <th>C(day_of_week)[T.4]</th> <td>   -0.2120</td> <td>    0.032</td> <td>   -6.616</td> <td> 0.000</td> <td>   -0.275</td> <td>   -0.149</td>\n",
       "</tr>\n",
       "</table>\n",
       "<table class=\"simpletable\">\n",
       "<tr>\n",
       "  <th>Omnibus:</th>       <td>79.642</td> <th>  Durbin-Watson:     </th> <td>   0.762</td>\n",
       "</tr>\n",
       "<tr>\n",
       "  <th>Prob(Omnibus):</th> <td> 0.000</td> <th>  Jarque-Bera (JB):  </th> <td>  87.123</td>\n",
       "</tr>\n",
       "<tr>\n",
       "  <th>Skew:</th>          <td> 0.435</td> <th>  Prob(JB):          </th> <td>1.21e-19</td>\n",
       "</tr>\n",
       "<tr>\n",
       "  <th>Kurtosis:</th>      <td> 3.284</td> <th>  Cond. No.          </th> <td>    5.86</td>\n",
       "</tr>\n",
       "</table><br/><br/>Notes:<br/>[1] Standard Errors assume that the covariance matrix of the errors is correctly specified."
      ],
      "text/plain": [
       "<class 'statsmodels.iolib.summary.Summary'>\n",
       "\"\"\"\n",
       "                            OLS Regression Results                            \n",
       "==============================================================================\n",
       "Dep. Variable:          log_RV_sc_sqr   R-squared:                       0.032\n",
       "Model:                            OLS   Adj. R-squared:                  0.030\n",
       "Method:                 Least Squares   F-statistic:                     20.58\n",
       "Date:                Fri, 07 May 2021   Prob (F-statistic):           1.05e-16\n",
       "Time:                        14:50:18   Log-Likelihood:                -1802.7\n",
       "No. Observations:                2500   AIC:                             3615.\n",
       "Df Residuals:                    2495   BIC:                             3645.\n",
       "Df Model:                           4                                         \n",
       "Covariance Type:            nonrobust                                         \n",
       "=======================================================================================\n",
       "                          coef    std err          t      P>|t|      [0.025      0.975]\n",
       "---------------------------------------------------------------------------------------\n",
       "Intercept              -0.5203      0.022    -23.212      0.000      -0.564      -0.476\n",
       "C(day_of_week)[T.1]     0.0008      0.031      0.025      0.980      -0.060       0.062\n",
       "C(day_of_week)[T.2]     0.0331      0.031      1.051      0.293      -0.029       0.095\n",
       "C(day_of_week)[T.3]     0.0302      0.032      0.957      0.339      -0.032       0.092\n",
       "C(day_of_week)[T.4]    -0.2120      0.032     -6.616      0.000      -0.275      -0.149\n",
       "==============================================================================\n",
       "Omnibus:                       79.642   Durbin-Watson:                   0.762\n",
       "Prob(Omnibus):                  0.000   Jarque-Bera (JB):               87.123\n",
       "Skew:                           0.435   Prob(JB):                     1.21e-19\n",
       "Kurtosis:                       3.284   Cond. No.                         5.86\n",
       "==============================================================================\n",
       "\n",
       "Notes:\n",
       "[1] Standard Errors assume that the covariance matrix of the errors is correctly specified.\n",
       "\"\"\""
      ]
     },
     "execution_count": 95,
     "metadata": {},
     "output_type": "execute_result"
    }
   ],
   "source": [
    "reg1_log= smf.ols(formula='log_RV_sc_sqr ~ C(day_of_week)',data=data).fit()\n",
    "reg1_log.summary()"
   ]
  },
  {
   "cell_type": "markdown",
   "metadata": {},
   "source": [
    "$\\widehat{log(\\sqrt{\\text{5 min RV}})} = -0.5203 + 0.0008\\times D_{\\text{Tues}}+0.0331\\times D_{\\text{Wed}}+0.0302\\times D_{\\text{Thurs}}-0.2120\\times D_{\\text{Fri}}$\n",
    "\n",
    "This is actually five predictions for the log of the square root of 5 min RV, one for each category of day. These are:\n",
    "\n",
    "$\\widehat{log(\\sqrt{\\text{5 min RV}})} = -0.5203$, when $D_{\\text{Tues}} = D_{\\text{Wed}} = D_{\\text{Thurs}} = D_{\\text{Fri}}=0$\n",
    "\n",
    "$\\widehat{log(\\sqrt{\\text{5 min RV}})} = -0.5203+0.0008=-0.5195$, when $D_{\\text{Wed}} = D_{\\text{Thurs}} = D_{\\text{Fri}}=0$, $D_{\\text{Tues}} = 1$\n",
    "\n",
    "$\\widehat{log(\\sqrt{\\text{5 min RV}})} = -0.5203+0.0331=-0.4872$, when $D_{\\text{Tues}} = D_{\\text{Thurs}} = D_{\\text{Fri}}=0$, $D_{\\text{Wed}} = 1$\n",
    "\n",
    "$\\widehat{log(\\sqrt{\\text{5 min RV}})} = -0.5203+0.0302=-0.4901$, when $D_{\\text{Tues}} = D_{\\text{Wed}} = D_{\\text{Fri}}=0$, $D_{\\text{Thurs}} = 1$\n",
    "\n",
    "$\\widehat{log(\\sqrt{\\text{5 min RV}})} = -0.5203-0.2120=-0.7323$, when $D_{\\text{Tues}} = D_{\\text{Wed}} = D_{\\text{Thurs}}=0$, $D_{\\text{Fri}} = 1$\n",
    "\n",
    "The simple interpretation is that we predict the log of the square root of 5 min RV to be, on average: -0.5203 on Monday; -0.5195 on Tuesday; -0.4872 on Wednesday, -0.4901 on Thursday, -0.7323 on Friday.\n",
    "\n",
    "Other than that, considering 4 tests regarding $H_0$: $\\beta_{i} =0$ vs $H_1$: $\\beta_{i} \\neq 0$ for i=1,2,3,4 at $\\alpha = 0.05$, the p-values for each i are 0.980, 0.293, 0.339, and 0.000 and such results imply that we can only reject the null hypotheses in case i=4 and that the $D_{\\text{Fri}}$ and the log of square root of 5 min RV are significantly linearly related while the linear relationships between the log of the square root of 5 min RV and $D_{\\text{Tues}}$, $D_{\\text{Wed}}$, $D_{\\text{Thurs}}$ are insignificant."
   ]
  },
  {
   "cell_type": "code",
   "execution_count": 96,
   "metadata": {},
   "outputs": [],
   "source": [
    "data['fit1_log']=reg1_log.fittedvalues"
   ]
  },
  {
   "cell_type": "markdown",
   "metadata": {},
   "source": [
    "Back-transform predictions"
   ]
  },
  {
   "cell_type": "code",
   "execution_count": 97,
   "metadata": {},
   "outputs": [
    {
     "name": "stdout",
     "output_type": "stream",
     "text": [
      "the back-transform predicted value for oberservation in group Mon is 0.5943676805350999%\n",
      "the back-transform predicted value for oberservation in group Tues is 0.5948364504761506%\n",
      "the back-transform predicted value for oberservation in group Wed is 0.6143548534499135%\n",
      "the back-transform predicted value for oberservation in group Thurs is 0.612600841822586%\n",
      "the back-transform predicted value for oberservation in group Fri is 0.4808182835626105%\n"
     ]
    },
    {
     "data": {
      "text/plain": [
       "array([0.59436768, 0.59483645, 0.61435485, 0.61260084, 0.48081828])"
      ]
     },
     "execution_count": 97,
     "metadata": {},
     "output_type": "execute_result"
    }
   ],
   "source": [
    "y=np.zeros(5)\n",
    "j=0\n",
    "for i in ['Mon','Tues','Wed','Thurs','Fri']:\n",
    "    y[j]= np.exp(np.mean(data.loc[data[i]==1, 'fit1_log']))\n",
    "    print('the back-transform predicted value for oberservation in group {} is {}%'.format(i,y[j]))\n",
    "    j=j+1\n",
    "y"
   ]
  },
  {
   "cell_type": "code",
   "execution_count": 98,
   "metadata": {},
   "outputs": [],
   "source": [
    "data['fit1_log_real'] = np.exp(reg1_log.fittedvalues)"
   ]
  },
  {
   "cell_type": "code",
   "execution_count": 99,
   "metadata": {},
   "outputs": [
    {
     "name": "stdout",
     "output_type": "stream",
     "text": [
      "0.4062331869159078 -0.02482692182640056 -0.02646993091950911\n"
     ]
    }
   ],
   "source": [
    "RSS = np.sum((data['fit1_log_real']-data['RV_sc_sqr'])**2)\n",
    "MSE = RSS/(2500-5)\n",
    "SER = MSE**0.5\n",
    "TSS = (np.std(data['RV_sc_sqr'])**2)*2500\n",
    "R_squared = 1 - (RSS/TSS)\n",
    "R_squared_adjusted = 1 - (RSS/TSS)*((2500-1)/(2500-5))\n",
    "print(SER, R_squared, R_squared_adjusted)\n"
   ]
  },
  {
   "cell_type": "markdown",
   "metadata": {},
   "source": [
    "Normal predictions"
   ]
  },
  {
   "cell_type": "code",
   "execution_count": 100,
   "metadata": {},
   "outputs": [
    {
     "name": "stdout",
     "output_type": "stream",
     "text": [
      "the normal predicted value for oberservation in group Mon is 0.6728874718881349%\n",
      "the normal predicted value for oberservation in group Tues is 0.6734181693517769%\n",
      "the normal predicted value for oberservation in group Wed is 0.6955150788278862%\n",
      "the normal predicted value for oberservation in group Thurs is 0.6935293509893331%\n",
      "the normal predicted value for oberservation in group Fri is 0.5443374696496996%\n"
     ]
    }
   ],
   "source": [
    "y=np.zeros(5)\n",
    "j=0\n",
    "for i in ['Mon','Tues','Wed','Thurs','Fri']:\n",
    "    y[j]=np.exp(np.mean(data.loc[data[i]==1, 'fit1_log']))*np.exp(reg1_log.mse_resid/2)\n",
    "    print('the normal predicted value for oberservation in group {} is {}%'.format(i,y[j]))\n",
    "    j=j+1"
   ]
  },
  {
   "cell_type": "code",
   "execution_count": 101,
   "metadata": {},
   "outputs": [],
   "source": [
    "data['fit1_log_real'] = np.exp(reg1_log.fittedvalues)*np.exp(reg1_log.mse_resid/2)"
   ]
  },
  {
   "cell_type": "code",
   "execution_count": 102,
   "metadata": {},
   "outputs": [
    {
     "name": "stdout",
     "output_type": "stream",
     "text": [
      "0.3977569961863124 0.017493617377779325 0.015918456844517204\n"
     ]
    }
   ],
   "source": [
    "RSS = np.sum((data['fit1_log_real']-data['RV_sc_sqr'])**2)\n",
    "MSE = RSS/(2500-5)\n",
    "SER = MSE**0.5\n",
    "TSS = (np.std(data['RV_sc_sqr'])**2)*2500\n",
    "R_squared = 1 - (RSS/TSS)\n",
    "R_squared_adjusted = 1 - (RSS/TSS)*((2500-1)/(2500-5))\n",
    "print(SER, R_squared, R_squared_adjusted)"
   ]
  },
  {
   "cell_type": "markdown",
   "metadata": {},
   "source": [
    "Duan predictions"
   ]
  },
  {
   "cell_type": "code",
   "execution_count": 103,
   "metadata": {},
   "outputs": [
    {
     "name": "stdout",
     "output_type": "stream",
     "text": [
      "the normal predicted value for oberservation in group Mon is 0.6791511554290997%\n",
      "the normal predicted value for oberservation in group Tues is 0.6796867929772389%\n",
      "the normal predicted value for oberservation in group Wed is 0.7019893951642012%\n",
      "the normal predicted value for oberservation in group Thurs is 0.6999851828519451%\n",
      "the normal predicted value for oberservation in group Fri is 0.5494045243829495%\n"
     ]
    }
   ],
   "source": [
    "E=np.mean(np.exp(reg1_log.resid))\n",
    "y=np.zeros(5)\n",
    "j=0\n",
    "for i in ['Mon','Tues','Wed','Thurs','Fri']:\n",
    "    y[j]= np.exp(np.mean(data.loc[data[i]==1, 'fit1_log']))*E\n",
    "    print('the normal predicted value for oberservation in group {} is {}%'.format(i,y[j]))\n",
    "    j=j+1"
   ]
  },
  {
   "cell_type": "code",
   "execution_count": 104,
   "metadata": {},
   "outputs": [],
   "source": [
    "data['fit1_log_real'] = np.exp(reg1_log.fittedvalues)*np.mean(np.exp(reg1_log.resid))"
   ]
  },
  {
   "cell_type": "code",
   "execution_count": 105,
   "metadata": {},
   "outputs": [
    {
     "name": "stdout",
     "output_type": "stream",
     "text": [
      "0.39771667561520047 0.017692800351070348 0.01611795914922831\n"
     ]
    }
   ],
   "source": [
    "RSS = np.sum((data['fit1_log_real']-data['RV_sc_sqr'])**2)\n",
    "MSE = RSS/(2500-5)\n",
    "SER = MSE**0.5\n",
    "TSS = (np.std(data['RV_sc_sqr'])**2)*2500\n",
    "R_squared = 1 - (RSS/TSS)\n",
    "R_squared_adjusted = 1 - (RSS/TSS)*((2500-1)/(2500-5))\n",
    "print(SER, R_squared, R_squared_adjusted)"
   ]
  },
  {
   "cell_type": "markdown",
   "metadata": {},
   "source": [
    "As it can be seen that among three prediction options, Duan prediction method results in the lowest SER and highest $R^2$ and $R^2_{adjusted}$. Thus, the prediction and model's strength of fit measurement via this method will be used as a benchmark to compare with other models.\n",
    "\n",
    "It can be seen that as $R^{2} = 0.0177$ and $R^{2}_{\\text{adjusted}}=0.0161$, the linear relationship estimated above is statistically weak. Besides, the SER of 0.3977% of the model needs to be examined cautiuosly by financial consultant regarding whether this is significant in this case. "
   ]
  },
  {
   "cell_type": "code",
   "execution_count": 106,
   "metadata": {},
   "outputs": [
    {
     "data": {
      "text/html": [
       "<div>\n",
       "<style scoped>\n",
       "    .dataframe tbody tr th:only-of-type {\n",
       "        vertical-align: middle;\n",
       "    }\n",
       "\n",
       "    .dataframe tbody tr th {\n",
       "        vertical-align: top;\n",
       "    }\n",
       "\n",
       "    .dataframe thead th {\n",
       "        text-align: right;\n",
       "    }\n",
       "</style>\n",
       "<table border=\"1\" class=\"dataframe\">\n",
       "  <thead>\n",
       "    <tr style=\"text-align: right;\">\n",
       "      <th></th>\n",
       "      <th>sum_sq</th>\n",
       "      <th>df</th>\n",
       "      <th>F</th>\n",
       "      <th>PR(&gt;F)</th>\n",
       "    </tr>\n",
       "  </thead>\n",
       "  <tbody>\n",
       "    <tr>\n",
       "      <th>Intercept</th>\n",
       "      <td>133.709751</td>\n",
       "      <td>1.0</td>\n",
       "      <td>538.804637</td>\n",
       "      <td>4.403565e-108</td>\n",
       "    </tr>\n",
       "    <tr>\n",
       "      <th>C(day_of_week)</th>\n",
       "      <td>20.430570</td>\n",
       "      <td>4.0</td>\n",
       "      <td>20.582055</td>\n",
       "      <td>1.053072e-16</td>\n",
       "    </tr>\n",
       "    <tr>\n",
       "      <th>Residual</th>\n",
       "      <td>619.159166</td>\n",
       "      <td>2495.0</td>\n",
       "      <td>NaN</td>\n",
       "      <td>NaN</td>\n",
       "    </tr>\n",
       "  </tbody>\n",
       "</table>\n",
       "</div>"
      ],
      "text/plain": [
       "                    sum_sq      df           F         PR(>F)\n",
       "Intercept       133.709751     1.0  538.804637  4.403565e-108\n",
       "C(day_of_week)   20.430570     4.0   20.582055   1.053072e-16\n",
       "Residual        619.159166  2495.0         NaN            NaN"
      ]
     },
     "execution_count": 106,
     "metadata": {},
     "output_type": "execute_result"
    }
   ],
   "source": [
    "table1_log= sm.stats.anova_lm(reg1_log, typ=3)\n",
    "table1_log"
   ]
  },
  {
   "cell_type": "markdown",
   "metadata": {},
   "source": [
    "The hypotheses here are:\n",
    "\n",
    "$H_{0}$: $\\mu_{1}=...=\\mu_{5}$, means are the same across 5 days in the week\n",
    "\n",
    "$H_{1}$: $\\exists i,j \\in \\{1,2,3,4,5\\}$, $i \\neq j$ and $\\mu_{i}\\neq\\mu_{j}$, at least two means are different across 5 days in the week\n",
    "\n",
    "For $\\mu_{1}$, $\\mu_{2}$, $\\mu_{3}$, $\\mu_{4}$ and $\\mu_{5}$ are the mean of the log the square root of 5 min RV on Monday, Tuesday, Wednesday, Thursday, and Friday respectively.\n",
    "\n",
    "We choose $\\alpha=0.05$ as standard. \n",
    "\n",
    "The test statistics is $F_{\\text{stat}} =20.582055\t$, which has a F distribution with $m-1 = 5-1=4$ degrees of freedom in numerator and $n-m=2500-5=2495$ degrees of freedom in denominator, , if the null of equality of means is, and the LSA 1-6 assumptions are also, true. \n",
    "\n",
    "The chance that the resulting F value would be more extreme than 20.582055\t, in the direction of the alternative hypothesis which is more or greater than, is very close to 0. Specifically, the p-value is $P(F_{4,2495} > 20.582055) = 1.053072\\times10^{-16}$. \n",
    "\n",
    "Hence, such p-value is $< 0.05$, it is statistically sufficient for us to reject the null and conclude that the mean of log of RV of difference days of the week is difference from each other. In other words, the root square of 5 min RV may be affected by day of the week."
   ]
  },
  {
   "cell_type": "markdown",
   "metadata": {},
   "source": [
    "<span style=\"color:red\">Assumptions assessment</span>"
   ]
  },
  {
   "cell_type": "code",
   "execution_count": 107,
   "metadata": {},
   "outputs": [
    {
     "data": {
      "text/plain": [
       "<matplotlib.collections.PathCollection at 0x225361a5df0>"
      ]
     },
     "execution_count": 107,
     "metadata": {},
     "output_type": "execute_result"
    },
    {
     "data": {
      "image/png": "[encoded data removed]",
      "text/plain": [
       "<Figure size 432x288 with 1 Axes>"
      ]
     },
     "metadata": {
      "needs_background": "light"
     },
     "output_type": "display_data"
    }
   ],
   "source": [
    "plt.scatter(data['day_of_week'],data['log_RV_sc_sqr'])"
   ]
  },
  {
   "cell_type": "code",
   "execution_count": 108,
   "metadata": {},
   "outputs": [
    {
     "data": {
      "text/plain": [
       "<matplotlib.collections.PathCollection at 0x2253620f280>"
      ]
     },
     "execution_count": 108,
     "metadata": {},
     "output_type": "execute_result"
    },
    {
     "data": {
      "image/png": "[encoded data removed]",
      "text/plain": [
       "<Figure size 432x288 with 1 Axes>"
      ]
     },
     "metadata": {
      "needs_background": "light"
     },
     "output_type": "display_data"
    }
   ],
   "source": [
    "fit1_log = reg1_log.fittedvalues\n",
    "res1_log = reg1_log.resid\n",
    "plt.scatter(fit1_log,res1_log)"
   ]
  },
  {
   "cell_type": "markdown",
   "metadata": {},
   "source": [
    "The residuals in the above graphs seem to have changing variance across 5 groups. However, the root of this phenomenon may be the existence of small number of outliers in each group. Thus, this may not harm the assumption of constant variance"
   ]
  },
  {
   "cell_type": "code",
   "execution_count": 109,
   "metadata": {},
   "outputs": [
    {
     "data": {
      "text/plain": [
       "<seaborn.axisgrid.JointGrid at 0x22536073fd0>"
      ]
     },
     "execution_count": 109,
     "metadata": {},
     "output_type": "execute_result"
    },
    {
     "data": {
      "image/png": "[encoded data removed]",
      "text/plain": [
       "<Figure size 432x432 with 3 Axes>"
      ]
     },
     "metadata": {
      "needs_background": "light"
     },
     "output_type": "display_data"
    }
   ],
   "source": [
    "sns.jointplot(x=fit1_log, y=res1_log, kind=\"reg\")"
   ]
  },
  {
   "cell_type": "code",
   "execution_count": 110,
   "metadata": {},
   "outputs": [
    {
     "data": {
      "text/plain": [
       "(3.122502256758253e-17, 1.0000000000025966)"
      ]
     },
     "execution_count": 110,
     "metadata": {},
     "output_type": "execute_result"
    }
   ],
   "source": [
    "p, p_value = stats.pearsonr(fit1_log,res1_log)\n",
    "p, p_value"
   ]
  },
  {
   "cell_type": "markdown",
   "metadata": {},
   "source": [
    "From the above plot, equally spread residuals around a horizontal line without distinct patterns, that is a good indication of constant variance across groups. On the other hand, the regression line of estimated residuals to the fitted values is a perfect horizontal line through the origin $O(0,0)$ associated with the result of testing hypotheses $H_{\\text{0}}: \\rho = 0$ versus $H_{\\text{1}}: \\rho \\neq 0$, the p-value of nearly one claim that this correlation coefficient is significantly around zero. Thus, the true linearity relationship may be assured."
   ]
  },
  {
   "cell_type": "code",
   "execution_count": 111,
   "metadata": {},
   "outputs": [],
   "source": [
    "data['res_1_log']=res1_log"
   ]
  },
  {
   "cell_type": "code",
   "execution_count": 112,
   "metadata": {},
   "outputs": [
    {
     "data": {
      "text/plain": [
       "DescribeResult(nobs=494, minmax=(-1.2067278165388162, 1.471415034858115), mean=5.609547913895527e-16, variance=0.24755071002995277, skewness=0.34311530809078, kurtosis=-0.08456199135776332)"
      ]
     },
     "execution_count": 112,
     "metadata": {},
     "output_type": "execute_result"
    }
   ],
   "source": [
    "stats.describe(data.loc[data['Mon']==1, 'res_1_log'])"
   ]
  },
  {
   "cell_type": "code",
   "execution_count": 113,
   "metadata": {},
   "outputs": [
    {
     "data": {
      "text/plain": [
       "DescribeResult(nobs=523, minmax=(-1.287528233961078, 1.8988276857378967), mean=5.841938362845948e-16, variance=0.24510195058696005, skewness=0.6673997285468902, kurtosis=0.785010791797919)"
      ]
     },
     "execution_count": 113,
     "metadata": {},
     "output_type": "execute_result"
    }
   ],
   "source": [
    "stats.describe(data.loc[data['Tues']==1, 'res_1_log'])"
   ]
  },
  {
   "cell_type": "code",
   "execution_count": 114,
   "metadata": {},
   "outputs": [
    {
     "data": {
      "text/plain": [
       "DescribeResult(nobs=508, minmax=(-1.437400313141354, 1.7332301379665873), mean=2.937282962787816e-16, variance=0.23783099879630665, skewness=0.4993666032359995, kurtosis=0.7615592926465871)"
      ]
     },
     "execution_count": 114,
     "metadata": {},
     "output_type": "execute_result"
    }
   ],
   "source": [
    "stats.describe(data.loc[data['Wed']==1, 'res_1_log'])"
   ]
  },
  {
   "cell_type": "code",
   "execution_count": 115,
   "metadata": {},
   "outputs": [
    {
     "data": {
      "text/plain": [
       "DescribeResult(nobs=502, minmax=(-1.8226583240350411, 1.7263596486305481), mean=4.529356084526535e-16, variance=0.24507361353793958, skewness=0.2676907489211655, kurtosis=-0.008369798908816506)"
      ]
     },
     "execution_count": 115,
     "metadata": {},
     "output_type": "execute_result"
    }
   ],
   "source": [
    "stats.describe(data.loc[data['Thurs']==1, 'res_1_log'])"
   ]
  },
  {
   "cell_type": "code",
   "execution_count": 116,
   "metadata": {},
   "outputs": [
    {
     "data": {
      "text/plain": [
       "DescribeResult(nobs=473, minmax=(-1.15438423249953, 1.6744737353767385), mean=4.0559521914424324e-16, variance=0.2665492613811949, skewness=0.38966733260403186, kurtosis=-0.019523110967852197)"
      ]
     },
     "execution_count": 116,
     "metadata": {},
     "output_type": "execute_result"
    }
   ],
   "source": [
    "stats.describe(data.loc[data['Fri']==1, 'res_1_log'])"
   ]
  },
  {
   "cell_type": "markdown",
   "metadata": {},
   "source": [
    "The sample mean of residuals given the observation is in Monday group is $5.609547913895527\\times10^{-16}$, which suggests $E(\\varepsilon_{i,Monday}|Monday)=0$ may hold.\n",
    "\n",
    "The sample mean of residuals given the observation is in Tuesday group is $5.841938362845948\\times10^{-16}$, which suggests $E(\\varepsilon_{i,Tuesday}|Tuesday)=0$ may hold.\n",
    "\n",
    "The sample mean of residuals given the observation is in Wednesday group is $2.937282962787816\\times10^{-16}$, which suggests $E(\\varepsilon_{i,Wednesday}|Wednesday)=0$ may hold.\n",
    "\n",
    "The sample mean of residuals given the observation is in Thursday group is $4.529356084526535\\times10^{-16}$, which suggests $E(\\varepsilon_{i,Thursday}|Thursday)=0$ may hold.\n",
    "\n",
    "The sample mean of residuals given the observation is in Friday group is $4.0559521914424324\\times10^{-16}$, which suggests $E(\\varepsilon_{i,Friday}|Friday)=0$ may hold."
   ]
  },
  {
   "cell_type": "code",
   "execution_count": 117,
   "metadata": {},
   "outputs": [
    {
     "data": {
      "text/plain": [
       "<AxesSubplot:xlabel='log_RV_sc_sqr', ylabel='Count'>"
      ]
     },
     "execution_count": 117,
     "metadata": {},
     "output_type": "execute_result"
    },
    {
     "data": {
      "image/png": "[encoded data removed]",
      "text/plain": [
       "<Figure size 432x288 with 1 Axes>"
      ]
     },
     "metadata": {
      "needs_background": "light"
     },
     "output_type": "display_data"
    }
   ],
   "source": [
    "sns.histplot(data['log_RV_sc_sqr'], kde=False)"
   ]
  },
  {
   "cell_type": "markdown",
   "metadata": {},
   "source": [
    "Assumptions of one-way ANOVA test:\n",
    "\n",
    "$1/$ Linearity ($E(Y|X=j)=\\mu_{j}$  for $j=1,...,5$): the residual plot suggests that linearity could hold and the discussion of relationship of residuals and fitted values above further consolidates this claim. Thus, this assumption may be met.\n",
    "\n",
    "$2/$ Exogeneity ($E(\\varepsilon|X=j)=0$ for $j=1,...,5$): the residuals against predicted values plot suggests that $E(\\varepsilon|X=j)\\approx0$ for $j=1,...,5$. Furthermore, the sample mean of residuals in each group is also approximately zero as discussed above, which suggests this assumption may be met.\n",
    "\n",
    "$3/$ The data are independent and identically distributed in each group: this assumes the distribution of the log of square root of 5 min RV is the same within each group and is only affected by day of the week, meaning no other factor determining the log of square root of 5 min RV changes between different days of the week. Further, financial theory does say (strongly) that market efficiency implies that returns should be independent and identically distributed (\"strong efficiency\") and certainly uncorrelated (\"weak efficiency\") over time.Thus, the log of the square root of 5 min RV may be independent among groups. Hence, this assumption may be met. \n",
    "\n",
    "However, it should be noted that from the time series plot, the log of RV displays a strong pattern over time: there are periods of persistent high volatility and at other times periods of  persistent low volatility. High values of the log of RV tend to follow high values of the log of RV; and vice versa. Thus, this may be detrimental to the validity of the assumption and in such case, data thinning may have helped remove any autocorrelation here.\n",
    "\n",
    "$4/$ The data in each group have finite forth moments ($E(Y_{j}^4)<\\infty$ for $j=1,...,5$): according to the exploratory analysis of log of the root mean square of 5 min RV, although there are numerous outliers, the Fisher's kurtosis turns out to be around 0 and the distribtion observed via the histogram is relatively symmetric. On the other hand, the Fisher's kurtosis for the log of the root mean square of 5 min RV of Monday, Tuesday, Wednesday, Thursday and Friday are -0.08, 0.79, 0.76, -0.01 and -0.02 respectively. Besides, it should be noted the fact that the financial nature of return volatility allows the square root of 5 min RV values have the lower bound of 0, which is hardly reached in real life situation and are likely to have an upper bound. Thus, the log of the square root of 5 min RV values may be considered as a bounded random variable. Thus, this assumption may be met.\n",
    "\n",
    "$5/$ $n_{j} \\geq 30$ for $j=1,...,5$: 494, 523, 508, 502, and 473 are respectively the number of observations originating from Monday, Tuesday, Wednesday, Thursday and Friday groups. Thus, it is sufficient to conclude that this assumption is met.\n",
    "\n",
    "$6/$ Equality of variances across the groups ($Var(Y|X=j)= \\sigma^2$ for $j=1,...,5$): according to the residuals against predicted values plot, the variance of the residuals seems to remain constant due to  equally spread residuals around a horizontal line without distinct patterns. Furthermore, the sample variance of residuals for Monday, Tuesday, Wednesday, Thursday and Friday groups are 0.25,0.25,0.24,0.25, and 0.26 respectively, which are relatively invaried,  suggesting this assumption may be satisfied."
   ]
  },
  {
   "cell_type": "markdown",
   "metadata": {},
   "source": [
    "<span style=\"color:red\">Differences assessment - the log of the square root of 5 min RV and day of the week</span>"
   ]
  },
  {
   "cell_type": "code",
   "execution_count": 118,
   "metadata": {},
   "outputs": [
    {
     "name": "stdout",
     "output_type": "stream",
     "text": [
      "Multiple Comparison of Means - Tukey HSD, FWER=0.05 \n",
      "====================================================\n",
      "group1 group2 meandiff p-adj   lower   upper  reject\n",
      "----------------------------------------------------\n",
      "     0      1   0.0008    0.9 -0.0845  0.0861  False\n",
      "     0      2   0.0331  0.809 -0.0529   0.119  False\n",
      "     0      3   0.0302 0.8621  -0.056  0.1164  False\n",
      "     0      4   -0.212  0.001 -0.2995 -0.1245   True\n",
      "     1      2   0.0323 0.8149 -0.0524   0.117  False\n",
      "     1      3   0.0294 0.8688 -0.0555  0.1144  False\n",
      "     1      4  -0.2128  0.001 -0.2991 -0.1265   True\n",
      "     2      3  -0.0029    0.9 -0.0884  0.0827  False\n",
      "     2      4  -0.2451  0.001  -0.332 -0.1582   True\n",
      "     3      4  -0.2422  0.001 -0.3294 -0.1551   True\n",
      "----------------------------------------------------\n"
     ]
    }
   ],
   "source": [
    "dif1_log=MultiComparison(data['log_RV_sc_sqr'],data['day_of_week'])\n",
    "result1_log = dif1_log.tukeyhsd()\n",
    "print(result1_log)"
   ]
  },
  {
   "cell_type": "markdown",
   "metadata": {},
   "source": [
    "Turkey's interval for the mean difference from Tuesday to Monday is $(-0.0845, 0.0861)$\n",
    "\n",
    "Turkey's interval for the mean difference from Wednesday to Monday is $(-0.0529, 0.1190)$\n",
    "\n",
    "Turkey's interval for the mean difference from Thursday to Monday is $(-0.0560, 0.1164)$\n",
    "\n",
    "Turkey's interval for the mean difference from Friday to Monday is $(-0.2995, -0.1245)$\n",
    "\n",
    "Turkey's interval for the mean difference from Wednesday to Tuesday is $(-0.0524, 0.1170)$\n",
    "\n",
    "Turkey's interval for the mean difference from Thursday to Tuesday is $(-0.0555, 0.1144)$\n",
    "\n",
    "Turkey's interval for the mean difference from Friday to Tuesday is $(-0.2991, -0.1265)$\n",
    "\n",
    "Turkey's interval for the mean difference from Thursday to Wednesday is $(-0.0884, 0.0827)$\n",
    "\n",
    "Turkey's interval for the mean difference from Friday to Wednesday is $(-0.3320, -0.1582)$\n",
    "\n",
    "Turkey's interval for the mean difference from Friday to Thursday is $(-0.3294, -0.1551)$\n",
    "\n",
    "In this case, while the differences between Monday and Friday, Tuesday and Friday, Wednesday and Friday, Thursday and Friday are significant and the differences of the other pairs are not statistically significant in terms of the square root of 5 min RV at $\\alpha = 0.05$."
   ]
  },
  {
   "cell_type": "markdown",
   "metadata": {},
   "source": [
    "<span style=\"color:red\">ANOVA test for log of the square root of 5 min RV and season of the year</span>"
   ]
  },
  {
   "cell_type": "code",
   "execution_count": 119,
   "metadata": {},
   "outputs": [
    {
     "data": {
      "text/html": [
       "<table class=\"simpletable\">\n",
       "<caption>OLS Regression Results</caption>\n",
       "<tr>\n",
       "  <th>Dep. Variable:</th>      <td>log_RV_sc_sqr</td>  <th>  R-squared:         </th> <td>   0.013</td>\n",
       "</tr>\n",
       "<tr>\n",
       "  <th>Model:</th>                   <td>OLS</td>       <th>  Adj. R-squared:    </th> <td>   0.012</td>\n",
       "</tr>\n",
       "<tr>\n",
       "  <th>Method:</th>             <td>Least Squares</td>  <th>  F-statistic:       </th> <td>   11.07</td>\n",
       "</tr>\n",
       "<tr>\n",
       "  <th>Date:</th>             <td>Fri, 07 May 2021</td> <th>  Prob (F-statistic):</th> <td>3.23e-07</td>\n",
       "</tr>\n",
       "<tr>\n",
       "  <th>Time:</th>                 <td>14:50:22</td>     <th>  Log-Likelihood:    </th> <td> -1826.8</td>\n",
       "</tr>\n",
       "<tr>\n",
       "  <th>No. Observations:</th>      <td>  2500</td>      <th>  AIC:               </th> <td>   3662.</td>\n",
       "</tr>\n",
       "<tr>\n",
       "  <th>Df Residuals:</th>          <td>  2496</td>      <th>  BIC:               </th> <td>   3685.</td>\n",
       "</tr>\n",
       "<tr>\n",
       "  <th>Df Model:</th>              <td>     3</td>      <th>                     </th>     <td> </td>   \n",
       "</tr>\n",
       "<tr>\n",
       "  <th>Covariance Type:</th>      <td>nonrobust</td>    <th>                     </th>     <td> </td>   \n",
       "</tr>\n",
       "</table>\n",
       "<table class=\"simpletable\">\n",
       "<tr>\n",
       "         <td></td>           <th>coef</th>     <th>std err</th>      <th>t</th>      <th>P>|t|</th>  <th>[0.025</th>    <th>0.975]</th>  \n",
       "</tr>\n",
       "<tr>\n",
       "  <th>Intercept</th>      <td>   -0.6446</td> <td>    0.021</td> <td>  -31.424</td> <td> 0.000</td> <td>   -0.685</td> <td>   -0.604</td>\n",
       "</tr>\n",
       "<tr>\n",
       "  <th>C(Season)[T.2]</th> <td>    0.1021</td> <td>    0.029</td> <td>    3.570</td> <td> 0.000</td> <td>    0.046</td> <td>    0.158</td>\n",
       "</tr>\n",
       "<tr>\n",
       "  <th>C(Season)[T.3]</th> <td>    0.1560</td> <td>    0.029</td> <td>    5.446</td> <td> 0.000</td> <td>    0.100</td> <td>    0.212</td>\n",
       "</tr>\n",
       "<tr>\n",
       "  <th>C(Season)[T.4]</th> <td>    0.1259</td> <td>    0.029</td> <td>    4.389</td> <td> 0.000</td> <td>    0.070</td> <td>    0.182</td>\n",
       "</tr>\n",
       "</table>\n",
       "<table class=\"simpletable\">\n",
       "<tr>\n",
       "  <th>Omnibus:</th>       <td>70.439</td> <th>  Durbin-Watson:     </th> <td>   0.823</td>\n",
       "</tr>\n",
       "<tr>\n",
       "  <th>Prob(Omnibus):</th> <td> 0.000</td> <th>  Jarque-Bera (JB):  </th> <td>  76.289</td>\n",
       "</tr>\n",
       "<tr>\n",
       "  <th>Skew:</th>          <td> 0.406</td> <th>  Prob(JB):          </th> <td>2.72e-17</td>\n",
       "</tr>\n",
       "<tr>\n",
       "  <th>Kurtosis:</th>      <td> 3.271</td> <th>  Cond. No.          </th> <td>    4.87</td>\n",
       "</tr>\n",
       "</table><br/><br/>Notes:<br/>[1] Standard Errors assume that the covariance matrix of the errors is correctly specified."
      ],
      "text/plain": [
       "<class 'statsmodels.iolib.summary.Summary'>\n",
       "\"\"\"\n",
       "                            OLS Regression Results                            \n",
       "==============================================================================\n",
       "Dep. Variable:          log_RV_sc_sqr   R-squared:                       0.013\n",
       "Model:                            OLS   Adj. R-squared:                  0.012\n",
       "Method:                 Least Squares   F-statistic:                     11.07\n",
       "Date:                Fri, 07 May 2021   Prob (F-statistic):           3.23e-07\n",
       "Time:                        14:50:22   Log-Likelihood:                -1826.8\n",
       "No. Observations:                2500   AIC:                             3662.\n",
       "Df Residuals:                    2496   BIC:                             3685.\n",
       "Df Model:                           3                                         \n",
       "Covariance Type:            nonrobust                                         \n",
       "==================================================================================\n",
       "                     coef    std err          t      P>|t|      [0.025      0.975]\n",
       "----------------------------------------------------------------------------------\n",
       "Intercept         -0.6446      0.021    -31.424      0.000      -0.685      -0.604\n",
       "C(Season)[T.2]     0.1021      0.029      3.570      0.000       0.046       0.158\n",
       "C(Season)[T.3]     0.1560      0.029      5.446      0.000       0.100       0.212\n",
       "C(Season)[T.4]     0.1259      0.029      4.389      0.000       0.070       0.182\n",
       "==============================================================================\n",
       "Omnibus:                       70.439   Durbin-Watson:                   0.823\n",
       "Prob(Omnibus):                  0.000   Jarque-Bera (JB):               76.289\n",
       "Skew:                           0.406   Prob(JB):                     2.72e-17\n",
       "Kurtosis:                       3.271   Cond. No.                         4.87\n",
       "==============================================================================\n",
       "\n",
       "Notes:\n",
       "[1] Standard Errors assume that the covariance matrix of the errors is correctly specified.\n",
       "\"\"\""
      ]
     },
     "execution_count": 119,
     "metadata": {},
     "output_type": "execute_result"
    }
   ],
   "source": [
    "reg2_log= smf.ols(formula='log_RV_sc_sqr ~ C(Season)',data=data).fit()\n",
    "reg2_log.summary()"
   ]
  },
  {
   "cell_type": "markdown",
   "metadata": {},
   "source": [
    "$\\widehat{log(\\sqrt{\\text{5 min RV}})} = -0.6446 + 0.1021\\times D_{\\text{Autumn}}+0.1560\\times D_{\\text{Winter}}+0.1259\\times D_{\\text{Spring}}$\n",
    "\n",
    "This is actually five predictions for the log of the square root of 5 min RV, one for each category of day. These are:\n",
    "\n",
    "$\\widehat{log(\\sqrt{\\text{5 min RV}})} = -0.6446$, when $D_{\\text{Autumn}} = D_{\\text{Winter}} = D_{\\text{Spring}}=0$\n",
    "\n",
    "$\\widehat{\\sqrt{\\text{5 min RV}}} = -0.6446+0.1021=-0.5425$, when $D_{\\text{Winter}} = D_{\\text{Spring}}=0$, $D_{\\text{Autumn}} = 1$\n",
    "\n",
    "$\\widehat{\\sqrt{\\text{5 min RV}}} = -0.6446+0.1560=-0.4886$, when $D_{\\text{Autumn}} = D_{\\text{Spring}}=0$, $D_{\\text{Winter}} = 1$\n",
    "\n",
    "$\\widehat{\\sqrt{\\text{5 min RV}}} = -0.6446+0.1259=-0.5187$, when $D_{\\text{Autumn}} = D_{\\text{Winter}} =0$, $D_{\\text{Spring}}=1$\n",
    "\n",
    "The simple interpretation is that we predict the log of the square root of 5 min RV to be, on average: -0.6446 in Summer; -0.5425 in Autumn; -0.4886 in Winter, -0.5187 in Spring.\n",
    "\n",
    "Other than that, considering 3 tests regarding $H_0$: $\\beta_{i} =0$ vs $H_1$: $\\beta_{i} \\neq 0$ for i=1,2,3 at $\\alpha = 0.05$, the p-values for each i are 0.000 and such results imply that we can reject the null hypotheses in 3 cases and the linear relationships between the log of the square root of 5 min RV and $D_{\\text{Autumn}}$, $D_{\\text{Winter}}$, $D_{\\text{Spring}}$ are significant."
   ]
  },
  {
   "cell_type": "code",
   "execution_count": 120,
   "metadata": {},
   "outputs": [],
   "source": [
    "data['fit2_log']=reg2_log.fittedvalues"
   ]
  },
  {
   "cell_type": "markdown",
   "metadata": {},
   "source": [
    "Back-transform predictions"
   ]
  },
  {
   "cell_type": "code",
   "execution_count": 121,
   "metadata": {},
   "outputs": [
    {
     "name": "stdout",
     "output_type": "stream",
     "text": [
      "the back-transform predicted value for oberservation in group Summer is 0.5248732334313975%\n",
      "the back-transform predicted value for oberservation in group Autumn is 0.5812960617443732%\n",
      "the back-transform predicted value for oberservation in group Winter is 0.613469490216904%\n",
      "the back-transform predicted value for oberservation in group Spring is 0.5952884144506445%\n"
     ]
    },
    {
     "data": {
      "text/plain": [
       "array([0.52487323, 0.58129606, 0.61346949, 0.59528841])"
      ]
     },
     "execution_count": 121,
     "metadata": {},
     "output_type": "execute_result"
    }
   ],
   "source": [
    "y=np.zeros(4)\n",
    "j=0\n",
    "for i in ['Summer','Autumn','Winter','Spring']:\n",
    "    y[j]= np.exp(np.mean(data.loc[data[i]==1, 'fit2_log']))\n",
    "    print('the back-transform predicted value for oberservation in group {} is {}%'.format(i,y[j]))\n",
    "    j=j+1\n",
    "y"
   ]
  },
  {
   "cell_type": "code",
   "execution_count": 122,
   "metadata": {},
   "outputs": [],
   "source": [
    "data['fit2_log_real']=np.exp(reg2_log.fittedvalues)"
   ]
  },
  {
   "cell_type": "code",
   "execution_count": 123,
   "metadata": {},
   "outputs": [
    {
     "name": "stdout",
     "output_type": "stream",
     "text": [
      "0.40834972031159017 -0.035948776595500886 -0.03719390733660122\n"
     ]
    }
   ],
   "source": [
    "RSS = np.sum((data['fit2_log_real']-data['RV_sc_sqr'])**2)\n",
    "MSE = RSS/(2500-4)\n",
    "SER = MSE**0.5\n",
    "TSS = (np.std(data['RV_sc_sqr'])**2)*2500\n",
    "R_squared = 1 - (RSS/TSS)\n",
    "R_squared_adjusted = 1 - (RSS/TSS)*((2500-1)/(2500-4))\n",
    "print(SER, R_squared, R_squared_adjusted)\n"
   ]
  },
  {
   "cell_type": "markdown",
   "metadata": {},
   "source": [
    "Normal predictions"
   ]
  },
  {
   "cell_type": "code",
   "execution_count": 124,
   "metadata": {},
   "outputs": [
    {
     "name": "stdout",
     "output_type": "stream",
     "text": [
      "the normal predicted value for oberservation in group Summer is 0.5956167768371619%\n",
      "the normal predicted value for oberservation in group Autumn is 0.6596443953158314%\n",
      "the normal predicted value for oberservation in group Winter is 0.6961542276830299%\n",
      "the normal predicted value for oberservation in group Spring is 0.675522667417446%\n"
     ]
    }
   ],
   "source": [
    "y=np.zeros(4)\n",
    "j=0\n",
    "for i in ['Summer','Autumn','Winter','Spring']:\n",
    "    y[j]=np.exp(np.mean(data.loc[data[i]==1, 'fit2_log']))*np.exp(reg2_log.mse_resid/2)\n",
    "    print('the normal predicted value for oberservation in group {} is {}%'.format(i,y[j]))\n",
    "    j=j+1"
   ]
  },
  {
   "cell_type": "code",
   "execution_count": 125,
   "metadata": {},
   "outputs": [],
   "source": [
    "data['fit2_log_real']=np.exp(reg2_log.fittedvalues)*np.exp(reg2_log.mse_resid/2)"
   ]
  },
  {
   "cell_type": "code",
   "execution_count": 126,
   "metadata": {},
   "outputs": [
    {
     "name": "stdout",
     "output_type": "stream",
     "text": [
      "0.39965978803775504 0.007673328534878676 0.006480628208598405\n"
     ]
    }
   ],
   "source": [
    "RSS = np.sum((data['fit2_log_real']-data['RV_sc_sqr'])**2)\n",
    "MSE = RSS/(2500-4)\n",
    "SER = MSE**0.5\n",
    "TSS = (np.std(data['RV_sc_sqr'])**2)*2500\n",
    "R_squared = 1 - (RSS/TSS)\n",
    "R_squared_adjusted = 1 - (RSS/TSS)*((2500-1)/(2500-4))\n",
    "print(SER, R_squared, R_squared_adjusted)"
   ]
  },
  {
   "cell_type": "markdown",
   "metadata": {},
   "source": [
    "Duan predictions"
   ]
  },
  {
   "cell_type": "code",
   "execution_count": 127,
   "metadata": {},
   "outputs": [
    {
     "name": "stdout",
     "output_type": "stream",
     "text": [
      "the normal predicted value for oberservation in group Summer is 0.6009774480864829%\n",
      "the normal predicted value for oberservation in group Autumn is 0.6655813280589333%\n",
      "the normal predicted value for oberservation in group Winter is 0.7024197562889408%\n",
      "the normal predicted value for oberservation in group Spring is 0.6816025078153592%\n"
     ]
    }
   ],
   "source": [
    "E=np.mean(np.exp(reg2_log.resid))\n",
    "y=np.zeros(4)\n",
    "j=0\n",
    "for i in ['Summer','Autumn','Winter','Spring']:\n",
    "    y[j]= np.exp(np.mean(data.loc[data[i]==1, 'fit2_log']))*E\n",
    "    print('the normal predicted value for oberservation in group {} is {}%'.format(i,y[j]))\n",
    "    j=j+1"
   ]
  },
  {
   "cell_type": "code",
   "execution_count": 128,
   "metadata": {},
   "outputs": [],
   "source": [
    "data['fit2_log_real']=np.exp(reg2_log.fittedvalues)*np.mean(np.exp(reg2_log.resid))"
   ]
  },
  {
   "cell_type": "code",
   "execution_count": 129,
   "metadata": {},
   "outputs": [
    {
     "name": "stdout",
     "output_type": "stream",
     "text": [
      "0.3996190732526131 0.007875502035746385 0.0066830447064624154\n"
     ]
    }
   ],
   "source": [
    "RSS = np.sum((data['fit2_log_real']-data['RV_sc_sqr'])**2)\n",
    "MSE = RSS/(2500-4)\n",
    "SER = MSE**0.5\n",
    "TSS = (np.std(data['RV_sc_sqr'])**2)*2500\n",
    "R_squared = 1 - (RSS/TSS)\n",
    "R_squared_adjusted = 1 - (RSS/TSS)*((2500-1)/(2500-4))\n",
    "print(SER, R_squared, R_squared_adjusted)"
   ]
  },
  {
   "cell_type": "markdown",
   "metadata": {},
   "source": [
    "As it can be seen that among three prediction options, Duan prediction method results in the lowest SER and highest $R^2$ and $R^2_{adjusted}$. Thus, the prediction and model's strength of fit measurement via this method will be used as a benchmark to compare with other models.\n",
    "\n",
    "It can be seen that as $R^{2} = 0.0079$ and $R^{2}_{\\text{adjusted}}=0.0067$, the linear relationship estimated above is statistically weak. Besides, the SER of 0.3996% of the model needs to be examined cautiuosly by financial consultant regarding whether this is significant in this case. "
   ]
  },
  {
   "cell_type": "code",
   "execution_count": 130,
   "metadata": {},
   "outputs": [
    {
     "data": {
      "text/html": [
       "<div>\n",
       "<style scoped>\n",
       "    .dataframe tbody tr th:only-of-type {\n",
       "        vertical-align: middle;\n",
       "    }\n",
       "\n",
       "    .dataframe tbody tr th {\n",
       "        vertical-align: top;\n",
       "    }\n",
       "\n",
       "    .dataframe thead th {\n",
       "        text-align: right;\n",
       "    }\n",
       "</style>\n",
       "<table border=\"1\" class=\"dataframe\">\n",
       "  <thead>\n",
       "    <tr style=\"text-align: right;\">\n",
       "      <th></th>\n",
       "      <th>sum_sq</th>\n",
       "      <th>df</th>\n",
       "      <th>F</th>\n",
       "      <th>PR(&gt;F)</th>\n",
       "    </tr>\n",
       "  </thead>\n",
       "  <tbody>\n",
       "    <tr>\n",
       "      <th>Intercept</th>\n",
       "      <td>249.719847</td>\n",
       "      <td>1.0</td>\n",
       "      <td>987.497922</td>\n",
       "      <td>6.344524e-183</td>\n",
       "    </tr>\n",
       "    <tr>\n",
       "      <th>C(Season)</th>\n",
       "      <td>8.397786</td>\n",
       "      <td>3.0</td>\n",
       "      <td>11.069466</td>\n",
       "      <td>3.226895e-07</td>\n",
       "    </tr>\n",
       "    <tr>\n",
       "      <th>Residual</th>\n",
       "      <td>631.191950</td>\n",
       "      <td>2496.0</td>\n",
       "      <td>NaN</td>\n",
       "      <td>NaN</td>\n",
       "    </tr>\n",
       "  </tbody>\n",
       "</table>\n",
       "</div>"
      ],
      "text/plain": [
       "               sum_sq      df           F         PR(>F)\n",
       "Intercept  249.719847     1.0  987.497922  6.344524e-183\n",
       "C(Season)    8.397786     3.0   11.069466   3.226895e-07\n",
       "Residual   631.191950  2496.0         NaN            NaN"
      ]
     },
     "execution_count": 130,
     "metadata": {},
     "output_type": "execute_result"
    }
   ],
   "source": [
    "table2_log= sm.stats.anova_lm(reg2_log, typ=3)\n",
    "table2_log"
   ]
  },
  {
   "cell_type": "markdown",
   "metadata": {},
   "source": [
    "The hypotheses here are:\n",
    "\n",
    "$H_{0}$: $\\mu_{1}=...=\\mu_{4}$, means are the same across 4 seasons\n",
    "\n",
    "$H_{1}$: $\\exists i,j \\in \\{1,2,3,4\\}$, $i \\neq j$ and $\\mu_{i}\\neq\\mu_{j}$, at least two means are different across 4 seasons\n",
    "\n",
    "For $\\mu_{1}$, $\\mu_{2}$, $\\mu_{3}$, and $\\mu_{4}$ are the mean of the log the square root of 5 min RV in Summer, Autumn, Winter, and Spring respectively.\n",
    "\n",
    "We choose $\\alpha=0.05$ as standard. \n",
    "\n",
    "The test statistics is $F_{\\text{stat}} =11.069466$, which has a F distribution with $m-1 = 4-1=3$ degrees of freedom in numerator and $n-m=2500-4=2496$ degrees of freedom in denominator, , if the null of equality of means is, and the LSA 1-6 assumptions are also, true. \n",
    "\n",
    "The chance that the resulting F value would be more extreme than 11.069466, in the direction of the alternative hypothesis which is more or greater than, is very close to 0. Specifically, the p-value is $P(F_{3,2496} > 11.069466) = 3.226895\\times10^{-07}$. \n",
    "\n",
    "Hence, such p-value is $< 0.05$, it is statistically sufficient for us to reject the null and conclude that mean of log of the mean RV of difference seasons of a year is difference from each other. In other words, the root square of 5 min RV may be affected by season of the year."
   ]
  },
  {
   "cell_type": "markdown",
   "metadata": {},
   "source": [
    "<span style=\"color:red\">Assumptions assessment</span>"
   ]
  },
  {
   "cell_type": "code",
   "execution_count": 131,
   "metadata": {},
   "outputs": [
    {
     "data": {
      "text/plain": [
       "<matplotlib.collections.PathCollection at 0x22537539ee0>"
      ]
     },
     "execution_count": 131,
     "metadata": {},
     "output_type": "execute_result"
    },
    {
     "data": {
      "image/png": "[encoded data removed]",
      "text/plain": [
       "<Figure size 432x288 with 1 Axes>"
      ]
     },
     "metadata": {
      "needs_background": "light"
     },
     "output_type": "display_data"
    }
   ],
   "source": [
    "plt.scatter(data['Season'],data['log_RV_sc_sqr'])"
   ]
  },
  {
   "cell_type": "code",
   "execution_count": 132,
   "metadata": {},
   "outputs": [
    {
     "data": {
      "text/plain": [
       "<matplotlib.collections.PathCollection at 0x2253759c280>"
      ]
     },
     "execution_count": 132,
     "metadata": {},
     "output_type": "execute_result"
    },
    {
     "data": {
      "image/png": "[encoded data removed]",
      "text/plain": [
       "<Figure size 432x288 with 1 Axes>"
      ]
     },
     "metadata": {
      "needs_background": "light"
     },
     "output_type": "display_data"
    }
   ],
   "source": [
    "fit2_log = reg2_log.fittedvalues\n",
    "res2_log = reg2_log.resid\n",
    "plt.scatter(fit2_log,res2_log)"
   ]
  },
  {
   "cell_type": "markdown",
   "metadata": {},
   "source": [
    "The variance of residuals seem to be constant across the 4 groups according to the above graph."
   ]
  },
  {
   "cell_type": "code",
   "execution_count": 133,
   "metadata": {},
   "outputs": [
    {
     "data": {
      "text/plain": [
       "<seaborn.axisgrid.JointGrid at 0x225375b95e0>"
      ]
     },
     "execution_count": 133,
     "metadata": {},
     "output_type": "execute_result"
    },
    {
     "data": {
      "image/png": "[encoded data removed]",
      "text/plain": [
       "<Figure size 432x432 with 3 Axes>"
      ]
     },
     "metadata": {
      "needs_background": "light"
     },
     "output_type": "display_data"
    }
   ],
   "source": [
    "sns.jointplot(x=fit2_log, y=res2_log, kind=\"reg\")"
   ]
  },
  {
   "cell_type": "code",
   "execution_count": 134,
   "metadata": {},
   "outputs": [
    {
     "data": {
      "text/plain": [
       "(-5.898059818321144e-17, 1.000000000002478)"
      ]
     },
     "execution_count": 134,
     "metadata": {},
     "output_type": "execute_result"
    }
   ],
   "source": [
    "p, p_value = stats.pearsonr(fit2_log,res2_log)\n",
    "p, p_value"
   ]
  },
  {
   "cell_type": "markdown",
   "metadata": {},
   "source": [
    "From the above plot, equally spread residuals around a horizontal line without distinct patterns, that is a good indication of constant variance across the groups. On the other hand, the regression line of estimated residuals to the fitted values is a perfect horizontal line through the origin $O(0,0)$ associated with the result of testing hypotheses $H_{\\text{0}}: \\rho = 0$ versus $H_{\\text{1}}: \\rho \\neq 0$, the p-value of nearly one claim that this correlation coefficient is significantly around zero. Thus, the true linearity relationship may be assured."
   ]
  },
  {
   "cell_type": "code",
   "execution_count": 135,
   "metadata": {},
   "outputs": [],
   "source": [
    "data['res_2_log']=res2_log"
   ]
  },
  {
   "cell_type": "code",
   "execution_count": 136,
   "metadata": {},
   "outputs": [
    {
     "data": {
      "text/plain": [
       "DescribeResult(nobs=601, minmax=(-1.2799843880255284, 1.5104855456474011), mean=-1.064040702469368e-16, variance=0.27252533543122043, skewness=0.3573846974945803, kurtosis=-0.033587403210927125)"
      ]
     },
     "execution_count": 136,
     "metadata": {},
     "output_type": "execute_result"
    }
   ],
   "source": [
    "stats.describe(data.loc[data['Summer']==1, 'res_2_log'])"
   ]
  },
  {
   "cell_type": "code",
   "execution_count": 137,
   "metadata": {},
   "outputs": [
    {
     "data": {
      "text/plain": [
       "DescribeResult(nobs=637, minmax=(-1.77020495523104, 1.524633270991417), mean=1.2269968749389484e-16, variance=0.2151205525703356, skewness=0.22544798034171823, kurtosis=0.42926970475068815)"
      ]
     },
     "execution_count": 137,
     "metadata": {},
     "output_type": "execute_result"
    }
   ],
   "source": [
    "stats.describe(data.loc[data['Autumn']==1, 'res_2_log'])"
   ]
  },
  {
   "cell_type": "code",
   "execution_count": 138,
   "metadata": {},
   "outputs": [
    {
     "data": {
      "text/plain": [
       "DescribeResult(nobs=633, minmax=(-1.2985875053585998, 1.8679836481330923), mean=-1.7960005959181047e-16, variance=0.24237041267585252, skewness=0.27648965733308484, kurtosis=0.10248778723276875)"
      ]
     },
     "execution_count": 138,
     "metadata": {},
     "output_type": "execute_result"
    }
   ],
   "source": [
    "stats.describe(data.loc[data['Winter']==1, 'res_2_log'])"
   ]
  },
  {
   "cell_type": "code",
   "execution_count": 139,
   "metadata": {},
   "outputs": [
    {
     "data": {
      "text/plain": [
       "DescribeResult(nobs=629, minmax=(-1.2863772617905485, 1.8360452551327948), mean=-1.0166748206424327e-16, variance=0.28293308324573446, skewness=0.6683613232250089, kurtosis=0.4571072842263715)"
      ]
     },
     "execution_count": 139,
     "metadata": {},
     "output_type": "execute_result"
    }
   ],
   "source": [
    "stats.describe(data.loc[data['Spring']==1, 'res_2_log'])"
   ]
  },
  {
   "cell_type": "markdown",
   "metadata": {},
   "source": [
    "The sample mean of residuals given the observation is in Summer group is $-1.064040702469368e\\times10^{-16}$, which suggests $E(\\varepsilon_{i,Summer}|Summer)=0$ may hold.\n",
    "\n",
    "The sample mean of residuals given the observation is in Autumn group is $1.2269968749389484\\times10^{-16}$, which suggests $E(\\varepsilon_{i,Autumn}|Autumn)=0$ may hold.\n",
    "\n",
    "The sample mean of residuals given the observation is in Winter group is $-1.7960005959181047\\times10^{-16}$, which suggests $E(\\varepsilon_{i,Winter}|Winter)=0$ may hold.\n",
    "\n",
    "The sample mean of residuals given the observation is in Spring group is $-1.0166748206424327\\times10^{-16}$, which suggests $E(\\varepsilon_{i,Spring}|Spring)=0$ may hold."
   ]
  },
  {
   "cell_type": "code",
   "execution_count": 140,
   "metadata": {},
   "outputs": [
    {
     "data": {
      "text/plain": [
       "<AxesSubplot:xlabel='log_RV_sc_sqr', ylabel='Count'>"
      ]
     },
     "execution_count": 140,
     "metadata": {},
     "output_type": "execute_result"
    },
    {
     "data": {
      "image/png": "[encoded data removed]",
      "text/plain": [
       "<Figure size 432x288 with 1 Axes>"
      ]
     },
     "metadata": {
      "needs_background": "light"
     },
     "output_type": "display_data"
    }
   ],
   "source": [
    "sns.histplot(data['log_RV_sc_sqr'], kde=False)"
   ]
  },
  {
   "cell_type": "markdown",
   "metadata": {},
   "source": [
    "Assumptions of one-way ANOVA test:\n",
    "\n",
    "$1/$ Linearity ($E(Y|X=j)=\\mu_{j}$  for $j=1,...,4$): the residual plot suggests that linearity could hold and the discussion of relationship of residuals and fitted values above further consolidates this claim. Thus, this assumption may be met.\n",
    "\n",
    "$2/$ Exogeneity ($E(\\varepsilon|X=j)=0$ for $j=1,...,4$): the residuals against predicted values plot suggests that $E(\\varepsilon_{i,j}|X=j)\\approx0$ for $j=1,...,4$. Furthermore, the sample mean of residuals in each group is also approximately zero as discussed above, which suggests this assumption may be met.\n",
    "\n",
    "$3/$ The data are independent and identically distributed in each group: this assumes the distribution of the log of square root of 5 min RV is the same within each group and is only affected by season of the year, meaning no other factor determining the log of square root of 5 min RV changes between different season of the year. Further, financial theory does say (strongly) that market efficiency implies that returns should be independent and identically distributed (\"strong efficiency\") and certainly uncorrelated (\"weak efficiency\") over time. Thus, the log of the square root of 5 min RV may be independent among groups. Hence, this assumption may be met.\n",
    "\n",
    "However, it should be noted that from the time series plot, the log of RV displays a strong pattern over time: there are periods of persistent high volatility and at other times periods of  persistent low volatility. High values of the log of RV tend to follow high values of the log of RV; and vice versa. Thus, this may be detrimental to the validity of the assumption and in such case, data thinning may have helped remove any autocorrelation here.\n",
    "\n",
    "$4/$ The data in each group have finite forth moments ($E(Y_{j}^4)<\\infty$ for $j=1,...,4$): According to the exploratory analysis of log of the root mean square of 5 min RV, although there are numerous outliers, the Fisher's kurtosis turns out to be around 0 and the distribtion observed via the histogram is relatively symmetric. On the other hand, the kurtosis for log of the root mean square of 5 min RV of Summer, Autumn, Winter, and Spring are -0.03, 0.43, 0.10, and 0.46 respectively. Besides, it should be noted the fact that the financial nature of return volatility allows the square root of 5 min RV values have the lower bound of 0, which is hardly reached in real life situation and are likely to have an upper bound. Thus, the log of the square root of 5 min RV values may be considered as a bounded random variable. Thus, this assumption may be met.\n",
    "\n",
    "$5/$ $n_{j} \\geq 30$ for $j=1,...,4$: 601,633,627,639 are respectively the number of observations originating from Summer, Autumn, Winter, and Spring groups. Thus, it is sufficient to conclude that this assumption is met.\n",
    "\n",
    "$6/$ Equality of variances across the groups ($Var(Y|X=j)= \\sigma^2$ for $j=1,...,4$): according to the residuals against predicted values plot, the variance of the residuals seems to remain constant due to  equally spread residuals around a horizontal line without distinct patterns. Furthermore, the sample variance of residuals for Summer, Autumn, Winter, and Spring groups are 0.27, 0.22, 0.24, and 0.28 respectively, which are quite varied but this may or may not be due to the influence of outliers, suggesting this assumption may be satisfied in general. However, to be cautious, a Het-robust version of this ANOVA test should be conducted, which is illustrated as below. "
   ]
  },
  {
   "cell_type": "code",
   "execution_count": 141,
   "metadata": {},
   "outputs": [
    {
     "data": {
      "text/html": [
       "<table class=\"simpletable\">\n",
       "<caption>OLS Regression Results</caption>\n",
       "<tr>\n",
       "  <th>Dep. Variable:</th>      <td>log_RV_sc_sqr</td>  <th>  R-squared:         </th> <td>   0.013</td>\n",
       "</tr>\n",
       "<tr>\n",
       "  <th>Model:</th>                   <td>OLS</td>       <th>  Adj. R-squared:    </th> <td>   0.012</td>\n",
       "</tr>\n",
       "<tr>\n",
       "  <th>Method:</th>             <td>Least Squares</td>  <th>  F-statistic:       </th> <td>   10.59</td>\n",
       "</tr>\n",
       "<tr>\n",
       "  <th>Date:</th>             <td>Fri, 07 May 2021</td> <th>  Prob (F-statistic):</th> <td>6.40e-07</td>\n",
       "</tr>\n",
       "<tr>\n",
       "  <th>Time:</th>                 <td>14:50:27</td>     <th>  Log-Likelihood:    </th> <td> -1826.8</td>\n",
       "</tr>\n",
       "<tr>\n",
       "  <th>No. Observations:</th>      <td>  2500</td>      <th>  AIC:               </th> <td>   3662.</td>\n",
       "</tr>\n",
       "<tr>\n",
       "  <th>Df Residuals:</th>          <td>  2496</td>      <th>  BIC:               </th> <td>   3685.</td>\n",
       "</tr>\n",
       "<tr>\n",
       "  <th>Df Model:</th>              <td>     3</td>      <th>                     </th>     <td> </td>   \n",
       "</tr>\n",
       "<tr>\n",
       "  <th>Covariance Type:</th>         <td>HC0</td>       <th>                     </th>     <td> </td>   \n",
       "</tr>\n",
       "</table>\n",
       "<table class=\"simpletable\">\n",
       "<tr>\n",
       "         <td></td>           <th>coef</th>     <th>std err</th>      <th>z</th>      <th>P>|z|</th>  <th>[0.025</th>    <th>0.975]</th>  \n",
       "</tr>\n",
       "<tr>\n",
       "  <th>Intercept</th>      <td>   -0.6446</td> <td>    0.021</td> <td>  -30.296</td> <td> 0.000</td> <td>   -0.686</td> <td>   -0.603</td>\n",
       "</tr>\n",
       "<tr>\n",
       "  <th>C(Season)[T.2]</th> <td>    0.1021</td> <td>    0.028</td> <td>    3.633</td> <td> 0.000</td> <td>    0.047</td> <td>    0.157</td>\n",
       "</tr>\n",
       "<tr>\n",
       "  <th>C(Season)[T.3]</th> <td>    0.1560</td> <td>    0.029</td> <td>    5.398</td> <td> 0.000</td> <td>    0.099</td> <td>    0.213</td>\n",
       "</tr>\n",
       "<tr>\n",
       "  <th>C(Season)[T.4]</th> <td>    0.1259</td> <td>    0.030</td> <td>    4.192</td> <td> 0.000</td> <td>    0.067</td> <td>    0.185</td>\n",
       "</tr>\n",
       "</table>\n",
       "<table class=\"simpletable\">\n",
       "<tr>\n",
       "  <th>Omnibus:</th>       <td>70.439</td> <th>  Durbin-Watson:     </th> <td>   0.823</td>\n",
       "</tr>\n",
       "<tr>\n",
       "  <th>Prob(Omnibus):</th> <td> 0.000</td> <th>  Jarque-Bera (JB):  </th> <td>  76.289</td>\n",
       "</tr>\n",
       "<tr>\n",
       "  <th>Skew:</th>          <td> 0.406</td> <th>  Prob(JB):          </th> <td>2.72e-17</td>\n",
       "</tr>\n",
       "<tr>\n",
       "  <th>Kurtosis:</th>      <td> 3.271</td> <th>  Cond. No.          </th> <td>    4.87</td>\n",
       "</tr>\n",
       "</table><br/><br/>Notes:<br/>[1] Standard Errors are heteroscedasticity robust (HC0)"
      ],
      "text/plain": [
       "<class 'statsmodels.iolib.summary.Summary'>\n",
       "\"\"\"\n",
       "                            OLS Regression Results                            \n",
       "==============================================================================\n",
       "Dep. Variable:          log_RV_sc_sqr   R-squared:                       0.013\n",
       "Model:                            OLS   Adj. R-squared:                  0.012\n",
       "Method:                 Least Squares   F-statistic:                     10.59\n",
       "Date:                Fri, 07 May 2021   Prob (F-statistic):           6.40e-07\n",
       "Time:                        14:50:27   Log-Likelihood:                -1826.8\n",
       "No. Observations:                2500   AIC:                             3662.\n",
       "Df Residuals:                    2496   BIC:                             3685.\n",
       "Df Model:                           3                                         \n",
       "Covariance Type:                  HC0                                         \n",
       "==================================================================================\n",
       "                     coef    std err          z      P>|z|      [0.025      0.975]\n",
       "----------------------------------------------------------------------------------\n",
       "Intercept         -0.6446      0.021    -30.296      0.000      -0.686      -0.603\n",
       "C(Season)[T.2]     0.1021      0.028      3.633      0.000       0.047       0.157\n",
       "C(Season)[T.3]     0.1560      0.029      5.398      0.000       0.099       0.213\n",
       "C(Season)[T.4]     0.1259      0.030      4.192      0.000       0.067       0.185\n",
       "==============================================================================\n",
       "Omnibus:                       70.439   Durbin-Watson:                   0.823\n",
       "Prob(Omnibus):                  0.000   Jarque-Bera (JB):               76.289\n",
       "Skew:                           0.406   Prob(JB):                     2.72e-17\n",
       "Kurtosis:                       3.271   Cond. No.                         4.87\n",
       "==============================================================================\n",
       "\n",
       "Notes:\n",
       "[1] Standard Errors are heteroscedasticity robust (HC0)\n",
       "\"\"\""
      ]
     },
     "execution_count": 141,
     "metadata": {},
     "output_type": "execute_result"
    }
   ],
   "source": [
    "reg2_log_new= smf.ols(formula='log_RV_sc_sqr ~ C(Season)',data=data).fit(cov_type='HC0')\n",
    "reg2_log_new.summary()"
   ]
  },
  {
   "cell_type": "markdown",
   "metadata": {},
   "source": [
    "$\\widehat{log(\\sqrt{\\text{5 min RV}})} = -0.6446 + 0.1021\\times D_{\\text{Autumn}}+0.1560\\times D_{\\text{Winter}}+0.1259\\times D_{\\text{Spring}}$\n",
    "\n",
    "This is actually five predictions for the log of the square root of 5 min RV, one for each category of day. These are:\n",
    "\n",
    "$\\widehat{\\sqrt{\\text{5 min RV}}} = -0.6446$, when $D_{\\text{Autumn}} = D_{\\text{Winter}} = D_{\\text{Spring}}=0$\n",
    "\n",
    "$\\widehat{\\sqrt{\\text{5 min RV}}} = -0.6446+0.1021=-0.5425$, when $D_{\\text{Winter}} = D_{\\text{Spring}}=0$, $D_{\\text{Autumn}} = 1$\n",
    "\n",
    "$\\widehat{\\sqrt{\\text{5 min RV}}} = -0.6446+0.1560=-0.4886$, when $D_{\\text{Autumn}} = D_{\\text{Spring}}=0$, $D_{\\text{Winter}} = 1$\n",
    "\n",
    "$\\widehat{\\sqrt{\\text{5 min RV}}} = -0.6446+0.1259=-0.5187$, when $D_{\\text{Autumn}} = D_{\\text{Winter}} =0$, $D_{\\text{Spring}}=1$\n",
    "\n",
    "The simple interpretation is that we predict the log of the square root of 5 min RV to be, on average: -0.6446 in Summer; -0.5425 in Autumn; -0.4886 in Winter, -0.5187 in Spring."
   ]
  },
  {
   "cell_type": "code",
   "execution_count": 142,
   "metadata": {},
   "outputs": [
    {
     "data": {
      "text/html": [
       "<div>\n",
       "<style scoped>\n",
       "    .dataframe tbody tr th:only-of-type {\n",
       "        vertical-align: middle;\n",
       "    }\n",
       "\n",
       "    .dataframe tbody tr th {\n",
       "        vertical-align: top;\n",
       "    }\n",
       "\n",
       "    .dataframe thead th {\n",
       "        text-align: right;\n",
       "    }\n",
       "</style>\n",
       "<table border=\"1\" class=\"dataframe\">\n",
       "  <thead>\n",
       "    <tr style=\"text-align: right;\">\n",
       "      <th></th>\n",
       "      <th>sum_sq</th>\n",
       "      <th>df</th>\n",
       "      <th>F</th>\n",
       "      <th>PR(&gt;F)</th>\n",
       "    </tr>\n",
       "  </thead>\n",
       "  <tbody>\n",
       "    <tr>\n",
       "      <th>C(Season)</th>\n",
       "      <td>8.036492</td>\n",
       "      <td>3.0</td>\n",
       "      <td>10.593229</td>\n",
       "      <td>6.399580e-07</td>\n",
       "    </tr>\n",
       "    <tr>\n",
       "      <th>Residual</th>\n",
       "      <td>631.191950</td>\n",
       "      <td>2496.0</td>\n",
       "      <td>NaN</td>\n",
       "      <td>NaN</td>\n",
       "    </tr>\n",
       "  </tbody>\n",
       "</table>\n",
       "</div>"
      ],
      "text/plain": [
       "               sum_sq      df          F        PR(>F)\n",
       "C(Season)    8.036492     3.0  10.593229  6.399580e-07\n",
       "Residual   631.191950  2496.0        NaN           NaN"
      ]
     },
     "execution_count": 142,
     "metadata": {},
     "output_type": "execute_result"
    }
   ],
   "source": [
    "table2_log_new= sm.stats.anova_lm(reg2_log_new, typ=2)\n",
    "table2_log_new"
   ]
  },
  {
   "cell_type": "markdown",
   "metadata": {},
   "source": [
    "The hypotheses here are:\n",
    "\n",
    "$H_{0}$: $\\mu_{1}=...=\\mu_{4}$, means are the same across 4 seasons\n",
    "\n",
    "$H_{1}$: $\\exists i,j \\in \\{1,2,3,4\\}$, $i \\neq j$ and $\\mu_{i}\\neq\\mu_{j}$, at least two means are different across 4 seasons\n",
    "\n",
    "For $\\mu_{1}$, $\\mu_{2}$, $\\mu_{3}$, and $\\mu_{4}$ are the mean of the log of the square root of 5 min RV in Summer, Autumn, Winter, and Spring respectively.\n",
    "\n",
    "We choose $\\alpha=0.05$ as standard. \n",
    "\n",
    "The test statistics is $F_{\\text{stat}} =10.593229$, which has a F distribution with $m-1 = 4-1=3$ degrees of freedom in numerator and $n-m=2500-4=2496$ degrees of freedom in denominator, , if the null of equality of means is, and the LSA 1-5 assumptions are also, true. \n",
    "\n",
    "The chance that the resulting F value would be more extreme than 10.593229, in the direction of the alternative hypothesis which is more or greater than, is very close to 0. Specifically, the p-value is $P(F_{3,2496} > 10.593229) = 6.399580\\times10^{-07}$. \n",
    "\n",
    "Hence, such p-value is $< 0.05$, it is statistically sufficient for us to reject the null and conclude that the mean RV of difference seasons of a year is difference from each other. In other words, the root square of 5 min RV may be affected by season of the year."
   ]
  },
  {
   "cell_type": "markdown",
   "metadata": {},
   "source": [
    "<span style=\"color:red\">Differences assessment - the log of square root of 5 min RV and season of the year</span>"
   ]
  },
  {
   "cell_type": "code",
   "execution_count": 143,
   "metadata": {},
   "outputs": [
    {
     "name": "stdout",
     "output_type": "stream",
     "text": [
      "Multiple Comparison of Means - Tukey HSD, FWER=0.05\n",
      "===================================================\n",
      "group1 group2 meandiff p-adj   lower  upper  reject\n",
      "---------------------------------------------------\n",
      "     1      2   0.1021 0.0021  0.0286 0.1756   True\n",
      "     1      3    0.156  0.001  0.0823 0.2296   True\n",
      "     1      4   0.1259  0.001  0.0521 0.1996   True\n",
      "     2      3   0.0539 0.2246 -0.0187 0.1264  False\n",
      "     2      4   0.0238 0.8129 -0.0489 0.0965  False\n",
      "     3      4  -0.0301 0.6888 -0.1029 0.0427  False\n",
      "---------------------------------------------------\n"
     ]
    }
   ],
   "source": [
    "dif2_log=MultiComparison(data['log_RV_sc_sqr'],data['Season'])\n",
    "result2_log = dif2_log.tukeyhsd()\n",
    "print(result2_log)"
   ]
  },
  {
   "cell_type": "markdown",
   "metadata": {},
   "source": [
    "Turkey's interval for the mean difference from Autumn to Summer is $(0.0286, 0.1756)$\n",
    "\n",
    "Turkey's interval for the mean difference from Winter to Summer is $(0.0823, 0.2296)$\n",
    "\n",
    "Turkey's interval for the mean difference from Spring to Monday is $(0.0521 0.1996)$\n",
    "\n",
    "Turkey's interval for the mean difference from Winter to Autumn is $(-0.0187, 0.1264)$\n",
    "\n",
    "Turkey's interval for the mean difference from Spring to Autumn is $(-0.0489, 0.0965)$\n",
    "\n",
    "Turkey's interval for the mean difference from Spring to Winter is $(-0.1029, 0.0427)$\n",
    "\n",
    "In this case, while the differences between Summer and Autumn, Summer and Winter, Summer and Springe are significant and the differences of the other pairs are not statistically significant in terms of the square root of 5 min RV at $\\alpha = 0.05$."
   ]
  },
  {
   "cell_type": "markdown",
   "metadata": {},
   "source": [
    "<span style=\"color:red\">Comparison results of the tests using the log transformation and the tests not using log transformation</span>"
   ]
  },
  {
   "cell_type": "markdown",
   "metadata": {},
   "source": [
    "Affect of day of the week on the square root of 5 min RV: although the two models come up with different F statistics and p-values, both results all agree that  the root square of 5 min RV may be affected by day of the week. Considering goodness of fit, both tests have their assumptions satisfied well. Nevertheless, regarding the forth moment assumption, the log transformation can ease the influence of outliers via a much significant lower level in kurtosis across 5 groups and thus, makes this assumption is more reliable in the test using log transformation. Regarding strength of fit, the log transformation has degenerated the model slightly with $R^{2} = 0.0177$ and $R^{2}_{\\text{adjusted}}=0.0161$, SER=0.3977% while those of the model without any transformation are $R^{2} = 0.018$ and $R^{2}_{\\text{adjusted}}=0.016$, SER=0.3977%.\n",
    "\n",
    "Affect of season of the year on the square root of 5 min RV: although the two models come up with different F statistics and p-values, both results all agree that  the root square of 5 min RV may be affected by day of the week. Considering goodness of fit, both tests have their assumptions satisfied well. Nevertheless, regarding the forth moment assumption, the log transformation can ease the influence of outliers via a much significant lower level in kurtosis across 4 groups and thus, makes this assumption is more reliable in the test using log transformation. Regarding strength of fit, the log transformation has improved the model significantly with $R^{2} = 0.0079$ and $R^{2}_{\\text{adjusted}}=0.0067$, SER=0.3996% while those of the model without any transformation are $R^{2} = 0.009$ and $R^{2}_{\\text{adjusted}}=0.008$, SER=0.3994%."
   ]
  },
  {
   "cell_type": "markdown",
   "metadata": {},
   "source": [
    "# Part 3: Discussion on data cleaning and manipulation"
   ]
  },
  {
   "cell_type": "markdown",
   "metadata": {},
   "source": [
    "Once again we cannot just remove data points that we do not like or outliers, just because they do not suit the ANOVA test's assumptions. No data cleaning is required or should be done here.\n",
    "\n",
    "Cleaning data: there is no reason to delete outlying square root of 5 min RV from the data in the subsequent analysis, regression and subsequent ANOVA tests below. There is no need for data cleaning at this stage, unless we are aware of\n",
    "errors in the data (which we are not). Data should not be deleted or removed unless it is known to be in error.\n",
    "\n",
    "Data manipulation: since in the orginial data, the square root of 5 min RV variable distribution contains of a small number of extreme outlying value, making any visulizations very unclear and not allowing assessment of any potential relationship or the distribution of non-outlying value. These outliers cast immediate doubt on the finite 4th moment assumption in one-way ANOVA test. Thus, log transformation for the square root of 5 min RV variable to come up with a new variable, which is the log of the square root of 5 min RV variable is necessary to ease the influence of outliers on the results of one-way and two-way ANOVA test.\n",
    "\n",
    "Data thining"
   ]
  },
  {
   "cell_type": "markdown",
   "metadata": {},
   "source": [
    "# Part 4: Two-way ANOVA tests"
   ]
  },
  {
   "cell_type": "markdown",
   "metadata": {},
   "source": [
    "<span style=\"color:red\">Two-way ANOVA test for the square root of 5 min RV and day of the week & season of the year</span>"
   ]
  },
  {
   "cell_type": "code",
   "execution_count": 144,
   "metadata": {},
   "outputs": [
    {
     "data": {
      "text/html": [
       "<table class=\"simpletable\">\n",
       "<caption>OLS Regression Results</caption>\n",
       "<tr>\n",
       "  <th>Dep. Variable:</th>        <td>RV_sc_sqr</td>    <th>  R-squared:         </th> <td>   0.033</td>\n",
       "</tr>\n",
       "<tr>\n",
       "  <th>Model:</th>                   <td>OLS</td>       <th>  Adj. R-squared:    </th> <td>   0.026</td>\n",
       "</tr>\n",
       "<tr>\n",
       "  <th>Method:</th>             <td>Least Squares</td>  <th>  F-statistic:       </th> <td>   4.464</td>\n",
       "</tr>\n",
       "<tr>\n",
       "  <th>Date:</th>             <td>Fri, 07 May 2021</td> <th>  Prob (F-statistic):</th> <td>4.29e-10</td>\n",
       "</tr>\n",
       "<tr>\n",
       "  <th>Time:</th>                 <td>14:50:27</td>     <th>  Log-Likelihood:    </th> <td> -1220.1</td>\n",
       "</tr>\n",
       "<tr>\n",
       "  <th>No. Observations:</th>      <td>  2500</td>      <th>  AIC:               </th> <td>   2480.</td>\n",
       "</tr>\n",
       "<tr>\n",
       "  <th>Df Residuals:</th>          <td>  2480</td>      <th>  BIC:               </th> <td>   2597.</td>\n",
       "</tr>\n",
       "<tr>\n",
       "  <th>Df Model:</th>              <td>    19</td>      <th>                     </th>     <td> </td>   \n",
       "</tr>\n",
       "<tr>\n",
       "  <th>Covariance Type:</th>      <td>nonrobust</td>    <th>                     </th>     <td> </td>   \n",
       "</tr>\n",
       "</table>\n",
       "<table class=\"simpletable\">\n",
       "<tr>\n",
       "                   <td></td>                     <th>coef</th>     <th>std err</th>      <th>t</th>      <th>P>|t|</th>  <th>[0.025</th>    <th>0.975]</th>  \n",
       "</tr>\n",
       "<tr>\n",
       "  <th>Intercept</th>                          <td>    0.6122</td> <td>    0.036</td> <td>   17.015</td> <td> 0.000</td> <td>    0.542</td> <td>    0.683</td>\n",
       "</tr>\n",
       "<tr>\n",
       "  <th>C(day_of_week)[T.1]</th>                <td>    0.0339</td> <td>    0.051</td> <td>    0.666</td> <td> 0.505</td> <td>   -0.066</td> <td>    0.134</td>\n",
       "</tr>\n",
       "<tr>\n",
       "  <th>C(day_of_week)[T.2]</th>                <td>    0.0442</td> <td>    0.051</td> <td>    0.872</td> <td> 0.383</td> <td>   -0.055</td> <td>    0.144</td>\n",
       "</tr>\n",
       "<tr>\n",
       "  <th>C(day_of_week)[T.3]</th>                <td>    0.0514</td> <td>    0.051</td> <td>    1.001</td> <td> 0.317</td> <td>   -0.049</td> <td>    0.152</td>\n",
       "</tr>\n",
       "<tr>\n",
       "  <th>C(day_of_week)[T.4]</th>                <td>   -0.1613</td> <td>    0.051</td> <td>   -3.156</td> <td> 0.002</td> <td>   -0.261</td> <td>   -0.061</td>\n",
       "</tr>\n",
       "<tr>\n",
       "  <th>C(Season)[T.2]</th>                     <td>    0.0758</td> <td>    0.050</td> <td>    1.507</td> <td> 0.132</td> <td>   -0.023</td> <td>    0.174</td>\n",
       "</tr>\n",
       "<tr>\n",
       "  <th>C(Season)[T.3]</th>                     <td>    0.0928</td> <td>    0.051</td> <td>    1.827</td> <td> 0.068</td> <td>   -0.007</td> <td>    0.192</td>\n",
       "</tr>\n",
       "<tr>\n",
       "  <th>C(Season)[T.4]</th>                     <td>    0.0889</td> <td>    0.051</td> <td>    1.759</td> <td> 0.079</td> <td>   -0.010</td> <td>    0.188</td>\n",
       "</tr>\n",
       "<tr>\n",
       "  <th>C(day_of_week)[T.1]:C(Season)[T.2]</th> <td>   -0.0696</td> <td>    0.070</td> <td>   -0.989</td> <td> 0.323</td> <td>   -0.208</td> <td>    0.068</td>\n",
       "</tr>\n",
       "<tr>\n",
       "  <th>C(day_of_week)[T.2]:C(Season)[T.2]</th> <td>   -0.0597</td> <td>    0.071</td> <td>   -0.844</td> <td> 0.399</td> <td>   -0.198</td> <td>    0.079</td>\n",
       "</tr>\n",
       "<tr>\n",
       "  <th>C(day_of_week)[T.3]:C(Season)[T.2]</th> <td>   -0.0866</td> <td>    0.071</td> <td>   -1.221</td> <td> 0.222</td> <td>   -0.226</td> <td>    0.053</td>\n",
       "</tr>\n",
       "<tr>\n",
       "  <th>C(day_of_week)[T.4]:C(Season)[T.2]</th> <td>    0.0447</td> <td>    0.073</td> <td>    0.614</td> <td> 0.539</td> <td>   -0.098</td> <td>    0.188</td>\n",
       "</tr>\n",
       "<tr>\n",
       "  <th>C(day_of_week)[T.1]:C(Season)[T.3]</th> <td>   -0.0286</td> <td>    0.071</td> <td>   -0.403</td> <td> 0.687</td> <td>   -0.168</td> <td>    0.111</td>\n",
       "</tr>\n",
       "<tr>\n",
       "  <th>C(day_of_week)[T.2]:C(Season)[T.3]</th> <td>   -0.0526</td> <td>    0.071</td> <td>   -0.738</td> <td> 0.460</td> <td>   -0.192</td> <td>    0.087</td>\n",
       "</tr>\n",
       "<tr>\n",
       "  <th>C(day_of_week)[T.3]:C(Season)[T.3]</th> <td>   -0.0475</td> <td>    0.072</td> <td>   -0.656</td> <td> 0.512</td> <td>   -0.190</td> <td>    0.094</td>\n",
       "</tr>\n",
       "<tr>\n",
       "  <th>C(day_of_week)[T.4]:C(Season)[T.3]</th> <td>    0.1195</td> <td>    0.071</td> <td>    1.675</td> <td> 0.094</td> <td>   -0.020</td> <td>    0.259</td>\n",
       "</tr>\n",
       "<tr>\n",
       "  <th>C(day_of_week)[T.1]:C(Season)[T.4]</th> <td>   -0.0145</td> <td>    0.071</td> <td>   -0.204</td> <td> 0.838</td> <td>   -0.154</td> <td>    0.125</td>\n",
       "</tr>\n",
       "<tr>\n",
       "  <th>C(day_of_week)[T.2]:C(Season)[T.4]</th> <td>    0.0286</td> <td>    0.071</td> <td>    0.401</td> <td> 0.689</td> <td>   -0.111</td> <td>    0.168</td>\n",
       "</tr>\n",
       "<tr>\n",
       "  <th>C(day_of_week)[T.3]:C(Season)[T.4]</th> <td>    0.0034</td> <td>    0.071</td> <td>    0.048</td> <td> 0.962</td> <td>   -0.136</td> <td>    0.143</td>\n",
       "</tr>\n",
       "<tr>\n",
       "  <th>C(day_of_week)[T.4]:C(Season)[T.4]</th> <td>   -0.0195</td> <td>    0.072</td> <td>   -0.269</td> <td> 0.788</td> <td>   -0.161</td> <td>    0.122</td>\n",
       "</tr>\n",
       "</table>\n",
       "<table class=\"simpletable\">\n",
       "<tr>\n",
       "  <th>Omnibus:</th>       <td>1418.688</td> <th>  Durbin-Watson:     </th> <td>   0.795</td> \n",
       "</tr>\n",
       "<tr>\n",
       "  <th>Prob(Omnibus):</th>  <td> 0.000</td>  <th>  Jarque-Bera (JB):  </th> <td>14405.454</td>\n",
       "</tr>\n",
       "<tr>\n",
       "  <th>Skew:</th>           <td> 2.523</td>  <th>  Prob(JB):          </th> <td>    0.00</td> \n",
       "</tr>\n",
       "<tr>\n",
       "  <th>Kurtosis:</th>       <td>13.622</td>  <th>  Cond. No.          </th> <td>    28.4</td> \n",
       "</tr>\n",
       "</table><br/><br/>Notes:<br/>[1] Standard Errors assume that the covariance matrix of the errors is correctly specified."
      ],
      "text/plain": [
       "<class 'statsmodels.iolib.summary.Summary'>\n",
       "\"\"\"\n",
       "                            OLS Regression Results                            \n",
       "==============================================================================\n",
       "Dep. Variable:              RV_sc_sqr   R-squared:                       0.033\n",
       "Model:                            OLS   Adj. R-squared:                  0.026\n",
       "Method:                 Least Squares   F-statistic:                     4.464\n",
       "Date:                Fri, 07 May 2021   Prob (F-statistic):           4.29e-10\n",
       "Time:                        14:50:27   Log-Likelihood:                -1220.1\n",
       "No. Observations:                2500   AIC:                             2480.\n",
       "Df Residuals:                    2480   BIC:                             2597.\n",
       "Df Model:                          19                                         \n",
       "Covariance Type:            nonrobust                                         \n",
       "======================================================================================================\n",
       "                                         coef    std err          t      P>|t|      [0.025      0.975]\n",
       "------------------------------------------------------------------------------------------------------\n",
       "Intercept                              0.6122      0.036     17.015      0.000       0.542       0.683\n",
       "C(day_of_week)[T.1]                    0.0339      0.051      0.666      0.505      -0.066       0.134\n",
       "C(day_of_week)[T.2]                    0.0442      0.051      0.872      0.383      -0.055       0.144\n",
       "C(day_of_week)[T.3]                    0.0514      0.051      1.001      0.317      -0.049       0.152\n",
       "C(day_of_week)[T.4]                   -0.1613      0.051     -3.156      0.002      -0.261      -0.061\n",
       "C(Season)[T.2]                         0.0758      0.050      1.507      0.132      -0.023       0.174\n",
       "C(Season)[T.3]                         0.0928      0.051      1.827      0.068      -0.007       0.192\n",
       "C(Season)[T.4]                         0.0889      0.051      1.759      0.079      -0.010       0.188\n",
       "C(day_of_week)[T.1]:C(Season)[T.2]    -0.0696      0.070     -0.989      0.323      -0.208       0.068\n",
       "C(day_of_week)[T.2]:C(Season)[T.2]    -0.0597      0.071     -0.844      0.399      -0.198       0.079\n",
       "C(day_of_week)[T.3]:C(Season)[T.2]    -0.0866      0.071     -1.221      0.222      -0.226       0.053\n",
       "C(day_of_week)[T.4]:C(Season)[T.2]     0.0447      0.073      0.614      0.539      -0.098       0.188\n",
       "C(day_of_week)[T.1]:C(Season)[T.3]    -0.0286      0.071     -0.403      0.687      -0.168       0.111\n",
       "C(day_of_week)[T.2]:C(Season)[T.3]    -0.0526      0.071     -0.738      0.460      -0.192       0.087\n",
       "C(day_of_week)[T.3]:C(Season)[T.3]    -0.0475      0.072     -0.656      0.512      -0.190       0.094\n",
       "C(day_of_week)[T.4]:C(Season)[T.3]     0.1195      0.071      1.675      0.094      -0.020       0.259\n",
       "C(day_of_week)[T.1]:C(Season)[T.4]    -0.0145      0.071     -0.204      0.838      -0.154       0.125\n",
       "C(day_of_week)[T.2]:C(Season)[T.4]     0.0286      0.071      0.401      0.689      -0.111       0.168\n",
       "C(day_of_week)[T.3]:C(Season)[T.4]     0.0034      0.071      0.048      0.962      -0.136       0.143\n",
       "C(day_of_week)[T.4]:C(Season)[T.4]    -0.0195      0.072     -0.269      0.788      -0.161       0.122\n",
       "==============================================================================\n",
       "Omnibus:                     1418.688   Durbin-Watson:                   0.795\n",
       "Prob(Omnibus):                  0.000   Jarque-Bera (JB):            14405.454\n",
       "Skew:                           2.523   Prob(JB):                         0.00\n",
       "Kurtosis:                      13.622   Cond. No.                         28.4\n",
       "==============================================================================\n",
       "\n",
       "Notes:\n",
       "[1] Standard Errors assume that the covariance matrix of the errors is correctly specified.\n",
       "\"\"\""
      ]
     },
     "execution_count": 144,
     "metadata": {},
     "output_type": "execute_result"
    }
   ],
   "source": [
    "reg3 = smf.ols(formula='RV_sc_sqr ~ C(day_of_week)+C(Season)+C(day_of_week):C(Season)', data=data).fit()\n",
    "reg3.summary()"
   ]
  },
  {
   "cell_type": "markdown",
   "metadata": {},
   "source": [
    "$\\widehat{\\sqrt{\\text{5 min RV}}} = 0.6122 + 0.0339\\times D_{\\text{Tues}}+0.0442\\times D_{\\text{Wed}}+0.0514\\times D_{\\text{Thurs}}- 0.1613\\times D_{\\text{Thurs}}+0.0758\\times D_{\\text{Autumn}}+0.0928\\times D_{\\text{Winter}}+0.0889\\times D_{\\text{Spring}}-0.0696\\times D_{\\text{Tues}}\\times D_{\\text{Autumn}}-0.0597\\times D_{\\text{Wed}}\\times D_{\\text{Autumn}}-0.0866\\times D_{\\text{Thurs}}\\times D_{\\text{Autumn}}+0.0447\\times D_{\\text{Thurs}}\\times D_{\\text{Autumn}}-0.0286\\times D_{\\text{Tues}}\\times D_{\\text{Winter}}-0.0526\\times D_{\\text{Wed}}\\times D_{\\text{Winter}}-0.0475\\times D_{\\text{Thurs}}\\times D_{\\text{Winter}}+0.1195\\times D_{\\text{Thurs}}\\times D_{\\text{Winter}}-0.0145\\times D_{\\text{Tues}}\\times D_{\\text{Spring}}+0.0286\\times D_{\\text{Wed}}\\times D_{\\text{Spring}}+0.0034\\times D_{\\text{Thurs}}\\times D_{\\text{Spring}}-0.0195\\times D_{\\text{Thurs}}\\times D_{\\text{Spring}}$\n",
    "\n",
    "\n",
    "Other than that, considering 4 tests regarding $H_0$: $\\beta_{i} =0$ vs $H_1$: $\\beta_{i} \\neq 0$ for i=1,2,...,19 at $\\alpha = 0.05$, among all provided p-values for each i, only p-value for i=4 is lower than 0.05, which 0.002implying that we can only reject the null hypotheses in case i=4 and that the $D_{\\text{Fri}} and the square root of 5 min RV are significantly linearly related while the linear relationships between the square root of 5 min RV and other mentioned dummy and interaction variables and are insignificant."
   ]
  },
  {
   "cell_type": "code",
   "execution_count": 145,
   "metadata": {},
   "outputs": [
    {
     "name": "stdout",
     "output_type": "stream",
     "text": [
      "----------------------------------------------------------\n",
      "If the observation is in Mon-Summer group, its predicted square root of 5 min RV value should be 0.6122057528371889%\n",
      "----------------------------------------------------------\n",
      "----------------------------------------------------------\n",
      "If the observation is in Mon-Autumn group, its predicted square root of 5 min RV value should be 0.6879731085382639%\n",
      "----------------------------------------------------------\n",
      "----------------------------------------------------------\n",
      "If the observation is in Mon-Winter group, its predicted square root of 5 min RV value should be 0.7049626192046685%\n",
      "----------------------------------------------------------\n",
      "----------------------------------------------------------\n",
      "If the observation is in Mon-Spring group, its predicted square root of 5 min RV value should be 0.7011545895446054%\n",
      "----------------------------------------------------------\n",
      "----------------------------------------------------------\n",
      "If the observation is in Tues-Summer group, its predicted square root of 5 min RV value should be 0.6460943076497425%\n",
      "----------------------------------------------------------\n",
      "----------------------------------------------------------\n",
      "If the observation is in Tues-Autumn group, its predicted square root of 5 min RV value should be 0.6522476860821199%\n",
      "----------------------------------------------------------\n",
      "----------------------------------------------------------\n",
      "If the observation is in Tues-Winter group, its predicted square root of 5 min RV value should be 0.7102061328616712%\n",
      "----------------------------------------------------------\n",
      "----------------------------------------------------------\n",
      "If the observation is in Tues-Spring group, its predicted square root of 5 min RV value should be 0.720537917332693%\n",
      "----------------------------------------------------------\n",
      "----------------------------------------------------------\n",
      "If the observation is in Wed-Summer group, its predicted square root of 5 min RV value should be 0.6564186833468998%\n",
      "----------------------------------------------------------\n",
      "----------------------------------------------------------\n",
      "If the observation is in Wed-Autumn group, its predicted square root of 5 min RV value should be 0.6725285881402673%\n",
      "----------------------------------------------------------\n",
      "----------------------------------------------------------\n",
      "If the observation is in Wed-Winter group, its predicted square root of 5 min RV value should be 0.6966160183352482%\n",
      "----------------------------------------------------------\n",
      "----------------------------------------------------------\n",
      "If the observation is in Wed-Spring group, its predicted square root of 5 min RV value should be 0.7739288090443104%\n",
      "----------------------------------------------------------\n",
      "----------------------------------------------------------\n",
      "If the observation is in Thurs-Summer group, its predicted square root of 5 min RV value should be 0.6635937722005419%\n",
      "----------------------------------------------------------\n",
      "----------------------------------------------------------\n",
      "If the observation is in Thurs-Autumn group, its predicted square root of 5 min RV value should be 0.6527215960307108%\n",
      "----------------------------------------------------------\n",
      "----------------------------------------------------------\n",
      "If the observation is in Thurs-Winter group, its predicted square root of 5 min RV value should be 0.7088327808628915%\n",
      "----------------------------------------------------------\n",
      "----------------------------------------------------------\n",
      "If the observation is in Thurs-Spring group, its predicted square root of 5 min RV value should be 0.7559573422111339%\n",
      "----------------------------------------------------------\n",
      "----------------------------------------------------------\n",
      "If the observation is in Fri-Summer group, its predicted square root of 5 min RV value should be 0.4509544396560159%\n",
      "----------------------------------------------------------\n",
      "----------------------------------------------------------\n",
      "If the observation is in Fri-Autumn group, its predicted square root of 5 min RV value should be 0.5714529522681251%\n",
      "----------------------------------------------------------\n",
      "----------------------------------------------------------\n",
      "If the observation is in Fri-Winter group, its predicted square root of 5 min RV value should be 0.6632298875575189%\n",
      "----------------------------------------------------------\n",
      "----------------------------------------------------------\n",
      "If the observation is in Fri-Spring group, its predicted square root of 5 min RV value should be 0.5204326033391529%\n",
      "----------------------------------------------------------\n"
     ]
    }
   ],
   "source": [
    "data['fit3']=reg3.fittedvalues\n",
    "for i in ('Mon','Tues','Wed','Thurs','Fri'):\n",
    "    for j in ('Summer','Autumn','Winter','Spring'):\n",
    "        print('----------------------------------------------------------')\n",
    "        print('If the observation is in {}-{} group, its predicted square root of 5 min RV value should be {}%'.format(i,j,np.mean(data.loc[data[i]+data[j]==2, 'fit3'])))\n",
    "        print('----------------------------------------------------------')"
   ]
  },
  {
   "cell_type": "code",
   "execution_count": 146,
   "metadata": {},
   "outputs": [
    {
     "data": {
      "text/plain": [
       "(0.1566447841764137, 0.3957837593641428)"
      ]
     },
     "execution_count": 146,
     "metadata": {},
     "output_type": "execute_result"
    }
   ],
   "source": [
    "reg3.mse_resid, reg3.mse_resid**0.5"
   ]
  },
  {
   "cell_type": "markdown",
   "metadata": {},
   "source": [
    "It can be seen that as $R^{2} = 0.033$ and $R^{2}_{\\text{adjusted}}=0.026$, the linear relationship estimated above is statistically weak. Besides, the SER of 0.3958% of the model needs to be examined cautiuosly by financial consultant regarding whether this is significant in this case. "
   ]
  },
  {
   "cell_type": "code",
   "execution_count": 147,
   "metadata": {},
   "outputs": [
    {
     "data": {
      "text/html": [
       "<div>\n",
       "<style scoped>\n",
       "    .dataframe tbody tr th:only-of-type {\n",
       "        vertical-align: middle;\n",
       "    }\n",
       "\n",
       "    .dataframe tbody tr th {\n",
       "        vertical-align: top;\n",
       "    }\n",
       "\n",
       "    .dataframe thead th {\n",
       "        text-align: right;\n",
       "    }\n",
       "</style>\n",
       "<table border=\"1\" class=\"dataframe\">\n",
       "  <thead>\n",
       "    <tr style=\"text-align: right;\">\n",
       "      <th></th>\n",
       "      <th>sum_sq</th>\n",
       "      <th>df</th>\n",
       "      <th>F</th>\n",
       "      <th>PR(&gt;F)</th>\n",
       "    </tr>\n",
       "  </thead>\n",
       "  <tbody>\n",
       "    <tr>\n",
       "      <th>Intercept</th>\n",
       "      <td>45.350302</td>\n",
       "      <td>1.0</td>\n",
       "      <td>289.510450</td>\n",
       "      <td>1.713593e-61</td>\n",
       "    </tr>\n",
       "    <tr>\n",
       "      <th>C(day_of_week)</th>\n",
       "      <td>3.760581</td>\n",
       "      <td>4.0</td>\n",
       "      <td>6.001766</td>\n",
       "      <td>8.359947e-05</td>\n",
       "    </tr>\n",
       "    <tr>\n",
       "      <th>C(Season)</th>\n",
       "      <td>0.691022</td>\n",
       "      <td>3.0</td>\n",
       "      <td>1.470465</td>\n",
       "      <td>2.206109e-01</td>\n",
       "    </tr>\n",
       "    <tr>\n",
       "      <th>C(day_of_week):C(Season)</th>\n",
       "      <td>2.575617</td>\n",
       "      <td>12.0</td>\n",
       "      <td>1.370201</td>\n",
       "      <td>1.726991e-01</td>\n",
       "    </tr>\n",
       "    <tr>\n",
       "      <th>Residual</th>\n",
       "      <td>388.479065</td>\n",
       "      <td>2480.0</td>\n",
       "      <td>NaN</td>\n",
       "      <td>NaN</td>\n",
       "    </tr>\n",
       "  </tbody>\n",
       "</table>\n",
       "</div>"
      ],
      "text/plain": [
       "                              sum_sq      df           F        PR(>F)\n",
       "Intercept                  45.350302     1.0  289.510450  1.713593e-61\n",
       "C(day_of_week)              3.760581     4.0    6.001766  8.359947e-05\n",
       "C(Season)                   0.691022     3.0    1.470465  2.206109e-01\n",
       "C(day_of_week):C(Season)    2.575617    12.0    1.370201  1.726991e-01\n",
       "Residual                  388.479065  2480.0         NaN           NaN"
      ]
     },
     "execution_count": 147,
     "metadata": {},
     "output_type": "execute_result"
    }
   ],
   "source": [
    "table3= sm.stats.anova_lm(reg3, typ=3)\n",
    "table3"
   ]
  },
  {
   "cell_type": "markdown",
   "metadata": {},
   "source": [
    "The hypotheses here are:\n",
    "\n",
    "$H_{0}$: $\\mu_{1,}=...=\\mu_{5,.}$, means are the same across 5 days in the week\n",
    "\n",
    "$H_{1}$: $H_{1}$: $\\exists i,j \\in \\{1,2,3,4,5\\}$, $i \\neq j$ and $\\mu_{i,.}\\neq\\mu_{j,.}$, at least two means are different across 5 days in the week\n",
    "\n",
    "For $\\mu_{1,.}$, $\\mu_{2,.}$, $\\mu_{3,.}$, $\\mu_{4,.}$ and $\\mu_{5,.}$ are the mean of the square root of 5 min RV on Monday, Tuesday, Wednesday, Thursday, and Friday respectively.\n",
    "\n",
    "We choose $\\alpha=0.05$ as standard. \n",
    "\n",
    "The test statistics is $F_{\\text{stat}_{1}} =6.001766$, which has a F distribution with $m_{1}-1 = 5-1=4$ degrees of freedom in numerator and $n-m_{1}m_{2}=2500-5\\times4=2480$ degrees of freedom in denominator, , if the null of equality of means is, and the LSA 1-6 assumptions are also, true. \n",
    "\n",
    "The chance that the resulting F value would be more extreme than 6.001766, in the direction of the alternative hypothesis which is more or greater than, is very close to 0. Specifically, the p-value is $P(F_{4,2480} > 6.001766) = 8.359947\\times10^{-05}$. \n",
    "\n",
    "Hence, such p-value is $< 0.05$, it is statistically sufficient for us to reject the null and conclude that the mean of the root square of 5 min RV of difference seasons of a year is difference from each other. In other words, the root square of 5 min RV may be affected by season of the year."
   ]
  },
  {
   "cell_type": "markdown",
   "metadata": {},
   "source": [
    "The hypotheses here are:\n",
    "\n",
    "$H_{0}$: $\\mu_{.,1}=...=\\mu_{.,4}$, means are the same across 4 seasons\n",
    "\n",
    "$H_{1}$: $\\exists i,j \\in \\{1,2,3,4\\}$, $i \\neq j$ and $\\mu_{.,i}\\neq\\mu_{.,j}$, at least two means are different across 4 seasons\n",
    "\n",
    "For $\\mu_{.,1}$, $\\mu_{.,2}$, $\\mu_{.,3}$, and $\\mu_{.,4}$ are the mean of the square root of 5 min RV in Summer, Autumn, Winter, and Spring respectively.\n",
    "\n",
    "We choose $\\alpha=0.05$ as standard. \n",
    "\n",
    "The test statistics is $F_{\\text{stat}_{2}} =1.470465$, which has a F distribution with $m_{2}-1 = 4-1=3$ degrees of freedom in numerator and $n-m_{1}m_{2}=2500-5\\times4=2480$ degrees of freedom in denominator, , if the null of equality of means is, and the LSA 1-6 assumptions are also, true. \n",
    "\n",
    "The chance that the resulting F value would be more extreme than 1.470465, in the direction of the alternative hypothesis which is more or greater than, is very close to 0. Specifically, the p-value is $P(F_{3,2480} > 1.470465) = 0.2206109$. \n",
    "\n",
    "Hence, such p-value is $> 0.05$, it is not statistically sufficient for us to reject the null and conclude that the mean the root square of 5 min RV of difference seasons of a year is not statistically difference from each other. In other words, the root square of 5 min RV may be not affected by season of the year."
   ]
  },
  {
   "cell_type": "markdown",
   "metadata": {},
   "source": [
    "The hypotheses here are:\n",
    "\n",
    "$H_{0}$: $\\mu_{\\text{i,1}}=...=\\mu_{\\text{i,4}}$ $\\forall i \\in \\{1,2,3,4,5\\}$ and $\\mu_{\\text{1,j}}=...\\mu_{\\text{5,j}}$ $\\forall j \\in \\{1,2,3,4\\}$ all interaction effects between day of the week and season of the year are equal to 0\n",
    "\n",
    "$H_{1}$: at least one of the above pairs (pair with either the same i index or j index) are different, at least one interaction effect between day of the week and season of the year is different from 0\n",
    "\n",
    "For $\\mu_{i,j}$ is the mean of the square root of 5 min RV in $i$ corresponding day and $j$ corresponding season. \n",
    "\n",
    "We choose $\\alpha=0.05$ as standard. \n",
    "\n",
    "The test statistics is $F_{\\text{stat}_{3}} =1.370201$, which has a F distribution with $(m_{2}-1)(m_{2}-1) = (5-1)\\times(4-1)=12$ degrees of freedom in numerator and $n-m_{1}m_{2}=2500-5\\times4=2480$ degrees of freedom in denominator, , if the null of 0 interaction effects are, and the LSA 1-6 assumptions are also, true. \n",
    "\n",
    "The chance that the resulting F value would be more extreme than 1.370201, in the direction of the alternative hypothesis which is more or greater than, is very close to 0. Specifically, the p-value is $P(F_{12,2480} > 1.370201) = 0.01726991$. \n",
    "\n",
    "Hence, such p-value is $> 0.05$, it is not statistically sufficient for us to reject the null and conclude that there is no interaction between day of the week and season of the year in determining the the root square of 5 min RV. In other words, day of the week and season of the year do not influence each other impact on the root square of 5 min RV."
   ]
  },
  {
   "cell_type": "markdown",
   "metadata": {},
   "source": [
    "<span style=\"color:red\">Assumptions assessment</span>"
   ]
  },
  {
   "cell_type": "code",
   "execution_count": 148,
   "metadata": {},
   "outputs": [
    {
     "data": {
      "text/plain": [
       "<matplotlib.collections.PathCollection at 0x22538ff9f10>"
      ]
     },
     "execution_count": 148,
     "metadata": {},
     "output_type": "execute_result"
    },
    {
     "data": {
      "image/png": "[encoded data removed]",
      "text/plain": [
       "<Figure size 432x288 with 1 Axes>"
      ]
     },
     "metadata": {
      "needs_background": "light"
     },
     "output_type": "display_data"
    }
   ],
   "source": [
    "fit3 = reg3.fittedvalues\n",
    "res3 = reg3.resid\n",
    "plt.scatter(fit3,res3)"
   ]
  },
  {
   "cell_type": "markdown",
   "metadata": {},
   "source": [
    "The residuals in the above graphs seem to have changing variance across 20 groups. However, the root of this phenomenon may be the existence of small number of outliers in each group. Thus, this may not harm the assumption of constant variance."
   ]
  },
  {
   "cell_type": "code",
   "execution_count": 149,
   "metadata": {},
   "outputs": [
    {
     "data": {
      "text/plain": [
       "<seaborn.axisgrid.JointGrid at 0x2253901f5e0>"
      ]
     },
     "execution_count": 149,
     "metadata": {},
     "output_type": "execute_result"
    },
    {
     "data": {
      "image/png": "[encoded data removed]",
      "text/plain": [
       "<Figure size 432x432 with 3 Axes>"
      ]
     },
     "metadata": {
      "needs_background": "light"
     },
     "output_type": "display_data"
    }
   ],
   "source": [
    "sns.jointplot(x=fit3, y=res3, kind=\"reg\")"
   ]
  },
  {
   "cell_type": "code",
   "execution_count": 150,
   "metadata": {},
   "outputs": [
    {
     "data": {
      "text/plain": [
       "(1.1405806854547507e-16, 1.000000000002478)"
      ]
     },
     "execution_count": 150,
     "metadata": {},
     "output_type": "execute_result"
    }
   ],
   "source": [
    "p, p_value = stats.pearsonr(fit3,res3)\n",
    "p, p_value"
   ]
  },
  {
   "cell_type": "markdown",
   "metadata": {},
   "source": [
    "From the above plot, equally spread residuals around a horizontal line without distinct patterns, that is a good indication of constant variance across groups. On the other hand, the regression line of estimated residuals to the fitted values is a perfect horizontal line through the origin $O(0,0)$ associated with the result of testing hypotheses $H_{\\text{0}}: \\rho = 0$ versus $H_{\\text{1}}: \\rho \\neq 0$, the p-value of nearly one claim that this correlation coefficient is significantly around zero. Thus, the true linearity relationship may be assured."
   ]
  },
  {
   "cell_type": "code",
   "execution_count": 151,
   "metadata": {},
   "outputs": [],
   "source": [
    "data['res3']=res3"
   ]
  },
  {
   "cell_type": "code",
   "execution_count": 152,
   "metadata": {},
   "outputs": [
    {
     "name": "stdout",
     "output_type": "stream",
     "text": [
      "----------------------------------------------------------\n",
      "Numerical summary of observations in group Mon and Summer\n",
      "DescribeResult(nobs=121, minmax=(0.17781973316971122, 1.623201601133199), mean=0.612205752837189, variance=0.11280781697129641, skewness=1.3997564122024162, kurtosis=1.3603428582091235)\n",
      "----------------------------------------------------------\n",
      "----------------------------------------------------------\n",
      "Numerical summary of observations in group Mon and Autumn\n",
      "DescribeResult(nobs=127, minmax=(0.19659459545624974, 2.37170273010279), mean=0.6879731085382652, variance=0.12393759786612674, skewness=1.8049897201203469, kurtosis=4.75849617735359)\n",
      "----------------------------------------------------------\n",
      "----------------------------------------------------------\n",
      "Numerical summary of observations in group Mon and Winter\n",
      "DescribeResult(nobs=122, minmax=(0.20293708748065592, 2.588705320670433), mean=0.7049626192046685, variance=0.1653593353935082, skewness=1.782871297744771, kurtosis=4.583133498960314)\n",
      "----------------------------------------------------------\n",
      "----------------------------------------------------------\n",
      "Numerical summary of observations in group Mon and Spring\n",
      "DescribeResult(nobs=124, minmax=(0.2009562429938207, 2.2757796326353588), mean=0.7011545895446062, variance=0.18315273800125098, skewness=1.8844931630584039, kurtosis=3.396515966603883)\n",
      "----------------------------------------------------------\n",
      "----------------------------------------------------------\n",
      "Numerical summary of observations in group Tues and Summer\n",
      "DescribeResult(nobs=121, minmax=(0.16414632582293032, 2.377113745955564), mean=0.6460943076497422, variance=0.12902046355293742, skewness=2.227037726324486, kurtosis=6.369446111275238)\n",
      "----------------------------------------------------------\n",
      "----------------------------------------------------------\n",
      "Numerical summary of observations in group Tues and Autumn\n",
      "DescribeResult(nobs=138, minmax=(0.2522688480938374, 2.6701594554810617), mean=0.6522476860821192, variance=0.11887092163275735, skewness=2.530437663778306, kurtosis=9.981928050460992)\n",
      "----------------------------------------------------------\n",
      "----------------------------------------------------------\n",
      "Numerical summary of observations in group Tues and Winter\n",
      "DescribeResult(nobs=133, minmax=(0.20221927049306798, 3.972354140179674), mean=0.7102061328616702, variance=0.23059836942118622, skewness=3.153380485136996, kurtosis=16.009015745886916)\n",
      "----------------------------------------------------------\n",
      "----------------------------------------------------------\n",
      "Numerical summary of observations in group Tues and Spring\n",
      "DescribeResult(nobs=131, minmax=(0.26410527283431506, 3.733462153433888), mean=0.7205379173326945, variance=0.2976338281530386, skewness=3.1471040831469375, kurtosis=12.856256313666988)\n",
      "----------------------------------------------------------\n",
      "----------------------------------------------------------\n",
      "Numerical summary of observations in group Wed and Summer\n",
      "DescribeResult(nobs=123, minmax=(0.14593661524433268, 2.3373916725193467), mean=0.6564186833469016, variance=0.17395930463846102, skewness=2.1185298101816907, kurtosis=4.95294021874263)\n",
      "----------------------------------------------------------\n",
      "----------------------------------------------------------\n",
      "Numerical summary of observations in group Wed and Autumn\n",
      "DescribeResult(nobs=131, minmax=(0.2490648975047895, 1.881130565070389), mean=0.6725285881402695, variance=0.09595707834316385, skewness=1.4543996495548095, kurtosis=2.5279950726298965)\n",
      "----------------------------------------------------------\n",
      "----------------------------------------------------------\n",
      "Numerical summary of observations in group Wed and Winter\n",
      "DescribeResult(nobs=129, minmax=(0.16742626189733528, 3.2927290329206107), mean=0.6966160183352483, variance=0.16405294232198864, skewness=2.7319719842489865, kurtosis=12.651575622524465)\n",
      "----------------------------------------------------------\n",
      "----------------------------------------------------------\n",
      "Numerical summary of observations in group Wed and Spring\n",
      "DescribeResult(nobs=125, minmax=(0.270683608165644, 3.476574804127217), mean=0.773928809044311, variance=0.2942469838270956, skewness=3.0038224306171704, kurtosis=10.462982469693713)\n",
      "----------------------------------------------------------\n",
      "----------------------------------------------------------\n",
      "Numerical summary of observations in group Thurs and Summer\n",
      "DescribeResult(nobs=117, minmax=(0.1927424452715792, 1.8826908208866766), mean=0.6635937722005413, variance=0.14688016702850198, skewness=1.3791436049491328, kurtosis=1.265465454051017)\n",
      "----------------------------------------------------------\n",
      "----------------------------------------------------------\n",
      "Numerical summary of observations in group Thurs and Autumn\n",
      "DescribeResult(nobs=134, minmax=(0.09899360425299146, 2.1249214645808445), mean=0.652721596030709, variance=0.10507095187697235, skewness=1.7009032810321727, kurtosis=3.8416868065676253)\n",
      "----------------------------------------------------------\n",
      "----------------------------------------------------------\n",
      "Numerical summary of observations in group Thurs and Winter\n",
      "DescribeResult(nobs=118, minmax=(0.21603862805687785, 2.08260988553913), mean=0.7088327808628913, variance=0.12238936225094539, skewness=1.352546913869881, kurtosis=2.048559182346006)\n",
      "----------------------------------------------------------\n",
      "----------------------------------------------------------\n",
      "Numerical summary of observations in group Thurs and Spring\n",
      "DescribeResult(nobs=133, minmax=(0.19439473019811054, 3.442913078670329), mean=0.7559573422111356, variance=0.21667561759299866, skewness=2.111773435784533, kurtosis=7.428606265842902)\n",
      "----------------------------------------------------------\n",
      "----------------------------------------------------------\n",
      "Numerical summary of observations in group Fri and Summer\n",
      "DescribeResult(nobs=119, minmax=(0.15949000989110915, 1.5362722102422308), mean=0.4509544396560157, variance=0.07341815060591927, skewness=1.7402150621456414, kurtosis=2.8514122736096956)\n",
      "----------------------------------------------------------\n",
      "----------------------------------------------------------\n",
      "Numerical summary of observations in group Fri and Autumn\n",
      "DescribeResult(nobs=107, minmax=(0.15157873264355987, 2.5656397590835023), mean=0.571452952268126, variance=0.14328592967902742, skewness=2.874130235966204, kurtosis=11.650933353674118)\n",
      "----------------------------------------------------------\n",
      "----------------------------------------------------------\n",
      "Numerical summary of observations in group Fri and Winter\n",
      "DescribeResult(nobs=131, minmax=(0.2159391816023028, 2.3846788275746715), mean=0.6632298875575168, variance=0.1078076611774198, skewness=2.033148765980684, kurtosis=6.96447414369459)\n",
      "----------------------------------------------------------\n",
      "----------------------------------------------------------\n",
      "Numerical summary of observations in group Fri and Spring\n",
      "DescribeResult(nobs=116, minmax=(0.1644602264513405, 2.1658272136805703), mean=0.5204326033391539, variance=0.11224166614017668, skewness=2.5939230119950465, kurtosis=8.379261201616147)\n",
      "----------------------------------------------------------\n"
     ]
    }
   ],
   "source": [
    "for i in ('Mon','Tues','Wed','Thurs','Fri'):\n",
    "    for j in ('Summer','Autumn','Winter','Spring'):\n",
    "        print('----------------------------------------------------------')\n",
    "        print('Numerical summary of observations in group {} and {}'.format(i,j))\n",
    "        print(stats.describe(data.loc[(data[i]+data[j])==2, 'RV_sc_sqr']))\n",
    "        print('----------------------------------------------------------')"
   ]
  },
  {
   "cell_type": "code",
   "execution_count": 153,
   "metadata": {
    "scrolled": false
   },
   "outputs": [
    {
     "name": "stdout",
     "output_type": "stream",
     "text": [
      "----------------------------------------------------------\n",
      "Numerical summary of residuals of obersations in group Mon and Summer\n",
      "DescribeResult(nobs=121, minmax=(-0.4343860196674777, 1.01099584829601), mean=8.25785720795571e-17, variance=0.11280781697129641, skewness=1.3997564122024164, kurtosis=1.3603428582091235)\n",
      "----------------------------------------------------------\n",
      "----------------------------------------------------------\n",
      "Numerical summary of residuals of obersations in group Mon and Autumn\n",
      "DescribeResult(nobs=127, minmax=(-0.4913785130820157, 1.6837296215645248), mean=-1.1539325925237847e-16, variance=0.12393759786612675, skewness=1.8049897201203462, kurtosis=4.758496177353588)\n",
      "----------------------------------------------------------\n",
      "----------------------------------------------------------\n",
      "Numerical summary of residuals of obersations in group Mon and Winter\n",
      "DescribeResult(nobs=122, minmax=(-0.5020255317240125, 1.8837427014657644), mean=-6.370132108504996e-17, variance=0.1653593353935082, skewness=1.7828712977447718, kurtosis=4.583133498960314)\n",
      "----------------------------------------------------------\n",
      "----------------------------------------------------------\n",
      "Numerical summary of residuals of obersations in group Mon and Spring\n",
      "DescribeResult(nobs=124, minmax=(-0.5001983465507853, 1.574625043090753), mean=8.058070340021298e-18, variance=0.183152738001251, skewness=1.884493163058405, kurtosis=3.396515966603884)\n",
      "----------------------------------------------------------\n",
      "----------------------------------------------------------\n",
      "Numerical summary of residuals of obersations in group Tues and Summer\n",
      "DescribeResult(nobs=121, minmax=(-0.481947981826812, 1.7310194383058217), mean=-1.1102230246251565e-16, variance=0.12902046355293742, skewness=2.227037726324486, kurtosis=6.369446111275238)\n",
      "----------------------------------------------------------\n",
      "----------------------------------------------------------\n",
      "Numerical summary of residuals of obersations in group Tues and Autumn\n",
      "DescribeResult(nobs=138, minmax=(-0.399978837988282, 2.0179117693989426), mean=-7.723290606088045e-17, variance=0.11887092163275735, skewness=2.530437663778306, kurtosis=9.98192805046099)\n",
      "----------------------------------------------------------\n",
      "----------------------------------------------------------\n",
      "Numerical summary of residuals of obersations in group Tues and Winter\n",
      "DescribeResult(nobs=133, minmax=(-0.5079868623686028, 3.262148007318003), mean=-4.0068199384968053e-16, variance=0.23059836942118625, skewness=3.153380485136994, kurtosis=16.009015745886895)\n",
      "----------------------------------------------------------\n",
      "----------------------------------------------------------\n",
      "Numerical summary of residuals of obersations in group Tues and Spring\n",
      "DescribeResult(nobs=131, minmax=(-0.4564326444983796, 3.0129242361011936), mean=-2.440795657191184e-16, variance=0.2976338281530386, skewness=3.1471040831469375, kurtosis=12.856256313666993)\n",
      "----------------------------------------------------------\n",
      "----------------------------------------------------------\n",
      "Numerical summary of residuals of obersations in group Wed and Summer\n",
      "DescribeResult(nobs=123, minmax=(-0.5104820681025682, 1.6809729891724459), mean=5.821901226692894e-16, variance=0.17395930463846102, skewness=2.118529810181692, kurtosis=4.9529402187426355)\n",
      "----------------------------------------------------------\n",
      "----------------------------------------------------------\n",
      "Numerical summary of residuals of obersations in group Wed and Autumn\n",
      "DescribeResult(nobs=131, minmax=(-0.42346369063547923, 1.2086019769301202), mean=8.474984920802722e-16, variance=0.09595707834316385, skewness=1.4543996495548093, kurtosis=2.5279950726298965)\n",
      "----------------------------------------------------------\n",
      "----------------------------------------------------------\n",
      "Numerical summary of residuals of obersations in group Wed and Winter\n",
      "DescribeResult(nobs=129, minmax=(-0.529189756437912, 2.5961130145853635), mean=9.019486277574915e-16, variance=0.16405294232198867, skewness=2.7319719842489874, kurtosis=12.651575622524472)\n",
      "----------------------------------------------------------\n",
      "----------------------------------------------------------\n",
      "Numerical summary of residuals of obersations in group Wed and Spring\n",
      "DescribeResult(nobs=125, minmax=(-0.5032452008786668, 2.7026459950829063), mean=2.9398705692074147e-16, variance=0.2942469838270955, skewness=3.003822430617171, kurtosis=10.462982469693715)\n",
      "----------------------------------------------------------\n",
      "----------------------------------------------------------\n",
      "Numerical summary of residuals of obersations in group Thurs and Summer\n",
      "DescribeResult(nobs=117, minmax=(-0.4708513269289621, 1.2190970486861352), mean=-1.518253708889103e-16, variance=0.146880167028502, skewness=1.3791436049491335, kurtosis=1.2654654540510188)\n",
      "----------------------------------------------------------\n",
      "----------------------------------------------------------\n",
      "Numerical summary of residuals of obersations in group Thurs and Autumn\n",
      "DescribeResult(nobs=134, minmax=(-0.5537279917777177, 1.4721998685501354), mean=-1.9221771769629575e-16, variance=0.10507095187697235, skewness=1.7009032810321734, kurtosis=3.841686806567628)\n",
      "----------------------------------------------------------\n",
      "----------------------------------------------------------\n",
      "Numerical summary of residuals of obersations in group Thurs and Winter\n",
      "DescribeResult(nobs=118, minmax=(-0.49279415280601296, 1.3737771046762393), mean=2.733218547911932e-16, variance=0.1223893622509454, skewness=1.3525469138698827, kurtosis=2.0485591823460076)\n",
      "----------------------------------------------------------\n",
      "----------------------------------------------------------\n",
      "Numerical summary of residuals of obersations in group Thurs and Spring\n",
      "DescribeResult(nobs=133, minmax=(-0.5615626120130253, 2.686955736459193), mean=-1.6027279753987221e-16, variance=0.21667561759299866, skewness=2.1117734357845324, kurtosis=7.428606265842896)\n",
      "----------------------------------------------------------\n",
      "----------------------------------------------------------\n",
      "Numerical summary of residuals of obersations in group Fri and Summer\n",
      "DescribeResult(nobs=119, minmax=(-0.2914644297649067, 1.085317770586215), mean=-1.5860328923216522e-16, variance=0.07341815060591926, skewness=1.7402150621456416, kurtosis=2.8514122736096956)\n",
      "----------------------------------------------------------\n",
      "----------------------------------------------------------\n",
      "Numerical summary of residuals of obersations in group Fri and Autumn\n",
      "DescribeResult(nobs=107, minmax=(-0.4198742196245661, 1.9941868068153763), mean=-4.6691622530964526e-17, variance=0.14328592967902742, skewness=2.874130235966204, kurtosis=11.650933353674118)\n",
      "----------------------------------------------------------\n",
      "----------------------------------------------------------\n",
      "Numerical summary of residuals of obersations in group Fri and Winter\n",
      "DescribeResult(nobs=131, minmax=(-0.4472907059552141, 1.7214489400171546), mean=-9.491983111299048e-17, variance=0.10780766117741977, skewness=2.033148765980684, kurtosis=6.96447414369459)\n",
      "----------------------------------------------------------\n",
      "----------------------------------------------------------\n",
      "Numerical summary of residuals of obersations in group Fri and Spring\n",
      "DescribeResult(nobs=116, minmax=(-0.35597237688781336, 1.6453946103414165), mean=-1.3877787807814457e-17, variance=0.11224166614017668, skewness=2.5939230119950465, kurtosis=8.379261201616147)\n",
      "----------------------------------------------------------\n"
     ]
    }
   ],
   "source": [
    "for i in ('Mon','Tues','Wed','Thurs','Fri'):\n",
    "    for j in ('Summer','Autumn','Winter','Spring'):\n",
    "        print('----------------------------------------------------------')\n",
    "        print('Numerical summary of residuals of obersations in group {} and {}'.format(i,j))\n",
    "        print(stats.describe(data.loc[(data[i]+data[j])==2, 'res3']))\n",
    "        print('----------------------------------------------------------')"
   ]
  },
  {
   "cell_type": "code",
   "execution_count": 154,
   "metadata": {},
   "outputs": [
    {
     "data": {
      "text/plain": [
       "<AxesSubplot:xlabel='RV_sc_sqr', ylabel='Count'>"
      ]
     },
     "execution_count": 154,
     "metadata": {},
     "output_type": "execute_result"
    },
    {
     "data": {
      "image/png": "[encoded data removed]",
      "text/plain": [
       "<Figure size 432x288 with 1 Axes>"
      ]
     },
     "metadata": {
      "needs_background": "light"
     },
     "output_type": "display_data"
    }
   ],
   "source": [
    "sns.histplot(data['RV_sc_sqr'], kde=False)"
   ]
  },
  {
   "cell_type": "markdown",
   "metadata": {},
   "source": [
    "Assumptions of two-way ANOVA tests:\n",
    "\n",
    "$1/$ Linearity ($E(Y|X_{1}=j,X_{2}=k)=\\mu_{j}$  for $j=1,...,5$, $k=1,...,5$): the residual plot suggests that linearity could hold and the discussion of relationship of residuals and fitted values above further consolidates this claim. Thus, this assumption may be met.\n",
    "\n",
    "$2/$ Exogeneity ($E(\\varepsilon|X_{1}=j,X_{2}=k)=0$ for $j=1,...,5$, $k=1,...,4$): the residuals against predicted values plot suggests that $E(\\varepsilon|X_{1}=j,X_{2}=k)=0$ for $j=1,...,5$, $k=1,...,4$. Furthermore, the mean of residuals in each group is also approximately zero as shown above, which suggests this assumption may be met.\n",
    "\n",
    "$3/$ The data are independent and identically distributed in each group: financial theory does say (strongly) that market efficiency implies that returns should be independent and identically distributed (\"strong efficiency\") and certainly uncorrelated (\"weak efficiency\") over time. Thus, the square root of 5 min RV may be independent among groups. Hence, this assumption may be met.\n",
    "\n",
    "However, it should be noted that from the time series plot, the RV displays a strong pattern over time: there are periods of persistent high volatility and at other times periods of  persistent low volatility. High values of the RV tend to follow high values of the RV; and vice versa. Thus, this may be detrimental to the validity of the assumption and in such case, data thinning may have helped remove any autocorrelation here.\n",
    "\n",
    "$4/$ The data in each group have finite forth moments ($E(Y_{j,k}^4)<\\infty$ for $j=1,...,5$, $k=1,...,4$): according to the numerical summary, most of groups have high right-skewness and high Fisher's kurtosis with values much larger than 0. Hence, this may cast doubt on the finite value of the forth moments of the square root of 5 min RV across groups. However, it should be noted that the financial nature of volatility states that its value has a lower bound of zero and should have a certain upper bound. Thus, the square root of 5 min RV is a bounded random variable. Thus, this assumption may be met but the unusual large value of kurtosis should be monitored cautiously.\n",
    "\n",
    "$5/$ $n_{j,k} \\geq 30$ for $j=1,...,5$, $k=1,...,4$: according to the numerical summary for each group, the number of observations in groups are 121, 127, 122, 124, 121, 138, 133, 131, 123, 131, 129, 125, 117, 134, 118, 133, 119, 107, 131, and 116. This assumption is met. \n",
    "\n",
    "$6/$ Equality of variances across the groups ($Var(Y|X_{1}=j,X_{2}=k)= \\sigma^2$ for $j=1,...,5$, $k=1,...,4$): according to the residuals against predicted values plot, the variance of the residuals seems to remain constant due to  equally spread residuals around a horizontal line without distinct patterns. Nevertheless, the sample variance of residuals for each group are quite varied but this may or may not be due to the influence of outliers, suggesting this assumption may be satisfied in general. However, to be cautious, a Het-robust version of this ANOVA test should be conducted."
   ]
  },
  {
   "cell_type": "markdown",
   "metadata": {},
   "source": [
    "<span style=\"color:red\">Two-way ANOVA test for log of the square root of 5 min RV and day of the week & season of the year</span>"
   ]
  },
  {
   "cell_type": "code",
   "execution_count": 155,
   "metadata": {},
   "outputs": [
    {
     "data": {
      "text/html": [
       "<table class=\"simpletable\">\n",
       "<caption>OLS Regression Results</caption>\n",
       "<tr>\n",
       "  <th>Dep. Variable:</th>      <td>log_RV_sc_sqr</td>  <th>  R-squared:         </th> <td>   0.058</td>\n",
       "</tr>\n",
       "<tr>\n",
       "  <th>Model:</th>                   <td>OLS</td>       <th>  Adj. R-squared:    </th> <td>   0.051</td>\n",
       "</tr>\n",
       "<tr>\n",
       "  <th>Method:</th>             <td>Least Squares</td>  <th>  F-statistic:       </th> <td>   8.004</td>\n",
       "</tr>\n",
       "<tr>\n",
       "  <th>Date:</th>             <td>Fri, 07 May 2021</td> <th>  Prob (F-statistic):</th> <td>5.10e-22</td>\n",
       "</tr>\n",
       "<tr>\n",
       "  <th>Time:</th>                 <td>14:50:31</td>     <th>  Log-Likelihood:    </th> <td> -1768.9</td>\n",
       "</tr>\n",
       "<tr>\n",
       "  <th>No. Observations:</th>      <td>  2500</td>      <th>  AIC:               </th> <td>   3578.</td>\n",
       "</tr>\n",
       "<tr>\n",
       "  <th>Df Residuals:</th>          <td>  2480</td>      <th>  BIC:               </th> <td>   3694.</td>\n",
       "</tr>\n",
       "<tr>\n",
       "  <th>Df Model:</th>              <td>    19</td>      <th>                     </th>     <td> </td>   \n",
       "</tr>\n",
       "<tr>\n",
       "  <th>Covariance Type:</th>      <td>nonrobust</td>    <th>                     </th>     <td> </td>   \n",
       "</tr>\n",
       "</table>\n",
       "<table class=\"simpletable\">\n",
       "<tr>\n",
       "                   <td></td>                     <th>coef</th>     <th>std err</th>      <th>t</th>      <th>P>|t|</th>  <th>[0.025</th>    <th>0.975]</th>  \n",
       "</tr>\n",
       "<tr>\n",
       "  <th>Intercept</th>                          <td>   -0.6181</td> <td>    0.045</td> <td>  -13.792</td> <td> 0.000</td> <td>   -0.706</td> <td>   -0.530</td>\n",
       "</tr>\n",
       "<tr>\n",
       "  <th>C(day_of_week)[T.1]</th>                <td>    0.0651</td> <td>    0.063</td> <td>    1.027</td> <td> 0.304</td> <td>   -0.059</td> <td>    0.189</td>\n",
       "</tr>\n",
       "<tr>\n",
       "  <th>C(day_of_week)[T.2]</th>                <td>    0.0480</td> <td>    0.063</td> <td>    0.761</td> <td> 0.447</td> <td>   -0.076</td> <td>    0.172</td>\n",
       "</tr>\n",
       "<tr>\n",
       "  <th>C(day_of_week)[T.3]</th>                <td>    0.0681</td> <td>    0.064</td> <td>    1.066</td> <td> 0.287</td> <td>   -0.057</td> <td>    0.193</td>\n",
       "</tr>\n",
       "<tr>\n",
       "  <th>C(day_of_week)[T.4]</th>                <td>   -0.3168</td> <td>    0.064</td> <td>   -4.978</td> <td> 0.000</td> <td>   -0.442</td> <td>   -0.192</td>\n",
       "</tr>\n",
       "<tr>\n",
       "  <th>C(Season)[T.2]</th>                     <td>    0.1358</td> <td>    0.063</td> <td>    2.169</td> <td> 0.030</td> <td>    0.013</td> <td>    0.259</td>\n",
       "</tr>\n",
       "<tr>\n",
       "  <th>C(Season)[T.3]</th>                     <td>    0.1289</td> <td>    0.063</td> <td>    2.038</td> <td> 0.042</td> <td>    0.005</td> <td>    0.253</td>\n",
       "</tr>\n",
       "<tr>\n",
       "  <th>C(Season)[T.4]</th>                     <td>    0.1238</td> <td>    0.063</td> <td>    1.965</td> <td> 0.050</td> <td>    0.000</td> <td>    0.247</td>\n",
       "</tr>\n",
       "<tr>\n",
       "  <th>C(day_of_week)[T.1]:C(Season)[T.2]</th> <td>   -0.1128</td> <td>    0.088</td> <td>   -1.286</td> <td> 0.198</td> <td>   -0.285</td> <td>    0.059</td>\n",
       "</tr>\n",
       "<tr>\n",
       "  <th>C(day_of_week)[T.2]:C(Season)[T.2]</th> <td>   -0.0542</td> <td>    0.088</td> <td>   -0.616</td> <td> 0.538</td> <td>   -0.227</td> <td>    0.118</td>\n",
       "</tr>\n",
       "<tr>\n",
       "  <th>C(day_of_week)[T.3]:C(Season)[T.2]</th> <td>   -0.1163</td> <td>    0.088</td> <td>   -1.316</td> <td> 0.188</td> <td>   -0.290</td> <td>    0.057</td>\n",
       "</tr>\n",
       "<tr>\n",
       "  <th>C(day_of_week)[T.4]:C(Season)[T.2]</th> <td>    0.0877</td> <td>    0.091</td> <td>    0.967</td> <td> 0.334</td> <td>   -0.090</td> <td>    0.266</td>\n",
       "</tr>\n",
       "<tr>\n",
       "  <th>C(day_of_week)[T.1]:C(Season)[T.3]</th> <td>   -0.0740</td> <td>    0.089</td> <td>   -0.836</td> <td> 0.403</td> <td>   -0.248</td> <td>    0.100</td>\n",
       "</tr>\n",
       "<tr>\n",
       "  <th>C(day_of_week)[T.2]:C(Season)[T.3]</th> <td>   -0.0468</td> <td>    0.089</td> <td>   -0.528</td> <td> 0.597</td> <td>   -0.221</td> <td>    0.127</td>\n",
       "</tr>\n",
       "<tr>\n",
       "  <th>C(day_of_week)[T.3]:C(Season)[T.3]</th> <td>   -0.0311</td> <td>    0.090</td> <td>   -0.345</td> <td> 0.730</td> <td>   -0.208</td> <td>    0.146</td>\n",
       "</tr>\n",
       "<tr>\n",
       "  <th>C(day_of_week)[T.4]:C(Season)[T.3]</th> <td>    0.2940</td> <td>    0.089</td> <td>    3.309</td> <td> 0.001</td> <td>    0.120</td> <td>    0.468</td>\n",
       "</tr>\n",
       "<tr>\n",
       "  <th>C(day_of_week)[T.1]:C(Season)[T.4]</th> <td>   -0.0700</td> <td>    0.088</td> <td>   -0.791</td> <td> 0.429</td> <td>   -0.243</td> <td>    0.104</td>\n",
       "</tr>\n",
       "<tr>\n",
       "  <th>C(day_of_week)[T.2]:C(Season)[T.4]</th> <td>    0.0429</td> <td>    0.089</td> <td>    0.482</td> <td> 0.630</td> <td>   -0.131</td> <td>    0.217</td>\n",
       "</tr>\n",
       "<tr>\n",
       "  <th>C(day_of_week)[T.3]:C(Season)[T.4]</th> <td>   -0.0041</td> <td>    0.089</td> <td>   -0.046</td> <td> 0.963</td> <td>   -0.178</td> <td>    0.170</td>\n",
       "</tr>\n",
       "<tr>\n",
       "  <th>C(day_of_week)[T.4]:C(Season)[T.4]</th> <td>    0.0186</td> <td>    0.090</td> <td>    0.207</td> <td> 0.836</td> <td>   -0.158</td> <td>    0.195</td>\n",
       "</tr>\n",
       "</table>\n",
       "<table class=\"simpletable\">\n",
       "<tr>\n",
       "  <th>Omnibus:</th>       <td>90.628</td> <th>  Durbin-Watson:     </th> <td>   0.753</td>\n",
       "</tr>\n",
       "<tr>\n",
       "  <th>Prob(Omnibus):</th> <td> 0.000</td> <th>  Jarque-Bera (JB):  </th> <td> 100.716</td>\n",
       "</tr>\n",
       "<tr>\n",
       "  <th>Skew:</th>          <td> 0.463</td> <th>  Prob(JB):          </th> <td>1.35e-22</td>\n",
       "</tr>\n",
       "<tr>\n",
       "  <th>Kurtosis:</th>      <td> 3.331</td> <th>  Cond. No.          </th> <td>    28.4</td>\n",
       "</tr>\n",
       "</table><br/><br/>Notes:<br/>[1] Standard Errors assume that the covariance matrix of the errors is correctly specified."
      ],
      "text/plain": [
       "<class 'statsmodels.iolib.summary.Summary'>\n",
       "\"\"\"\n",
       "                            OLS Regression Results                            \n",
       "==============================================================================\n",
       "Dep. Variable:          log_RV_sc_sqr   R-squared:                       0.058\n",
       "Model:                            OLS   Adj. R-squared:                  0.051\n",
       "Method:                 Least Squares   F-statistic:                     8.004\n",
       "Date:                Fri, 07 May 2021   Prob (F-statistic):           5.10e-22\n",
       "Time:                        14:50:31   Log-Likelihood:                -1768.9\n",
       "No. Observations:                2500   AIC:                             3578.\n",
       "Df Residuals:                    2480   BIC:                             3694.\n",
       "Df Model:                          19                                         \n",
       "Covariance Type:            nonrobust                                         \n",
       "======================================================================================================\n",
       "                                         coef    std err          t      P>|t|      [0.025      0.975]\n",
       "------------------------------------------------------------------------------------------------------\n",
       "Intercept                             -0.6181      0.045    -13.792      0.000      -0.706      -0.530\n",
       "C(day_of_week)[T.1]                    0.0651      0.063      1.027      0.304      -0.059       0.189\n",
       "C(day_of_week)[T.2]                    0.0480      0.063      0.761      0.447      -0.076       0.172\n",
       "C(day_of_week)[T.3]                    0.0681      0.064      1.066      0.287      -0.057       0.193\n",
       "C(day_of_week)[T.4]                   -0.3168      0.064     -4.978      0.000      -0.442      -0.192\n",
       "C(Season)[T.2]                         0.1358      0.063      2.169      0.030       0.013       0.259\n",
       "C(Season)[T.3]                         0.1289      0.063      2.038      0.042       0.005       0.253\n",
       "C(Season)[T.4]                         0.1238      0.063      1.965      0.050       0.000       0.247\n",
       "C(day_of_week)[T.1]:C(Season)[T.2]    -0.1128      0.088     -1.286      0.198      -0.285       0.059\n",
       "C(day_of_week)[T.2]:C(Season)[T.2]    -0.0542      0.088     -0.616      0.538      -0.227       0.118\n",
       "C(day_of_week)[T.3]:C(Season)[T.2]    -0.1163      0.088     -1.316      0.188      -0.290       0.057\n",
       "C(day_of_week)[T.4]:C(Season)[T.2]     0.0877      0.091      0.967      0.334      -0.090       0.266\n",
       "C(day_of_week)[T.1]:C(Season)[T.3]    -0.0740      0.089     -0.836      0.403      -0.248       0.100\n",
       "C(day_of_week)[T.2]:C(Season)[T.3]    -0.0468      0.089     -0.528      0.597      -0.221       0.127\n",
       "C(day_of_week)[T.3]:C(Season)[T.3]    -0.0311      0.090     -0.345      0.730      -0.208       0.146\n",
       "C(day_of_week)[T.4]:C(Season)[T.3]     0.2940      0.089      3.309      0.001       0.120       0.468\n",
       "C(day_of_week)[T.1]:C(Season)[T.4]    -0.0700      0.088     -0.791      0.429      -0.243       0.104\n",
       "C(day_of_week)[T.2]:C(Season)[T.4]     0.0429      0.089      0.482      0.630      -0.131       0.217\n",
       "C(day_of_week)[T.3]:C(Season)[T.4]    -0.0041      0.089     -0.046      0.963      -0.178       0.170\n",
       "C(day_of_week)[T.4]:C(Season)[T.4]     0.0186      0.090      0.207      0.836      -0.158       0.195\n",
       "==============================================================================\n",
       "Omnibus:                       90.628   Durbin-Watson:                   0.753\n",
       "Prob(Omnibus):                  0.000   Jarque-Bera (JB):              100.716\n",
       "Skew:                           0.463   Prob(JB):                     1.35e-22\n",
       "Kurtosis:                       3.331   Cond. No.                         28.4\n",
       "==============================================================================\n",
       "\n",
       "Notes:\n",
       "[1] Standard Errors assume that the covariance matrix of the errors is correctly specified.\n",
       "\"\"\""
      ]
     },
     "execution_count": 155,
     "metadata": {},
     "output_type": "execute_result"
    }
   ],
   "source": [
    "reg3_log = smf.ols(formula='log_RV_sc_sqr ~ C(day_of_week)+C(Season)+C(day_of_week):C(Season)', data=data).fit()\n",
    "reg3_log.summary()"
   ]
  },
  {
   "cell_type": "markdown",
   "metadata": {},
   "source": [
    "$\\widehat{log(\\sqrt{\\text{5 min RV}})} = -0.6181 + 0.0651\\times D_{\\text{Tues}}+0.0480\\times D_{\\text{Wed}}+0.0681\\times D_{\\text{Thurs}}-0.3168\\times D_{\\text{Thurs}}+0.1358\\times D_{\\text{Autumn}}+0.1289\\times D_{\\text{Winter}}+0.1238\\times D_{\\text{Spring}}-0.1128\\times D_{\\text{Tues}}\\times D_{\\text{Autumn}}-0.0542\\times D_{\\text{Wed}}\\times D_{\\text{Autumn}}-0.1163\\times D_{\\text{Thurs}}\\times D_{\\text{Autumn}}+0.0877\\times D_{\\text{Thurs}}\\times D_{\\text{Autumn}}-0.0740\\times D_{\\text{Tues}}\\times D_{\\text{Winter}}-0.0468\\times D_{\\text{Wed}}\\times D_{\\text{Winter}}-0.0311\\times D_{\\text{Thurs}}\\times D_{\\text{Winter}}+0.2940\\times D_{\\text{Thurs}}\\times D_{\\text{Winter}}-0.0700\\times D_{\\text{Tues}}\\times D_{\\text{Spring}}+0.0429\\times D_{\\text{Wed}}\\times D_{\\text{Spring}}-0.0041\\times D_{\\text{Thurs}}\\times D_{\\text{Spring}}+0.0186\\times D_{\\text{Thurs}}\\times D_{\\text{Spring}}$\n",
    "\n",
    "\n",
    "Other than that, considering 4 tests regarding $H_0$: $\\beta_{i} =0$ vs $H_1$: $\\beta_{i} \\neq 0$ for i=1,2,...,19 at $\\alpha = 0.05$, among all provided p-values for each i, only p-value for i=4,5,6,15 are lower than 0.05, which are 0.000, 0.030, 0.042, and 0.001 respectively implying that we can only reject the null hypotheses in case i=4,5,6,15 and that the $D_{\\text{Fri}}$, $D_{\\text{Autumn}}$, $D_{\\text{Winter}}$, and $D_{\\text{Fri}}\\times D_{\\text{Winter}}$ and square root of 5 min RV are significantly linearly related while the linear relationships between the square root of 5 min RV and other mentioned dummy and interaction variables and are insignificant."
   ]
  },
  {
   "cell_type": "code",
   "execution_count": 156,
   "metadata": {},
   "outputs": [
    {
     "name": "stdout",
     "output_type": "stream",
     "text": [
      "----------------------------------------------------------\n",
      "If the observation is in Mon-Summer group, its predicted log of square root of 5 min RV value should be -0.6180654881006408\n",
      "----------------------------------------------------------\n",
      "----------------------------------------------------------\n",
      "If the observation is in Mon-Autumn group, its predicted log of square root of 5 min RV value should be -0.48226616130169425\n",
      "----------------------------------------------------------\n",
      "----------------------------------------------------------\n",
      "If the observation is in Mon-Winter group, its predicted log of square root of 5 min RV value should be -0.48918535541907315\n",
      "----------------------------------------------------------\n",
      "----------------------------------------------------------\n",
      "If the observation is in Mon-Spring group, its predicted log of square root of 5 min RV value should be -0.4942959458807224\n",
      "----------------------------------------------------------\n",
      "----------------------------------------------------------\n",
      "If the observation is in Tues-Summer group, its predicted log of square root of 5 min RV value should be -0.5529655327339656\n",
      "----------------------------------------------------------\n",
      "----------------------------------------------------------\n",
      "If the observation is in Tues-Autumn group, its predicted log of square root of 5 min RV value should be -0.5299677824845036\n",
      "----------------------------------------------------------\n",
      "----------------------------------------------------------\n",
      "If the observation is in Tues-Winter group, its predicted log of square root of 5 min RV value should be -0.49810417421074576\n",
      "----------------------------------------------------------\n",
      "----------------------------------------------------------\n",
      "If the observation is in Tues-Spring group, its predicted log of square root of 5 min RV value should be -0.499159813832124\n",
      "----------------------------------------------------------\n",
      "----------------------------------------------------------\n",
      "If the observation is in Wed-Summer group, its predicted log of square root of 5 min RV value should be -0.5700514655355566\n",
      "----------------------------------------------------------\n",
      "----------------------------------------------------------\n",
      "If the observation is in Wed-Autumn group, its predicted log of square root of 5 min RV value should be -0.48848883162900025\n",
      "----------------------------------------------------------\n",
      "----------------------------------------------------------\n",
      "If the observation is in Wed-Winter group, its predicted log of square root of 5 min RV value should be -0.48799583133427543\n",
      "----------------------------------------------------------\n",
      "----------------------------------------------------------\n",
      "If the observation is in Wed-Spring group, its predicted log of square root of 5 min RV value should be -0.4034313718309569\n",
      "----------------------------------------------------------\n",
      "----------------------------------------------------------\n",
      "If the observation is in Thurs-Summer group, its predicted log of square root of 5 min RV value should be -0.5499418393522505\n",
      "----------------------------------------------------------\n",
      "----------------------------------------------------------\n",
      "If the observation is in Thurs-Autumn group, its predicted log of square root of 5 min RV value should be -0.5304414534050986\n",
      "----------------------------------------------------------\n",
      "----------------------------------------------------------\n",
      "If the observation is in Thurs-Winter group, its predicted log of square root of 5 min RV value should be -0.4521392488660462\n",
      "----------------------------------------------------------\n",
      "----------------------------------------------------------\n",
      "If the observation is in Thurs-Spring group, its predicted log of square root of 5 min RV value should be -0.43027185937133944\n",
      "----------------------------------------------------------\n",
      "----------------------------------------------------------\n",
      "If the observation is in Fri-Summer group, its predicted log of square root of 5 min RV value should be -0.9348691002186942\n",
      "----------------------------------------------------------\n",
      "----------------------------------------------------------\n",
      "If the observation is in Fri-Autumn group, its predicted log of square root of 5 min RV value should be -0.7113534325979541\n",
      "----------------------------------------------------------\n",
      "----------------------------------------------------------\n",
      "If the observation is in Fri-Winter group, its predicted log of square root of 5 min RV value should be -0.5119626149857909\n",
      "----------------------------------------------------------\n",
      "----------------------------------------------------------\n",
      "If the observation is in Fri-Spring group, its predicted log of square root of 5 min RV value should be -0.7925035630240554\n",
      "----------------------------------------------------------\n"
     ]
    }
   ],
   "source": [
    "data['fit3_log']=reg3_log.fittedvalues\n",
    "for i in ('Mon','Tues','Wed','Thurs','Fri'):\n",
    "    for j in ('Summer','Autumn','Winter','Spring'):\n",
    "        print('----------------------------------------------------------')\n",
    "        print('If the observation is in {}-{} group, its predicted log of square root of 5 min RV value should be {}'.format(i,j,np.mean(data.loc[data[i]+data[j]==2, 'fit3_log'])))\n",
    "        print('----------------------------------------------------------')"
   ]
  },
  {
   "cell_type": "markdown",
   "metadata": {},
   "source": [
    "Back-transform predictions"
   ]
  },
  {
   "cell_type": "code",
   "execution_count": 157,
   "metadata": {},
   "outputs": [
    {
     "name": "stdout",
     "output_type": "stream",
     "text": [
      "the back-transform predicted value for oberservation in group Mon-Summer is 0.5389861047442879%\n",
      "the back-transform predicted value for oberservation in group Mon-Autumn is 0.6173827165070074%\n",
      "the back-transform predicted value for oberservation in group Mon-Winter is 0.6131256702952483%\n",
      "the back-transform predicted value for oberservation in group Mon-Spring is 0.6100002293198183%\n",
      "the back-transform predicted value for oberservation in group Tues-Summer is 0.5752413812851993%\n",
      "the back-transform predicted value for oberservation in group Tues-Autumn is 0.588623933373567%\n",
      "the back-transform predicted value for oberservation in group Tues-Winter is 0.6076816268511523%\n",
      "the back-transform predicted value for oberservation in group Tues-Spring is 0.6070404725221618%\n",
      "the back-transform predicted value for oberservation in group Wed-Summer is 0.5654963343789047%\n",
      "the back-transform predicted value for oberservation in group Wed-Autumn is 0.6135528756729964%\n",
      "the back-transform predicted value for oberservation in group Wed-Winter is 0.6138554319955826%\n",
      "the back-transform predicted value for oberservation in group Wed-Spring is 0.6680238704809958%\n",
      "the back-transform predicted value for oberservation in group Thurs-Summer is 0.5769833671310091%\n",
      "the back-transform predicted value for oberservation in group Thurs-Autumn is 0.5883451853557885%\n",
      "the back-transform predicted value for oberservation in group Thurs-Winter is 0.6362655642977949%\n",
      "the back-transform predicted value for oberservation in group Thurs-Spring is 0.6503322717663524%\n",
      "the back-transform predicted value for oberservation in group Fri-Summer is 0.39263725829903784%\n",
      "the back-transform predicted value for oberservation in group Fri-Autumn is 0.4909792402664027%\n",
      "the back-transform predicted value for oberservation in group Fri-Winter is 0.5993181929458874%\n",
      "the back-transform predicted value for oberservation in group Fri-Spring is 0.4527099873585373%\n"
     ]
    },
    {
     "data": {
      "text/plain": [
       "array([[0.5389861 , 0.61738272, 0.61312567, 0.61000023],\n",
       "       [0.57524138, 0.58862393, 0.60768163, 0.60704047],\n",
       "       [0.56549633, 0.61355288, 0.61385543, 0.66802387],\n",
       "       [0.57698337, 0.58834519, 0.63626556, 0.65033227],\n",
       "       [0.39263726, 0.49097924, 0.59931819, 0.45270999]])"
      ]
     },
     "execution_count": 157,
     "metadata": {},
     "output_type": "execute_result"
    }
   ],
   "source": [
    "y=np.zeros((5,4))\n",
    "i1=0\n",
    "i2=0\n",
    "for i in ['Mon','Tues','Wed','Thurs','Fri']:\n",
    "    for j in ['Summer','Autumn','Winter','Spring']:\n",
    "        y[i1,i2]= np.exp(np.mean(data.loc[data[i]+data[j]==2, 'fit3_log']))\n",
    "        print('the back-transform predicted value for oberservation in group {}-{} is {}%'.format(i,j,y[i1,i2]))\n",
    "        i2=i2+1\n",
    "    i2=0\n",
    "    i1=i1+1\n",
    "y"
   ]
  },
  {
   "cell_type": "code",
   "execution_count": 158,
   "metadata": {},
   "outputs": [],
   "source": [
    "data['fit3_log_real']=np.exp(reg3_log.fittedvalues)"
   ]
  },
  {
   "cell_type": "code",
   "execution_count": 159,
   "metadata": {},
   "outputs": [
    {
     "name": "stdout",
     "output_type": "stream",
     "text": [
      "0.4043774682783517 -0.009380137726564985 -0.01711329200753453\n"
     ]
    }
   ],
   "source": [
    "RSS = np.sum((data['fit3_log_real']-data['RV_sc_sqr'])**2)\n",
    "MSE = RSS/(2500-20)\n",
    "SER = MSE**0.5\n",
    "TSS = (np.std(data['RV_sc_sqr'])**2)*2500\n",
    "R_squared = 1 - (RSS/TSS)\n",
    "R_squared_adjusted = 1 - (RSS/TSS)*((2500-1)/(2500-20))\n",
    "print(SER, R_squared, R_squared_adjusted)\n"
   ]
  },
  {
   "cell_type": "markdown",
   "metadata": {},
   "source": [
    "Normal predictions"
   ]
  },
  {
   "cell_type": "code",
   "execution_count": 160,
   "metadata": {},
   "outputs": [
    {
     "name": "stdout",
     "output_type": "stream",
     "text": [
      "the normal predicted value for oberservation in group Mon-Summer is 0.6086168874035499%\n",
      "the normal predicted value for oberservation in group Mon-Autumn is 0.6971414363928929%\n",
      "the normal predicted value for oberservation in group Mon-Winter is 0.6923344289540591%\n",
      "the normal predicted value for oberservation in group Mon-Spring is 0.6888052170847991%\n",
      "the normal predicted value for oberservation in group Tues-Summer is 0.6495559271414167%\n",
      "the normal predicted value for oberservation in group Tues-Autumn is 0.6646673504709707%\n",
      "the normal predicted value for oberservation in group Tues-Winter is 0.6861870779432063%\n",
      "the normal predicted value for oberservation in group Tues-Spring is 0.6854630938764172%\n",
      "the normal predicted value for oberservation in group Wed-Summer is 0.6385519326719777%\n",
      "the normal predicted value for oberservation in group Wed-Autumn is 0.692816824334939%\n",
      "the normal predicted value for oberservation in group Wed-Winter is 0.6931584674416829%\n",
      "the normal predicted value for oberservation in group Wed-Spring is 0.7543248428571379%\n",
      "the normal predicted value for oberservation in group Thurs-Summer is 0.6515229574489619%\n",
      "the normal predicted value for oberservation in group Thurs-Autumn is 0.6643525914271716%\n",
      "the normal predicted value for oberservation in group Thurs-Winter is 0.718463730134021%\n",
      "the normal predicted value for oberservation in group Thurs-Spring is 0.7343476938209725%\n",
      "the normal predicted value for oberservation in group Fri-Summer is 0.4433614594535734%\n",
      "the normal predicted value for oberservation in group Fri-Autumn is 0.5544080902279783%\n",
      "the normal predicted value for oberservation in group Fri-Winter is 0.6767431849251431%\n",
      "the normal predicted value for oberservation in group Fri-Spring is 0.5111948916259578%\n"
     ]
    },
    {
     "data": {
      "text/plain": [
       "array([[0.60861689, 0.69714144, 0.69233443, 0.68880522],\n",
       "       [0.64955593, 0.66466735, 0.68618708, 0.68546309],\n",
       "       [0.63855193, 0.69281682, 0.69315847, 0.75432484],\n",
       "       [0.65152296, 0.66435259, 0.71846373, 0.73434769],\n",
       "       [0.44336146, 0.55440809, 0.67674318, 0.51119489]])"
      ]
     },
     "execution_count": 160,
     "metadata": {},
     "output_type": "execute_result"
    }
   ],
   "source": [
    "y=np.zeros((5,4))\n",
    "i1=0\n",
    "i2=0\n",
    "for i in ['Mon','Tues','Wed','Thurs','Fri']:\n",
    "    for j in ['Summer','Autumn','Winter','Spring']:\n",
    "        y[i1,i2]= np.exp(np.mean(data.loc[data[i]+data[j]==2, 'fit3_log']))*np.exp(reg3_log.mse_resid/2)\n",
    "        print('the normal predicted value for oberservation in group {}-{} is {}%'.format(i,j,y[i1,i2]))\n",
    "        i2=i2+1\n",
    "    i2=0\n",
    "    i1=i1+1\n",
    "y"
   ]
  },
  {
   "cell_type": "code",
   "execution_count": 161,
   "metadata": {},
   "outputs": [],
   "source": [
    "data['fit3_log_real']=np.exp(reg3_log.fittedvalues)*np.exp(reg3_log.mse_resid/2)"
   ]
  },
  {
   "cell_type": "code",
   "execution_count": 162,
   "metadata": {},
   "outputs": [
    {
     "name": "stdout",
     "output_type": "stream",
     "text": [
      "0.39610658366975504 0.03148806155644779 0.0240680104151465\n"
     ]
    }
   ],
   "source": [
    "RSS = np.sum((data['fit3_log_real']-data['RV_sc_sqr'])**2)\n",
    "MSE = RSS/(2500-20)\n",
    "SER = MSE**0.5\n",
    "TSS = (np.std(data['RV_sc_sqr'])**2)*2500\n",
    "R_squared = 1 - (RSS/TSS)\n",
    "R_squared_adjusted = 1 - (RSS/TSS)*((2500-1)/(2500-20))\n",
    "print(SER, R_squared, R_squared_adjusted)\n"
   ]
  },
  {
   "cell_type": "markdown",
   "metadata": {},
   "source": [
    "Duan predictions"
   ]
  },
  {
   "cell_type": "code",
   "execution_count": 163,
   "metadata": {},
   "outputs": [
    {
     "name": "stdout",
     "output_type": "stream",
     "text": [
      "the normal predicted value for oberservation in group Mon-Summer is 0.6139936893318453%\n",
      "the normal predicted value for oberservation in group Mon-Autumn is 0.7033003049636997%\n",
      "the normal predicted value for oberservation in group Mon-Winter is 0.6984508302069169%\n",
      "the normal predicted value for oberservation in group Mon-Spring is 0.6948904396543559%\n",
      "the normal predicted value for oberservation in group Tues-Summer is 0.6552944034043567%\n",
      "the normal predicted value for oberservation in group Tues-Autumn is 0.6705393280083236%\n",
      "the normal predicted value for oberservation in group Tues-Winter is 0.6922491706656024%\n",
      "the normal predicted value for oberservation in group Tues-Spring is 0.6915187905900813%\n",
      "the normal predicted value for oberservation in group Wed-Summer is 0.6441931945790449%\n",
      "the normal predicted value for oberservation in group Wed-Autumn is 0.6989374872907955%\n",
      "the normal predicted value for oberservation in group Wed-Winter is 0.6992821486301143%\n",
      "the normal predicted value for oberservation in group Wed-Spring is 0.7609888959808333%\n",
      "the normal predicted value for oberservation in group Thurs-Summer is 0.6572788113637048%\n",
      "the normal predicted value for oberservation in group Thurs-Autumn is 0.6702217882381454%\n",
      "the normal predicted value for oberservation in group Thurs-Winter is 0.724810969669347%\n",
      "the normal predicted value for oberservation in group Thurs-Spring is 0.7408352596080813%\n",
      "the normal predicted value for oberservation in group Fri-Summer is 0.44727831881035496%\n",
      "the normal predicted value for oberservation in group Fri-Autumn is 0.5593059866720246%\n",
      "the normal predicted value for oberservation in group Fri-Winter is 0.6827218459465118%\n",
      "the normal predicted value for oberservation in group Fri-Spring is 0.5157110227684162%\n"
     ]
    },
    {
     "data": {
      "text/plain": [
       "array([[0.61399369, 0.7033003 , 0.69845083, 0.69489044],\n",
       "       [0.6552944 , 0.67053933, 0.69224917, 0.69151879],\n",
       "       [0.64419319, 0.69893749, 0.69928215, 0.7609889 ],\n",
       "       [0.65727881, 0.67022179, 0.72481097, 0.74083526],\n",
       "       [0.44727832, 0.55930599, 0.68272185, 0.51571102]])"
      ]
     },
     "execution_count": 163,
     "metadata": {},
     "output_type": "execute_result"
    }
   ],
   "source": [
    "E=np.mean(np.exp(reg3_log.resid))\n",
    "y=np.zeros((5,4))\n",
    "i1=0\n",
    "i2=0\n",
    "for i in ['Mon','Tues','Wed','Thurs','Fri']:\n",
    "    for j in ['Summer','Autumn','Winter','Spring']:\n",
    "        y[i1,i2]= np.exp(np.mean(data.loc[data[i]+data[j]==2, 'fit3_log']))*E\n",
    "        print('the normal predicted value for oberservation in group {}-{} is {}%'.format(i,j,y[i1,i2]))\n",
    "        i2=i2+1\n",
    "    i2=0\n",
    "    i1=i1+1\n",
    "y"
   ]
  },
  {
   "cell_type": "code",
   "execution_count": 164,
   "metadata": {},
   "outputs": [],
   "source": [
    "data['fit3_log_real']=np.exp(reg3_log.fittedvalues)*np.mean(np.exp(reg3_log.resid))"
   ]
  },
  {
   "cell_type": "code",
   "execution_count": 165,
   "metadata": {},
   "outputs": [
    {
     "name": "stdout",
     "output_type": "stream",
     "text": [
      "0.39606763354206553 0.0316785244797938 0.024259932530243944\n"
     ]
    }
   ],
   "source": [
    "RSS = np.sum((data['fit3_log_real']-data['RV_sc_sqr'])**2)\n",
    "MSE = RSS/(2500-20)\n",
    "SER = MSE**0.5\n",
    "TSS = (np.std(data['RV_sc_sqr'])**2)*2500\n",
    "R_squared = 1 - (RSS/TSS)\n",
    "R_squared_adjusted = 1 - (RSS/TSS)*((2500-1)/(2500-20))\n",
    "print(SER, R_squared, R_squared_adjusted)"
   ]
  },
  {
   "cell_type": "markdown",
   "metadata": {},
   "source": [
    "As it can be seen that among three prediction options, Duan prediction method results in the lowest SER and highest $R^2$ and $R^2_{adjusted}$. Thus, the prediction and model's strength of fit measurement via this method will be used as a benchmark to compare with other models.\n",
    "\n",
    "It can be seen that as $R^{2} = 0.0317$ and $R^{2}_{\\text{adjusted}}=0.0243$, the linear relationship estimated above is statistically weak. Besides, the SER of 0.3961% of the model needs to be examined cautiuosly by financial consultant regarding whether this is significant in this case. "
   ]
  },
  {
   "cell_type": "code",
   "execution_count": 166,
   "metadata": {},
   "outputs": [
    {
     "data": {
      "text/html": [
       "<div>\n",
       "<style scoped>\n",
       "    .dataframe tbody tr th:only-of-type {\n",
       "        vertical-align: middle;\n",
       "    }\n",
       "\n",
       "    .dataframe tbody tr th {\n",
       "        vertical-align: top;\n",
       "    }\n",
       "\n",
       "    .dataframe thead th {\n",
       "        text-align: right;\n",
       "    }\n",
       "</style>\n",
       "<table border=\"1\" class=\"dataframe\">\n",
       "  <thead>\n",
       "    <tr style=\"text-align: right;\">\n",
       "      <th></th>\n",
       "      <th>sum_sq</th>\n",
       "      <th>df</th>\n",
       "      <th>F</th>\n",
       "      <th>PR(&gt;F)</th>\n",
       "    </tr>\n",
       "  </thead>\n",
       "  <tbody>\n",
       "    <tr>\n",
       "      <th>Intercept</th>\n",
       "      <td>46.222599</td>\n",
       "      <td>1.0</td>\n",
       "      <td>190.217717</td>\n",
       "      <td>9.512085e-42</td>\n",
       "    </tr>\n",
       "    <tr>\n",
       "      <th>C(day_of_week)</th>\n",
       "      <td>12.859608</td>\n",
       "      <td>4.0</td>\n",
       "      <td>13.230137</td>\n",
       "      <td>1.146076e-10</td>\n",
       "    </tr>\n",
       "    <tr>\n",
       "      <th>C(Season)</th>\n",
       "      <td>1.542204</td>\n",
       "      <td>3.0</td>\n",
       "      <td>2.115520</td>\n",
       "      <td>9.620203e-02</td>\n",
       "    </tr>\n",
       "    <tr>\n",
       "      <th>C(day_of_week):C(Season)</th>\n",
       "      <td>8.092219</td>\n",
       "      <td>12.0</td>\n",
       "      <td>2.775128</td>\n",
       "      <td>9.183371e-04</td>\n",
       "    </tr>\n",
       "    <tr>\n",
       "      <th>Residual</th>\n",
       "      <td>602.636003</td>\n",
       "      <td>2480.0</td>\n",
       "      <td>NaN</td>\n",
       "      <td>NaN</td>\n",
       "    </tr>\n",
       "  </tbody>\n",
       "</table>\n",
       "</div>"
      ],
      "text/plain": [
       "                              sum_sq      df           F        PR(>F)\n",
       "Intercept                  46.222599     1.0  190.217717  9.512085e-42\n",
       "C(day_of_week)             12.859608     4.0   13.230137  1.146076e-10\n",
       "C(Season)                   1.542204     3.0    2.115520  9.620203e-02\n",
       "C(day_of_week):C(Season)    8.092219    12.0    2.775128  9.183371e-04\n",
       "Residual                  602.636003  2480.0         NaN           NaN"
      ]
     },
     "execution_count": 166,
     "metadata": {},
     "output_type": "execute_result"
    }
   ],
   "source": [
    "table3_log= sm.stats.anova_lm(reg3_log, typ=3)\n",
    "table3_log"
   ]
  },
  {
   "cell_type": "markdown",
   "metadata": {},
   "source": [
    "The hypotheses here are:\n",
    "\n",
    "$H_{0}$: $\\mu_{1,}=...=\\mu_{5,.}$, means are the same across 5 days in the week\n",
    "\n",
    "$H_{1}$: $H_{1}$: $\\exists i,j \\in \\{1,2,3,4,5\\}$, $i \\neq j$ and $\\mu_{i,.}\\neq\\mu_{j,.}$, at least two means are different across 5 days in the week\n",
    "\n",
    "For $\\mu_{1,.}$, $\\mu_{2,.}$, $\\mu_{3,.}$, $\\mu_{4,.}$ and $\\mu_{5,.}$ are the mean of the log of the square root of 5 min RV on Monday, Tuesday, Wednesday, Thursday, and Friday respectively.\n",
    "\n",
    "We choose $\\alpha=0.05$ as standard. \n",
    "\n",
    "The test statistics is $F_{\\text{stat}_{1}} =13.230137$, which has a F distribution with $m_{1}-1 = 5-1=4$ degrees of freedom in numerator and $n-m_{1}m_{2}=2500-5\\times4=2480$ degrees of freedom in denominator, , if the null of equality of means is, and the LSA 1-6 assumptions are also, true. \n",
    "\n",
    "The chance that the resulting F value would be more extreme than 13.230137, in the direction of the alternative hypothesis which is more or greater than, is very close to 0. Specifically, the p-value is $P(F_{4,2480} > 13.230137) = 1.146076\\times10^{-10}$. \n",
    "\n",
    "Hence, such p-value is $< 0.05$, it is statistically sufficient for us to reject the null and conclude that the mean RV of difference seasons of a year is difference from each other. In other words, the root square of 5 min RV may be affected by season of the year."
   ]
  },
  {
   "cell_type": "markdown",
   "metadata": {},
   "source": [
    "The hypotheses here are:\n",
    "\n",
    "$H_{0}$: $\\mu_{.,1}=...=\\mu_{.,4}$, means are the same across 4 seasons\n",
    "\n",
    "$H_{1}$: $\\exists i,j \\in \\{1,2,3,4\\}$, $i \\neq j$ and $\\mu_{.,i}\\neq\\mu_{.,j}$, at least two means are different across 4 seasons\n",
    "\n",
    "For $\\mu_{.,1}$, $\\mu_{.,2}$, $\\mu_{.,3}$, and $\\mu_{.,4}$ are the mean of the log of the square root of 5 min RV in Summer, Autumn, Winter, and Spring respectively.\n",
    "\n",
    "We choose $\\alpha=0.05$ as standard. \n",
    "\n",
    "The test statistics is $F_{\\text{stat}_{2}} =2.115520\t$, which has a F distribution with $m_{2}-1 = 4-1=3$ degrees of freedom in numerator and $n-m_{1}m_{2}=2500-5\\times4=2480$ degrees of freedom in denominator, , if the null of equality of means is, and the LSA 1-6 assumptions are also, true. \n",
    "\n",
    "The chance that the resulting F value would be more extreme than 2.115520\t, in the direction of the alternative hypothesis which is more or greater than, is very close to 0. Specifically, the p-value is $P(F_{3,2480} > 2.115520) = 0.09620203$. \n",
    "\n",
    "Hence, such p-value is $> 0.05$, it is not statistically sufficient for us to reject the null and conclude that the mean RV of difference seasons of a year is not statistically difference from each other. In other words, the root square of 5 min RV may be not affected by season of the year."
   ]
  },
  {
   "cell_type": "markdown",
   "metadata": {},
   "source": [
    "The hypotheses here are:\n",
    "\n",
    "$H_{0}$: $\\mu_{\\text{i,1}}=...=\\mu_{\\text{i,4}}$ $\\forall i \\in \\{1,2,3,4,5\\}$ and $\\mu_{\\text{1,j}}=...\\mu_{\\text{5,j}}$ $\\forall j \\in \\{1,2,3,4\\}$ all interaction effects between day of the week and season of the year are equal to 0\n",
    "\n",
    "$H_{1}$: at least one of the above pairs (pair with either the same i index or j index) are different, at least one interaction effect between day of the week and season of the year is different from 0\n",
    "\n",
    "For $\\mu_{i,j}$ is the mean of the log of the square root of 5 min RV in $i$ corresponding day and $j$ corresponding season. \n",
    "\n",
    "We choose $\\alpha=0.05$ as standard. \n",
    "\n",
    "The test statistics is $F_{\\text{stat}_{3}} =2.775128$, which has a F distribution with $(m_{2}-1)(m_{2}-1) = (5-1)\\times(4-1)=12$ degrees of freedom in numerator and $n-m_{1}m_{2}=2500-5\\times4=2480$ degrees of freedom in denominator, , if the null of 0 interaction effects are, and the LSA 1-6 assumptions are also, true. \n",
    "\n",
    "The chance that the resulting F value would be more extreme than 2.775128, in the direction of the alternative hypothesis which is more or greater than, is very close to 0. Specifically, the p-value is $P(F_{12,2480} > 2.775128) = 9.183371\\times10^{-04}$. \n",
    "\n",
    "Hence, such p-value is $< 0.05$, it is statistically sufficient for us to reject the null and conclude that there is at least one interaction among days of the week and seasons of the year in determining the log of the square root of 5 min RV. In other word, day of the week and season of the year may influence each other impact on the square root of 5 min RV."
   ]
  },
  {
   "cell_type": "markdown",
   "metadata": {},
   "source": [
    "<span style=\"color:red\">Assumptions assessment</span>"
   ]
  },
  {
   "cell_type": "code",
   "execution_count": 167,
   "metadata": {},
   "outputs": [
    {
     "data": {
      "text/plain": [
       "<matplotlib.collections.PathCollection at 0x2253a3ae910>"
      ]
     },
     "execution_count": 167,
     "metadata": {},
     "output_type": "execute_result"
    },
    {
     "data": {
      "image/png": "[encoded data removed]",
      "text/plain": [
       "<Figure size 432x288 with 1 Axes>"
      ]
     },
     "metadata": {
      "needs_background": "light"
     },
     "output_type": "display_data"
    }
   ],
   "source": [
    "fit3_log = reg3_log.fittedvalues\n",
    "res3_log = reg3_log.resid\n",
    "plt.scatter(fit3_log,res3_log)"
   ]
  },
  {
   "cell_type": "markdown",
   "metadata": {},
   "source": [
    "The residuals in the above graphs seem to have changing variance across 20 groups. However, the root of this phenomenon may be the existence of small number of outliers in each group. Thus, this may not harm the assumption of constant variance."
   ]
  },
  {
   "cell_type": "code",
   "execution_count": 168,
   "metadata": {},
   "outputs": [
    {
     "data": {
      "text/plain": [
       "<seaborn.axisgrid.JointGrid at 0x2253a3c2ee0>"
      ]
     },
     "execution_count": 168,
     "metadata": {},
     "output_type": "execute_result"
    },
    {
     "data": {
      "image/png": "[encoded data removed]",
      "text/plain": [
       "<Figure size 432x432 with 3 Axes>"
      ]
     },
     "metadata": {
      "needs_background": "light"
     },
     "output_type": "display_data"
    }
   ],
   "source": [
    "sns.jointplot(x=fit3_log, y=res3_log, kind=\"reg\")"
   ]
  },
  {
   "cell_type": "code",
   "execution_count": 169,
   "metadata": {},
   "outputs": [
    {
     "data": {
      "text/plain": [
       "(3.2612801348363973e-16, 1.0000000000028155)"
      ]
     },
     "execution_count": 169,
     "metadata": {},
     "output_type": "execute_result"
    }
   ],
   "source": [
    "p, p_value = stats.pearsonr(fit3_log,res3_log)\n",
    "p, p_value"
   ]
  },
  {
   "cell_type": "markdown",
   "metadata": {},
   "source": [
    "From the above plot, equally spread residuals around a horizontal line without distinct patterns, that is a good indication of constant variance across groups. On the other hand, the regression line of estimated residuals to the fitted values is a perfect horizontal line through the origin $O(0,0)$ associated with the result of testing hypotheses $H_{\\text{0}}: \\rho = 0$ versus $H_{\\text{1}}: \\rho \\neq 0$, the p-value of nearly one claim that this correlation coefficient is significantly around zero. Thus, the true linearity relationship may be assured."
   ]
  },
  {
   "cell_type": "code",
   "execution_count": 170,
   "metadata": {},
   "outputs": [],
   "source": [
    "data['res3_log']=res3_log"
   ]
  },
  {
   "cell_type": "code",
   "execution_count": 171,
   "metadata": {},
   "outputs": [
    {
     "name": "stdout",
     "output_type": "stream",
     "text": [
      "----------------------------------------------------------\n",
      "Numerical summary of observations in group Mon and Summer\n",
      "DescribeResult(nobs=121, minmax=(-1.7269849768542604, 0.48440049593435286), mean=-0.6180654881006419, variance=0.24672718876900132, skewness=0.29652501032901346, kurtosis=-0.219575440545142)\n",
      "----------------------------------------------------------\n",
      "----------------------------------------------------------\n",
      "Numerical summary of observations in group Mon and Autumn\n",
      "DescribeResult(nobs=127, minmax=(-1.6266115616965235, 0.8636081487044595), mean=-0.48226616130169303, variance=0.20988246817521222, skewness=0.2657276801074155, kurtosis=0.006932669656835699)\n",
      "----------------------------------------------------------\n",
      "----------------------------------------------------------\n",
      "Numerical summary of observations in group Mon and Winter\n",
      "DescribeResult(nobs=122, minmax=(-1.5948592618619777, 0.9511578745426709), mean=-0.4891853554190723, variance=0.27427067315078374, skewness=0.19324828406056868, kurtosis=-0.31744525520602496)\n",
      "----------------------------------------------------------\n",
      "----------------------------------------------------------\n",
      "Numerical summary of observations in group Mon and Spring\n",
      "DescribeResult(nobs=124, minmax=(-1.6046680911705502, 0.8223226893600607), mean=-0.4942959458807232, variance=0.25415521311254047, skewness=0.6475904319645376, kurtosis=0.10437857318196642)\n",
      "----------------------------------------------------------\n",
      "----------------------------------------------------------\n",
      "Numerical summary of observations in group Tues and Summer\n",
      "DescribeResult(nobs=121, minmax=(-1.8069970183314585, 0.8658870399700312), mean=-0.5529655327339664, variance=0.2191152918630122, skewness=0.3498221799510873, kurtosis=0.958426919388736)\n",
      "----------------------------------------------------------\n",
      "----------------------------------------------------------\n",
      "Numerical summary of observations in group Tues and Autumn\n",
      "DescribeResult(nobs=138, minmax=(-1.3772599026435282, 0.9821381917828768), mean=-0.5299677824845013, variance=0.1891572614193489, skewness=0.5931885944656506, kurtosis=0.45804252439208026)\n",
      "----------------------------------------------------------\n",
      "----------------------------------------------------------\n",
      "Numerical summary of observations in group Tues and Winter\n",
      "DescribeResult(nobs=133, minmax=(-1.5984026728168954, 1.3793589013675163), mean=-0.4981041742107452, variance=0.28671470633991103, skewness=0.49848950835395744, kurtosis=0.2564829177504042)\n",
      "----------------------------------------------------------\n",
      "----------------------------------------------------------\n",
      "Numerical summary of observations in group Tues and Spring\n",
      "DescribeResult(nobs=131, minmax=(-1.331407494583712, 1.3173359944217193), mean=-0.4991598138321252, variance=0.2894060056914055, skewness=0.9901435051327399, kurtosis=0.8807958931854607)\n",
      "----------------------------------------------------------\n",
      "----------------------------------------------------------\n",
      "Numerical summary of observations in group Wed and Summer\n",
      "DescribeResult(nobs=123, minmax=(-1.9245828937028984, 0.8490356377995893), mean=-0.5700514655355583, variance=0.277235632565268, skewness=0.45168410323425845, kurtosis=0.43033700736870006)\n",
      "----------------------------------------------------------\n",
      "----------------------------------------------------------\n",
      "Numerical summary of observations in group Wed and Autumn\n",
      "DescribeResult(nobs=131, minmax=(-1.3900417839268366, 0.6318729604938902), mean=-0.48848883162900236, variance=0.17951959765108896, skewness=0.23522187188503174, kurtosis=-0.13626315424187885)\n",
      "----------------------------------------------------------\n",
      "----------------------------------------------------------\n",
      "Numerical summary of observations in group Wed and Winter\n",
      "DescribeResult(nobs=129, minmax=(-1.7872122521241758, 1.1917167142267904), mean=-0.48799583133427604, variance=0.2418782224122385, skewness=0.2731738558275984, kurtosis=0.38279134722655783)\n",
      "----------------------------------------------------------\n",
      "----------------------------------------------------------\n",
      "Numerical summary of observations in group Wed and Spring\n",
      "DescribeResult(nobs=125, minmax=(-1.30680463770236, 1.246047557405043), mean=-0.40343137183095823, variance=0.24788584744455083, skewness=1.0309148151526, kurtosis=1.4230066977055031)\n",
      "----------------------------------------------------------\n",
      "----------------------------------------------------------\n",
      "Numerical summary of observations in group Thurs and Summer\n",
      "DescribeResult(nobs=117, minmax=(-1.6464004617473953, 0.632702041231612), mean=-0.5499418393522505, variance=0.26710548226343883, skewness=0.4232535773871269, kurtosis=-0.5428383382472668)\n",
      "----------------------------------------------------------\n",
      "----------------------------------------------------------\n",
      "Numerical summary of observations in group Thurs and Autumn\n",
      "DescribeResult(nobs=134, minmax=(-2.31270003443958, 0.7537348438491137), mean=-0.5304414534050998, variance=0.2051915865339835, skewness=0.040468819785961944, kurtosis=1.1547732038344156)\n",
      "----------------------------------------------------------\n",
      "----------------------------------------------------------\n",
      "Numerical summary of observations in group Thurs and Winter\n",
      "DescribeResult(nobs=118, minmax=(-1.5322980536901367, 0.7336218598320242), mean=-0.45213924886604556, variance=0.21479679147322667, skewness=0.12626119969161403, kurtosis=-0.2483094789868523)\n",
      "----------------------------------------------------------\n",
      "----------------------------------------------------------\n",
      "Numerical summary of observations in group Thurs and Spring\n",
      "DescribeResult(nobs=133, minmax=(-1.6378644953576385, 1.2363179382260092), mean=-0.4302718593713403, variance=0.2885816737024246, skewness=0.3301243845352123, kurtosis=-0.2728430453674431)\n",
      "----------------------------------------------------------\n",
      "----------------------------------------------------------\n",
      "Numerical summary of observations in group Fri and Summer\n",
      "DescribeResult(nobs=119, minmax=(-1.8357739926303644, 0.4293588392336198), mean=-0.9348691002186954, variance=0.2537924811422146, skewness=0.658105782168235, kurtosis=-0.16100118954992038)\n",
      "----------------------------------------------------------\n",
      "----------------------------------------------------------\n",
      "Numerical summary of observations in group Fri and Autumn\n",
      "DescribeResult(nobs=107, minmax=(-1.8866501016072152, 0.9422078662690533), mean=-0.7113534325979541, variance=0.2820197659300397, skewness=0.4240989428128012, kurtosis=0.47780613026259866)\n",
      "----------------------------------------------------------\n",
      "----------------------------------------------------------\n",
      "Numerical summary of observations in group Fri and Winter\n",
      "DescribeResult(nobs=131, minmax=(-1.532758477601311, 0.8690644517816588), mean=-0.5119626149857919, variance=0.19856076780119933, skewness=0.169628236505803, kurtosis=0.12392072573280188)\n",
      "----------------------------------------------------------\n",
      "----------------------------------------------------------\n",
      "Numerical summary of observations in group Fri and Spring\n",
      "DescribeResult(nobs=116, minmax=(-1.805086522501624, 0.7728023733195385), mean=-0.7925035630240553, variance=0.24736019282525837, skewness=0.7647520108395353, kurtosis=0.6756495755352625)\n",
      "----------------------------------------------------------\n"
     ]
    }
   ],
   "source": [
    "for i in ['Mon','Tues','Wed','Thurs','Fri']:\n",
    "    for j in ['Summer','Autumn','Winter','Spring']:\n",
    "        print('----------------------------------------------------------')\n",
    "        print('Numerical summary of observations in group {} and {}'.format(i,j))\n",
    "        print(stats.describe(data.loc[(data[i]+data[j])==2, 'log_RV_sc_sqr']))\n",
    "        print('----------------------------------------------------------')"
   ]
  },
  {
   "cell_type": "code",
   "execution_count": 172,
   "metadata": {
    "scrolled": false
   },
   "outputs": [
    {
     "name": "stdout",
     "output_type": "stream",
     "text": [
      "----------------------------------------------------------\n",
      "Numerical summary of residuals of observations in group Mon and Summer\n",
      "DescribeResult(nobs=121, minmax=(-1.1089194887536182, 1.1024659840349949), mean=2.1103412864775704e-16, variance=0.24672718876900127, skewness=0.29652501032901357, kurtosis=-0.21957544054514067)\n",
      "----------------------------------------------------------\n",
      "----------------------------------------------------------\n",
      "Numerical summary of residuals of observations in group Mon and Autumn\n",
      "DescribeResult(nobs=127, minmax=(-1.1443454003948306, 1.3458743100061525), mean=-4.589504629355962e-17, variance=0.20988246817521222, skewness=0.2657276801074155, kurtosis=0.006932669656835699)\n",
      "----------------------------------------------------------\n",
      "----------------------------------------------------------\n",
      "Numerical summary of residuals of observations in group Mon and Winter\n",
      "DescribeResult(nobs=122, minmax=(-1.105673906442905, 1.4403432299617434), mean=3.003062279723784e-16, variance=0.2742706731507838, skewness=0.19324828406056835, kurtosis=-0.31744525520602673)\n",
      "----------------------------------------------------------\n",
      "----------------------------------------------------------\n",
      "Numerical summary of residuals of observations in group Mon and Spring\n",
      "DescribeResult(nobs=124, minmax=(-1.1103721452898276, 1.3166186352407834), mean=-6.012215814804779e-16, variance=0.25415521311254047, skewness=0.6475904319645376, kurtosis=0.10437857318196686)\n",
      "----------------------------------------------------------\n",
      "----------------------------------------------------------\n",
      "Numerical summary of residuals of observations in group Tues and Summer\n",
      "DescribeResult(nobs=121, minmax=(-1.2540314855974912, 1.4188525727039987), mean=6.973301642273711e-16, variance=0.2191152918630122, skewness=0.3498221799510886, kurtosis=0.958426919388736)\n",
      "----------------------------------------------------------\n",
      "----------------------------------------------------------\n",
      "Numerical summary of residuals of observations in group Tues and Autumn\n",
      "DescribeResult(nobs=138, minmax=(-0.8472921201590259, 1.512105974267379), mean=8.881784197001252e-16, variance=0.1891572614193489, skewness=0.5931885944656516, kurtosis=0.45804252439208204)\n",
      "----------------------------------------------------------\n",
      "----------------------------------------------------------\n",
      "Numerical summary of residuals of observations in group Tues and Winter\n",
      "DescribeResult(nobs=133, minmax=(-1.1002984986061488, 1.8774630755782629), mean=1.469167310782162e-15, variance=0.28671470633991103, skewness=0.4984895083539575, kurtosis=0.2564829177504042)\n",
      "----------------------------------------------------------\n",
      "----------------------------------------------------------\n",
      "Numerical summary of residuals of observations in group Tues and Spring\n",
      "DescribeResult(nobs=131, minmax=(-0.8322476807515864, 1.816495808253845), mean=3.525593727053932e-16, variance=0.2894060056914055, skewness=0.9901435051327404, kurtosis=0.8807958931854607)\n",
      "----------------------------------------------------------\n",
      "----------------------------------------------------------\n",
      "Numerical summary of residuals of observations in group Wed and Summer\n",
      "DescribeResult(nobs=123, minmax=(-1.3545314281673404, 1.4190871033351473), mean=-3.9083460948186407e-16, variance=0.277235632565268, skewness=0.45168410323425845, kurtosis=0.43033700736870006)\n",
      "----------------------------------------------------------\n",
      "----------------------------------------------------------\n",
      "Numerical summary of residuals of observations in group Wed and Autumn\n",
      "DescribeResult(nobs=131, minmax=(-0.9015529522978352, 1.1203617921228917), mean=-9.085183835100517e-16, variance=0.17951959765108896, skewness=0.23522187188503157, kurtosis=-0.13626315424187885)\n",
      "----------------------------------------------------------\n",
      "----------------------------------------------------------\n",
      "Numerical summary of residuals of observations in group Wed and Winter\n",
      "DescribeResult(nobs=129, minmax=(-1.2992164207898997, 1.6797125455610664), mean=1.3770208057366282e-17, variance=0.2418782224122385, skewness=0.2731738558275984, kurtosis=0.38279134722655783)\n",
      "----------------------------------------------------------\n",
      "----------------------------------------------------------\n",
      "Numerical summary of residuals of observations in group Wed and Spring\n",
      "DescribeResult(nobs=125, minmax=(-0.9033732658714025, 1.6494789292360004), mean=-7.001066393286237e-16, variance=0.2478858474445508, skewness=1.0309148151526002, kurtosis=1.423006697705504)\n",
      "----------------------------------------------------------\n",
      "----------------------------------------------------------\n",
      "Numerical summary of residuals of observations in group Thurs and Summer\n",
      "DescribeResult(nobs=117, minmax=(-1.096458622395145, 1.1826438805838624), mean=6.073014835556412e-17, variance=0.26710548226343883, skewness=0.42325357738712643, kurtosis=-0.5428383382472663)\n",
      "----------------------------------------------------------\n",
      "----------------------------------------------------------\n",
      "Numerical summary of residuals of observations in group Thurs and Autumn\n",
      "DescribeResult(nobs=134, minmax=(-1.7822585810344804, 1.2841762972542132), mean=-1.391921404007659e-16, variance=0.20519158653398353, skewness=0.04046881978596136, kurtosis=1.1547732038344147)\n",
      "----------------------------------------------------------\n",
      "----------------------------------------------------------\n",
      "Numerical summary of residuals of observations in group Thurs and Winter\n",
      "DescribeResult(nobs=118, minmax=(-1.0801588048240913, 1.1857611086980695), mean=-2.5779754978584144e-16, variance=0.21479679147322672, skewness=0.12626119969161426, kurtosis=-0.24830947898685274)\n",
      "----------------------------------------------------------\n",
      "----------------------------------------------------------\n",
      "Numerical summary of residuals of observations in group Thurs and Spring\n",
      "DescribeResult(nobs=133, minmax=(-1.2075926359862985, 1.6665897975973492), mean=-4.541062596963046e-16, variance=0.28858167370242466, skewness=0.33012438453521253, kurtosis=-0.27284304536744397)\n",
      "----------------------------------------------------------\n",
      "----------------------------------------------------------\n",
      "Numerical summary of residuals of observations in group Fri and Summer\n",
      "DescribeResult(nobs=119, minmax=(-0.9009048924116696, 1.3642279394523147), mean=-4.907372360948171e-16, variance=0.2537924811422146, skewness=0.6581057821682345, kurtosis=-0.16100118954992038)\n",
      "----------------------------------------------------------\n",
      "----------------------------------------------------------\n",
      "Numerical summary of residuals of observations in group Fri and Autumn\n",
      "DescribeResult(nobs=107, minmax=(-1.1752966690092619, 1.6535612988670065), mean=-8.767649119703339e-16, variance=0.2820197659300397, skewness=0.42409894281280186, kurtosis=0.47780613026259866)\n",
      "----------------------------------------------------------\n",
      "----------------------------------------------------------\n",
      "Numerical summary of residuals of observations in group Fri and Winter\n",
      "DescribeResult(nobs=131, minmax=(-1.0207958626155196, 1.3810270667674502), mean=-3.796793244519619e-16, variance=0.1985607678011993, skewness=0.1696282365058023, kurtosis=0.12392072573280322)\n",
      "----------------------------------------------------------\n",
      "----------------------------------------------------------\n",
      "Numerical summary of residuals of observations in group Fri and Spring\n",
      "DescribeResult(nobs=116, minmax=(-1.01258295947757, 1.5653059363435926), mean=-1.0834245378238597e-15, variance=0.24736019282525837, skewness=0.7647520108395347, kurtosis=0.6756495755352621)\n",
      "----------------------------------------------------------\n"
     ]
    }
   ],
   "source": [
    "for i in ['Mon','Tues','Wed','Thurs','Fri']:\n",
    "    for j in ['Summer','Autumn','Winter','Spring']:\n",
    "        print('----------------------------------------------------------')\n",
    "        print('Numerical summary of residuals of observations in group {} and {}'.format(i,j))\n",
    "        print(stats.describe(data.loc[(data[i]+data[j])==2, 'res3_log']))\n",
    "        print('----------------------------------------------------------')"
   ]
  },
  {
   "cell_type": "code",
   "execution_count": 173,
   "metadata": {},
   "outputs": [
    {
     "data": {
      "text/plain": [
       "<AxesSubplot:xlabel='log_RV_sc_sqr', ylabel='Count'>"
      ]
     },
     "execution_count": 173,
     "metadata": {},
     "output_type": "execute_result"
    },
    {
     "data": {
      "image/png": "[encoded data removed]",
      "text/plain": [
       "<Figure size 432x288 with 1 Axes>"
      ]
     },
     "metadata": {
      "needs_background": "light"
     },
     "output_type": "display_data"
    }
   ],
   "source": [
    "sns.histplot(data['log_RV_sc_sqr'], kde=False)"
   ]
  },
  {
   "cell_type": "markdown",
   "metadata": {},
   "source": [
    "Assumptions of two-way ANOVA tests:\n",
    "\n",
    "$1/$ Linearity ($E(Y|X_{1}=j,X_{2}=k)=\\mu_{j}$  for $j=1,...,5$, $k=1,...,4$): the residual plot suggests that linearity could hold and the discussion of relationship of residuals and fitted values above further consolidates this claim. Thus, this assumption may be met.\n",
    "\n",
    "$2/$ Exogeneity ($E(\\varepsilon|X_{1}=j,X_{2}=k)=0$ for $j=1,...,5$, $k=1,...,4$): the residuals against predicted values plot suggests that $E(\\varepsilon|X_{1}=j,X_{2}=k)=0$ for $j=1,...,5$, $k=1,...,4$. Furthermore, the mean of residuals in each group is also approximately zero as shown above, which suggests this assumption may be met.\n",
    "\n",
    "$3/$ The data are independent and identically distributed in each group: financial theory does say (strongly) that market efficiency implies that returns should be independent and identically distributed (\"strong efficiency\") and certainly uncorrelated (\"weak efficiency\") over time. Thus, the square root of 5 min RV may be independent among groups. Furthermore, data thinning may have helped remove any autocorrelation here. Hence, this assumption may be met.\n",
    "\n",
    "However, it should be noted that from the time series plot, the log of RV displays a strong pattern over time: there are periods of persistent high volatility and at other times periods of  persistent low volatility. High values of the log of RV tend to follow high values of the log of RV; and vice versa. Thus, this may be detrimental to the validity of the assumption and in such case, data thinning may have helped remove any autocorrelation here.\n",
    "\n",
    "$4/$ The data in each group have finite forth moments ($E(Y_{j,k}^4)<\\infty$ for $j=1,...,5$, $k=1,...,4$): according to the numerical summary, most of groups have right-skewness with values around 0  and Fisher's kurtosis with values around 0. Besides, it should be noted the fact that the financial nature of return volatility allows the square root of 5 min RV values have the lower bound of 0, which is hardly reached in real life situation and are likely to have an upper bound. Thus, the log of the square root of 5 min RV values may be considered as a bounded random variable. Thus, this assumption may be met.\n",
    "\n",
    "$5/$ $n_{j,k} \\geq 30$ for $j=1,...,5$, $k=1,...,4$: according to the numerical summary for each group, the number of observations in groups are 121, 127, 122, 124, 121, 138, 133, 131, 123, 131, 129, 125, 117, 134, 118, 133, 119, 107, 131, and 116. This assumption is met. \n",
    "\n",
    "$6/$ Equality of variances across the groups ($Var(Y|X_{1}=j,X_{2}=k)= \\sigma^2$ for $j=1,...,5$, $k=1,...,4$): according to the residuals against predicted values plot, the variance of the residuals seems to remain constant due to  equally spread residuals around a horizontal line without distinct patterns. Furthermore, the sample variance of residuals for each group are quite varied but this may or may not be due to the influence of outliers, suggesting this assumption may be satisfied in general. However, to be cautious, a Het-robust version of this ANOVA test should be conducted."
   ]
  },
  {
   "cell_type": "markdown",
   "metadata": {},
   "source": [
    "<span style=\"color:red\">Comparison results of the tests using the log transformation and the tests not using log transformation</span>"
   ]
  },
  {
   "cell_type": "markdown",
   "metadata": {},
   "source": [
    "$1/$ Strength of fit: in this aspect, the log transformation has degenerated the model slightly with $R^{2} = 0.0317$, SER=0.3961% and $R^{2}_{\\text{adjusted}}=0.0242$ while those of the model without any transformation are $R^{2} = 0.033$ and $R^{2}_{\\text{adjusted}}=0.026$, SER=0.3958%. Hence, the non-transformed model is better choice from this perspective.\n",
    "\n",
    "$2/$ Goodness of fit: both tests have their assumptions satisfied well. Nevertheless, regarding the forth moment assumption, the log transformation can ease the influence of outliers via a much significant lower level in kurtosis across 5 groups and thus, makes this assumption is more reliable in the test using log transformation.\n",
    "\n",
    "$3/$ Two-way ANOVA test's result: although the two models come up with different F statistics and p-values, both results all agree that  the root square of 5 min RV may be affected by day of the week, the root square of 5 min RV may be not affected by season of the year. Meanwhile, the log transformation model concludes that there should have interaction between day of the week and season of the year in impacting the square root of 5 min RV, which is rejected by the model not using log transformation."
   ]
  },
  {
   "cell_type": "markdown",
   "metadata": {},
   "source": [
    "# Part 5: Report Summary"
   ]
  },
  {
   "cell_type": "markdown",
   "metadata": {},
   "source": [
    "As consider the either day of the week or season of the year separately, its impact on the square root of 5 min RV is recognized via the results from two one-way ANOVA tests and those results are consistent before and after using log transformation on the square root of 5 min RV. Considering the differences assessment, while the log transformation data accepts the differences between Summer and Autumn, Summer and Winter, Summer and Spring are statistically significant and rejects the statistical differences of three remaining pairs. Nevertheless, the same analysis with non-transformed data rejects the statistical difference between Summer and Autumn as significant the keeps remaining results the same as those of the analysis conducted for transformed data. Regarding the day of the week, both analyses conducted for transformed and non-transformed agree that the differences between Friday and Monday, Friday and Tuesday, Friday and Wednesday, Friday and Thursday are statistically significant and rejects the statistical differences of six remaining pairs. However, as the models with the simultaneous existence of day of the week and season of the year are considered, there is no difference in the means of the RV and means of log of RV across 4 seasons. Furthermore, while the non-transformed model confirms no interaction between the day of the week and season of the year, the log-transformed model state that there should be at least one interaction exists. As discuss above, since the non-transformed data's distribution is very positive skewed and suffers outliers, the log-transformed data is a more reliable input for one-way ANOVA tests and the results from those tests are more trustworthy."
   ]
  }
 ],
 "metadata": {
  "kernelspec": {
   "display_name": "Python 3 (ipykernel)",
   "language": "python",
   "name": "python3"
  },
  "language_info": {
   "codemirror_mode": {
    "name": "ipython",
    "version": 3
   },
   "file_extension": ".py",
   "mimetype": "text/x-python",
   "name": "python",
   "nbconvert_exporter": "python",
   "pygments_lexer": "ipython3",
   "version": "3.9.7"
  }
 },
 "nbformat": 4,
 "nbformat_minor": 4
}
